{
 "cells": [
  {
   "cell_type": "markdown",
   "metadata": {},
   "source": [
    "# Sentiment Analysis Web App\n",
    "\n",
    "_Deep Learning Nanodegree Program | Deployment_\n",
    "\n",
    "---\n",
    "\n",
    "In this notebook we will use Amazon's SageMaker service to construct a random tree model to predict the sentiment of a movie review. In addition, we will deploy this model to an endpoint and construct a very simple web app which will interact with our model's deployed endpoint.\n",
    "\n",
    "## General Outline\n",
    "\n",
    "Typically, when using a notebook instance with SageMaker, you will proceed through the following steps. Of course, not every step will need to be done with each project. Also, there is quite a lot of room for variation in many of the steps, as you will see throughout these lessons.\n",
    "\n",
    "1. Download or otherwise retrieve the data.\n",
    "2. Process / Prepare the data.\n",
    "3. Upload the processed data to S3.\n",
    "4. Train a chosen model.\n",
    "5. Test the trained model (typically using a batch transform job).\n",
    "6. Deploy the trained model.\n",
    "7. Use the deployed model.\n",
    "\n",
    "In this notebook we will progress through each of the steps above. We will also see that the final step, using the deployed model, can be quite challenging."
   ]
  },
  {
   "cell_type": "markdown",
   "metadata": {},
   "source": [
    "## Step 1: Downloading the data\n",
    "\n",
    "The dataset we are going to use is very popular among researchers in Natural Language Processing, usually referred to as the [IMDb dataset](http://ai.stanford.edu/~amaas/data/sentiment/). It consists of movie reviews from the website [imdb.com](http://www.imdb.com/), each labeled as either '**pos**itive', if the reviewer enjoyed the film, or '**neg**ative' otherwise.\n",
    "\n",
    "> Maas, Andrew L., et al. [Learning Word Vectors for Sentiment Analysis](http://ai.stanford.edu/~amaas/data/sentiment/). In _Proceedings of the 49th Annual Meeting of the Association for Computational Linguistics: Human Language Technologies_. Association for Computational Linguistics, 2011.\n",
    "\n",
    "We begin by using some Jupyter Notebook magic to download and extract the dataset."
   ]
  },
  {
   "cell_type": "code",
   "execution_count": 1,
   "metadata": {},
   "outputs": [
    {
     "name": "stdout",
     "output_type": "stream",
     "text": [
      "--2019-12-05 11:12:04--  http://ai.stanford.edu/~amaas/data/sentiment/aclImdb_v1.tar.gz\n",
      "Resolving ai.stanford.edu (ai.stanford.edu)... 171.64.68.10\n",
      "Connecting to ai.stanford.edu (ai.stanford.edu)|171.64.68.10|:80... connected.\n",
      "HTTP request sent, awaiting response... 200 OK\n",
      "Length: 84125825 (80M) [application/x-gzip]\n",
      "Saving to: ‘../data/aclImdb_v1.tar.gz’\n",
      "\n",
      "../data/aclImdb_v1. 100%[===================>]  80.23M  19.6MB/s    in 4.8s    \n",
      "\n",
      "2019-12-05 11:12:09 (16.7 MB/s) - ‘../data/aclImdb_v1.tar.gz’ saved [84125825/84125825]\n",
      "\n"
     ]
    }
   ],
   "source": [
    "%mkdir ../data\n",
    "!wget -O ../data/aclImdb_v1.tar.gz http://ai.stanford.edu/~amaas/data/sentiment/aclImdb_v1.tar.gz\n",
    "!tar -zxf ../data/aclImdb_v1.tar.gz -C ../data"
   ]
  },
  {
   "cell_type": "markdown",
   "metadata": {},
   "source": [
    "## Step 2: Preparing and Processing the data\n",
    "\n",
    "The data we have downloaded is split into various files, each of which contains a single review. It will be much easier going forward if we combine these individual files into two large files, one for training and one for testing."
   ]
  },
  {
   "cell_type": "code",
   "execution_count": 2,
   "metadata": {},
   "outputs": [],
   "source": [
    "import os\n",
    "import glob\n",
    "\n",
    "def read_imdb_data(data_dir='../data/aclImdb'):\n",
    "    data = {}\n",
    "    labels = {}\n",
    "    \n",
    "    for data_type in ['train', 'test']:\n",
    "        data[data_type] = {}\n",
    "        labels[data_type] = {}\n",
    "        \n",
    "        for sentiment in ['pos', 'neg']:\n",
    "            data[data_type][sentiment] = []\n",
    "            labels[data_type][sentiment] = []\n",
    "            \n",
    "            path = os.path.join(data_dir, data_type, sentiment, '*.txt')\n",
    "            files = glob.glob(path)\n",
    "            \n",
    "            for f in files:\n",
    "                with open(f) as review:\n",
    "                    data[data_type][sentiment].append(review.read())\n",
    "                    # Here we represent a positive review by '1' and a negative review by '0'\n",
    "                    labels[data_type][sentiment].append(1 if sentiment == 'pos' else 0)\n",
    "                    \n",
    "            assert len(data[data_type][sentiment]) == len(labels[data_type][sentiment]), \\\n",
    "                    \"{}/{} data size does not match labels size\".format(data_type, sentiment)\n",
    "                \n",
    "    return data, labels"
   ]
  },
  {
   "cell_type": "code",
   "execution_count": 3,
   "metadata": {},
   "outputs": [
    {
     "name": "stdout",
     "output_type": "stream",
     "text": [
      "IMDB reviews: train = 12500 pos / 12500 neg, test = 12500 pos / 12500 neg\n"
     ]
    }
   ],
   "source": [
    "data, labels = read_imdb_data()\n",
    "print(\"IMDB reviews: train = {} pos / {} neg, test = {} pos / {} neg\".format(\n",
    "            len(data['train']['pos']), len(data['train']['neg']),\n",
    "            len(data['test']['pos']), len(data['test']['neg'])))"
   ]
  },
  {
   "cell_type": "code",
   "execution_count": 4,
   "metadata": {},
   "outputs": [],
   "source": [
    "from sklearn.utils import shuffle\n",
    "\n",
    "def prepare_imdb_data(data, labels):\n",
    "    \"\"\"Prepare training and test sets from IMDb movie reviews.\"\"\"\n",
    "    \n",
    "    #Combine positive and negative reviews and labels\n",
    "    data_train = data['train']['pos'] + data['train']['neg']\n",
    "    data_test = data['test']['pos'] + data['test']['neg']\n",
    "    labels_train = labels['train']['pos'] + labels['train']['neg']\n",
    "    labels_test = labels['test']['pos'] + labels['test']['neg']\n",
    "    \n",
    "    #Shuffle reviews and corresponding labels within training and test sets\n",
    "    data_train, labels_train = shuffle(data_train, labels_train)\n",
    "    data_test, labels_test = shuffle(data_test, labels_test)\n",
    "    \n",
    "    # Return a unified training data, test data, training labels, test labets\n",
    "    return data_train, data_test, labels_train, labels_test"
   ]
  },
  {
   "cell_type": "code",
   "execution_count": 5,
   "metadata": {},
   "outputs": [
    {
     "name": "stdout",
     "output_type": "stream",
     "text": [
      "IMDb reviews (combined): train = 25000, test = 25000\n"
     ]
    }
   ],
   "source": [
    "train_X, test_X, train_y, test_y = prepare_imdb_data(data, labels)\n",
    "print(\"IMDb reviews (combined): train = {}, test = {}\".format(len(train_X), len(test_X)))"
   ]
  },
  {
   "cell_type": "code",
   "execution_count": 6,
   "metadata": {},
   "outputs": [
    {
     "data": {
      "text/plain": [
       "'The summer of 1979, when this flick was a staple on that new movie medium called HBO, was Gas Line Summer & Iranian Hostage Crisis Summer. A change of mood was about to end low-budget, loner-on-a-mission car films, although \"Smokey & the Bandit\" kept need-for-speed flicks going as live-action Roadrunner cartoons for a few more years. \"Corvette Summer\" is as quirky as any earlier movie like \"Vanishing Point\" or \"Dirty Mary, Crazy Larry,\" if lighter & sexier than most. Just-graduated, high-school automotive genius Kenneth (Hamill) hitchhikes to Vegas in pursuit of the car theft ring that ripped off his Shop Class masterpiece, a super-custom, right-hand-drive Vette. In the spiritual limbo of the I-15 desert (see \"Fear & Loathing in Las Vegas\") he gets into a custom van (yes, this was the tail end of the van craze, too) tricked out as a mobile bordello & driven by sassy, aspiring hooker Vanessa (Potts), on her way to Sin City to make her, well, whatever it is ambitious hookers make. VANessa, get it? Shy, innocent Kenneth is in way over his head in Vegas, with only his all-American resolve & his new friend to help him, although the hard-edged young call girl is predictably less world-wise than she first seems. Why, in the \"I am Woman\" age, Vanessa invested her talents, money & future in the world\\'s oldest but least dignified profession over, say, college or even hairdressing, can be explained by young men who\\'d like to think that all women at least consider the joys of that career path. Remember the target audience, right? Hamill is a good choice for the whitebread Kenneth (the car doesn\\'t even belong to him personally, but to his school), who won\\'t be deterred from his goal by violence, money or even love--until he finds out why the car was really stolen. Potts acts with style & energy but Vanessa is too incredible for any but the most credulous testosterone machine to buy into. The bad guys are made surprisingly human, especially by the always-fine Brion James. But there\\'s not much action & this isn\\'t the kind of movie that can be carried by dialog, plot twists or Heavy Themes. You could always reach up, turn the TV dial & plug in your \"Pong\" console. The similar but meaner Chris Mitchum vehicle \"Stingray,\" which appeared at about the same time, featured lamer acting but more skin, speed & mayhem. The best features of each film might have produced a Vette movie worth remembering. Thus the Trans Am was left to rule the box-office muscle car showroom. Another forgotten car movie brought back from the dead by \"Speed Channel\\'s\" fine weekend series, Lost Drive-in.'"
      ]
     },
     "execution_count": 6,
     "metadata": {},
     "output_type": "execute_result"
    }
   ],
   "source": [
    "train_X[100]"
   ]
  },
  {
   "cell_type": "markdown",
   "metadata": {},
   "source": [
    "## Processing the data\n",
    "\n",
    "Now that we have our training and testing datasets merged and ready to use, we need to start processing the raw data into something that will be useable by our machine learning algorithm. To begin with, we remove any html formatting and any non-alpha numeric characters that may appear in the reviews. We will do this in a very simplistic way using Python's regular expression module. We will discuss the reason for this rather simplistic pre-processing later on."
   ]
  },
  {
   "cell_type": "code",
   "execution_count": 7,
   "metadata": {},
   "outputs": [],
   "source": [
    "import re\n",
    "\n",
    "REPLACE_NO_SPACE = re.compile(\"(\\.)|(\\;)|(\\:)|(\\!)|(\\')|(\\?)|(\\,)|(\\\")|(\\()|(\\))|(\\[)|(\\])\")\n",
    "REPLACE_WITH_SPACE = re.compile(\"(<br\\s*/><br\\s*/>)|(\\-)|(\\/)\")\n",
    "\n",
    "def review_to_words(review):\n",
    "    words = REPLACE_NO_SPACE.sub(\"\", review.lower())\n",
    "    words = REPLACE_WITH_SPACE.sub(\" \", words)\n",
    "    return words"
   ]
  },
  {
   "cell_type": "code",
   "execution_count": 8,
   "metadata": {},
   "outputs": [
    {
     "data": {
      "text/plain": [
       "'the summer of 1979 when this flick was a staple on that new movie medium called hbo was gas line summer & iranian hostage crisis summer a change of mood was about to end low budget loner on a mission car films although smokey & the bandit kept need for speed flicks going as live action roadrunner cartoons for a few more years corvette summer is as quirky as any earlier movie like vanishing point or dirty mary crazy larry if lighter & sexier than most just graduated high school automotive genius kenneth hamill hitchhikes to vegas in pursuit of the car theft ring that ripped off his shop class masterpiece a super custom right hand drive vette in the spiritual limbo of the i 15 desert see fear & loathing in las vegas he gets into a custom van yes this was the tail end of the van craze too tricked out as a mobile bordello & driven by sassy aspiring hooker vanessa potts on her way to sin city to make her well whatever it is ambitious hookers make vanessa get it shy innocent kenneth is in way over his head in vegas with only his all american resolve & his new friend to help him although the hard edged young call girl is predictably less world wise than she first seems why in the i am woman age vanessa invested her talents money & future in the worlds oldest but least dignified profession over say college or even hairdressing can be explained by young men whod like to think that all women at least consider the joys of that career path remember the target audience right hamill is a good choice for the whitebread kenneth the car doesnt even belong to him personally but to his school who wont be deterred from his goal by violence money or even love  until he finds out why the car was really stolen potts acts with style & energy but vanessa is too incredible for any but the most credulous testosterone machine to buy into the bad guys are made surprisingly human especially by the always fine brion james but theres not much action & this isnt the kind of movie that can be carried by dialog plot twists or heavy themes you could always reach up turn the tv dial & plug in your pong console the similar but meaner chris mitchum vehicle stingray which appeared at about the same time featured lamer acting but more skin speed & mayhem the best features of each film might have produced a vette movie worth remembering thus the trans am was left to rule the box office muscle car showroom another forgotten car movie brought back from the dead by speed channels fine weekend series lost drive in'"
      ]
     },
     "execution_count": 8,
     "metadata": {},
     "output_type": "execute_result"
    }
   ],
   "source": [
    "review_to_words(train_X[100])"
   ]
  },
  {
   "cell_type": "code",
   "execution_count": 9,
   "metadata": {},
   "outputs": [],
   "source": [
    "import pickle\n",
    "\n",
    "cache_dir = os.path.join(\"../cache\", \"sentiment_web_app\")  # where to store cache files\n",
    "os.makedirs(cache_dir, exist_ok=True)  # ensure cache directory exists\n",
    "\n",
    "def preprocess_data(data_train, data_test, labels_train, labels_test,\n",
    "                    cache_dir=cache_dir, cache_file=\"preprocessed_data.pkl\"):\n",
    "    \"\"\"Convert each review to words; read from cache if available.\"\"\"\n",
    "\n",
    "    # If cache_file is not None, try to read from it first\n",
    "    cache_data = None\n",
    "    if cache_file is not None:\n",
    "        try:\n",
    "            with open(os.path.join(cache_dir, cache_file), \"rb\") as f:\n",
    "                cache_data = pickle.load(f)\n",
    "            print(\"Read preprocessed data from cache file:\", cache_file)\n",
    "        except:\n",
    "            pass  # unable to read from cache, but that's okay\n",
    "    \n",
    "    # If cache is missing, then do the heavy lifting\n",
    "    if cache_data is None:\n",
    "        # Preprocess training and test data to obtain words for each review\n",
    "        #words_train = list(map(review_to_words, data_train))\n",
    "        #words_test = list(map(review_to_words, data_test))\n",
    "        words_train = [review_to_words(review) for review in data_train]\n",
    "        words_test = [review_to_words(review) for review in data_test]\n",
    "        \n",
    "        # Write to cache file for future runs\n",
    "        if cache_file is not None:\n",
    "            cache_data = dict(words_train=words_train, words_test=words_test,\n",
    "                              labels_train=labels_train, labels_test=labels_test)\n",
    "            with open(os.path.join(cache_dir, cache_file), \"wb\") as f:\n",
    "                pickle.dump(cache_data, f)\n",
    "            print(\"Wrote preprocessed data to cache file:\", cache_file)\n",
    "    else:\n",
    "        # Unpack data loaded from cache file\n",
    "        words_train, words_test, labels_train, labels_test = (cache_data['words_train'],\n",
    "                cache_data['words_test'], cache_data['labels_train'], cache_data['labels_test'])\n",
    "    \n",
    "    return words_train, words_test, labels_train, labels_test"
   ]
  },
  {
   "cell_type": "code",
   "execution_count": 10,
   "metadata": {},
   "outputs": [
    {
     "name": "stdout",
     "output_type": "stream",
     "text": [
      "Wrote preprocessed data to cache file: preprocessed_data.pkl\n"
     ]
    }
   ],
   "source": [
    "# Preprocess data\n",
    "train_X, test_X, train_y, test_y = preprocess_data(train_X, test_X, train_y, test_y)"
   ]
  },
  {
   "cell_type": "markdown",
   "metadata": {},
   "source": [
    "### Extract Bag-of-Words features\n",
    "\n",
    "For the model we will be implementing, rather than using the reviews directly, we are going to transform each review into a Bag-of-Words feature representation. Keep in mind that 'in the wild' we will only have access to the training set so our transformer can only use the training set to construct a representation."
   ]
  },
  {
   "cell_type": "code",
   "execution_count": 11,
   "metadata": {},
   "outputs": [],
   "source": [
    "import numpy as np\n",
    "from sklearn.feature_extraction.text import CountVectorizer\n",
    "from sklearn.externals import joblib\n",
    "# joblib is an enhanced version of pickle that is more efficient for storing NumPy arrays\n",
    "\n",
    "def extract_BoW_features(words_train, words_test, vocabulary_size=5000,\n",
    "                         cache_dir=cache_dir, cache_file=\"bow_features.pkl\"):\n",
    "    \"\"\"Extract Bag-of-Words for a given set of documents, already preprocessed into words.\"\"\"\n",
    "    \n",
    "    # If cache_file is not None, try to read from it first\n",
    "    cache_data = None\n",
    "    if cache_file is not None:\n",
    "        try:\n",
    "            with open(os.path.join(cache_dir, cache_file), \"rb\") as f:\n",
    "                cache_data = joblib.load(f)\n",
    "            print(\"Read features from cache file:\", cache_file)\n",
    "        except:\n",
    "            pass  # unable to read from cache, but that's okay\n",
    "    \n",
    "    # If cache is missing, then do the heavy lifting\n",
    "    if cache_data is None:\n",
    "        # Fit a vectorizer to training documents and use it to transform them\n",
    "        # NOTE: Training documents have already been preprocessed and tokenized into words;\n",
    "        #       pass in dummy functions to skip those steps, e.g. preprocessor=lambda x: x\n",
    "        vectorizer = CountVectorizer(max_features=vocabulary_size)\n",
    "        features_train = vectorizer.fit_transform(words_train).toarray()\n",
    "\n",
    "        # Apply the same vectorizer to transform the test documents (ignore unknown words)\n",
    "        features_test = vectorizer.transform(words_test).toarray()\n",
    "        \n",
    "        # NOTE: Remember to convert the features using .toarray() for a compact representation\n",
    "        \n",
    "        # Write to cache file for future runs (store vocabulary as well)\n",
    "        if cache_file is not None:\n",
    "            vocabulary = vectorizer.vocabulary_\n",
    "            cache_data = dict(features_train=features_train, features_test=features_test,\n",
    "                             vocabulary=vocabulary)\n",
    "            with open(os.path.join(cache_dir, cache_file), \"wb\") as f:\n",
    "                joblib.dump(cache_data, f)\n",
    "            print(\"Wrote features to cache file:\", cache_file)\n",
    "    else:\n",
    "        # Unpack data loaded from cache file\n",
    "        features_train, features_test, vocabulary = (cache_data['features_train'],\n",
    "                cache_data['features_test'], cache_data['vocabulary'])\n",
    "    \n",
    "    # Return both the extracted features as well as the vocabulary\n",
    "    return features_train, features_test, vocabulary"
   ]
  },
  {
   "cell_type": "code",
   "execution_count": 12,
   "metadata": {},
   "outputs": [
    {
     "name": "stdout",
     "output_type": "stream",
     "text": [
      "Wrote features to cache file: bow_features.pkl\n"
     ]
    }
   ],
   "source": [
    "# Extract Bag of Words features for both training and test datasets\n",
    "train_X, test_X, vocabulary = extract_BoW_features(train_X, test_X)"
   ]
  },
  {
   "cell_type": "code",
   "execution_count": 13,
   "metadata": {},
   "outputs": [
    {
     "data": {
      "text/plain": [
       "5000"
      ]
     },
     "execution_count": 13,
     "metadata": {},
     "output_type": "execute_result"
    }
   ],
   "source": [
    "len(train_X[100])"
   ]
  },
  {
   "cell_type": "markdown",
   "metadata": {},
   "source": [
    "## Step 3: Upload data to S3\n",
    "\n",
    "Now that we have created the feature representation of our training (and testing) data, it is time to start setting up and using the XGBoost classifier provided by SageMaker.\n",
    "\n",
    "### Writing the datasets\n",
    "\n",
    "The XGBoost classifier that we will be using requires the dataset to be written to a file and stored using Amazon S3. To do this, we will start by splitting the training dataset into two parts, the data we will train the model with and a validation set. Then, we will write those datasets to a file locally and then upload the files to S3. In addition, we will write the test set to a file and upload that file to S3. This is so that we can use SageMakers Batch Transform functionality to test our model once we've fit it."
   ]
  },
  {
   "cell_type": "code",
   "execution_count": 14,
   "metadata": {},
   "outputs": [],
   "source": [
    "import pandas as pd\n",
    "\n",
    "# Earlier we shuffled the training dataset so to make things simple we can just assign\n",
    "# the first 10 000 reviews to the validation set and use the remaining reviews for training.\n",
    "val_X = pd.DataFrame(train_X[:10000])\n",
    "train_X = pd.DataFrame(train_X[10000:])\n",
    "\n",
    "val_y = pd.DataFrame(train_y[:10000])\n",
    "train_y = pd.DataFrame(train_y[10000:])"
   ]
  },
  {
   "cell_type": "markdown",
   "metadata": {},
   "source": [
    "The documentation for the XGBoost algorithm in SageMaker requires that the training and validation datasets should contain no headers or index and that the label should occur first for each sample.\n",
    "\n",
    "For more information about this and other algorithms, the SageMaker developer documentation can be found on __[Amazon's website.](https://docs.aws.amazon.com/sagemaker/latest/dg/)__"
   ]
  },
  {
   "cell_type": "code",
   "execution_count": 15,
   "metadata": {},
   "outputs": [],
   "source": [
    "# First we make sure that the local directory in which we'd like to store the training and validation csv files exists.\n",
    "data_dir = '../data/sentiment_web_app'\n",
    "if not os.path.exists(data_dir):\n",
    "    os.makedirs(data_dir)"
   ]
  },
  {
   "cell_type": "code",
   "execution_count": 16,
   "metadata": {},
   "outputs": [],
   "source": [
    "pd.DataFrame(test_X).to_csv(os.path.join(data_dir, 'test.csv'), header=False, index=False)\n",
    "\n",
    "pd.concat([val_y, val_X], axis=1).to_csv(os.path.join(data_dir, 'validation.csv'), header=False, index=False)\n",
    "pd.concat([train_y, train_X], axis=1).to_csv(os.path.join(data_dir, 'train.csv'), header=False, index=False)"
   ]
  },
  {
   "cell_type": "code",
   "execution_count": 17,
   "metadata": {},
   "outputs": [],
   "source": [
    "# To save a bit of memory we can set text_X, train_X, val_X, train_y and val_y to None.\n",
    "\n",
    "test_X = train_X = val_X = train_y = val_y = None"
   ]
  },
  {
   "cell_type": "markdown",
   "metadata": {},
   "source": [
    "### Uploading Training / Validation files to S3\n",
    "\n",
    "Amazon's S3 service allows us to store files that can be accessed by both the built-in training models such as the XGBoost model we will be using as well as custom models such as the one we will see a little later.\n",
    "\n",
    "For this and most other tasks we will be doing using SageMaker, there are two methods we could use. The first is to use the low level functionality of SageMaker which requires knowing each of the objects involved in the SageMaker environment. The second is to use the high level functionality in which certain choices have been made on the user's behalf. The low level approach benefits from allowing the user a great deal of flexibility while the high level approach makes development much quicker. For our purposes we will opt to use the high level approach although using the low-level approach is certainly an option.\n",
    "\n",
    "Recall the method `upload_data()` which is a member of the object representing our current SageMaker session. What this method does is upload the data to the default bucket (which is created if it does not exist) into the path described by the key_prefix variable. To see this for yourself, once you have uploaded the data files, go to the S3 console and look to see where the files have been uploaded.\n",
    "\n",
    "For additional resources, see the __[SageMaker API documentation](http://sagemaker.readthedocs.io/en/latest/)__ and in addition the __[SageMaker Developer Guide.](https://docs.aws.amazon.com/sagemaker/latest/dg/)__"
   ]
  },
  {
   "cell_type": "code",
   "execution_count": 18,
   "metadata": {},
   "outputs": [],
   "source": [
    "import sagemaker\n",
    "\n",
    "session = sagemaker.Session() # Store the current SageMaker session\n",
    "\n",
    "# S3 prefix (which folder will we use)\n",
    "prefix = 'sentiment-web-app'\n",
    "\n",
    "test_location = session.upload_data(os.path.join(data_dir, 'test.csv'), key_prefix=prefix)\n",
    "val_location = session.upload_data(os.path.join(data_dir, 'validation.csv'), key_prefix=prefix)\n",
    "train_location = session.upload_data(os.path.join(data_dir, 'train.csv'), key_prefix=prefix)"
   ]
  },
  {
   "cell_type": "markdown",
   "metadata": {},
   "source": [
    "## Step 4: Creating the XGBoost model\n",
    "\n",
    "Now that the data has been uploaded it is time to create the XGBoost model. To begin with, we need to do some setup. At this point it is worth discussing what a model is in SageMaker. It is easiest to think of a model of comprising three different objects in the SageMaker ecosystem, which interact with one another.\n",
    "\n",
    "- Model Artifacts\n",
    "- Training Code (Container)\n",
    "- Inference Code (Container)\n",
    "\n",
    "The Model Artifacts are what you might think of as the actual model itself. For example, if you were building a neural network, the model artifacts would be the weights of the various layers. In our case, for an XGBoost model, the artifacts are the actual trees that are created during training.\n",
    "\n",
    "The other two objects, the training code and the inference code are then used to manipulate the training artifacts. More precisely, the training code uses the training data that is provided and creates the model artifacts, while the inference code uses the model artifacts to make predictions on new data.\n",
    "\n",
    "The way that SageMaker runs the training and inference code is by making use of Docker containers. For now, think of a container as being a way of packaging code up so that dependencies aren't an issue."
   ]
  },
  {
   "cell_type": "code",
   "execution_count": 19,
   "metadata": {},
   "outputs": [],
   "source": [
    "from sagemaker import get_execution_role\n",
    "\n",
    "# Our current execution role is required when creating the model as the training\n",
    "# and inference code will need to access the model artifacts.\n",
    "role = get_execution_role()"
   ]
  },
  {
   "cell_type": "code",
   "execution_count": 20,
   "metadata": {},
   "outputs": [
    {
     "name": "stderr",
     "output_type": "stream",
     "text": [
      "WARNING:root:There is a more up to date SageMaker XGBoost image. To use the newer image, please set 'repo_version'='0.90-1'. For example:\n",
      "\tget_image_uri(region, 'xgboost', '0.90-1').\n"
     ]
    }
   ],
   "source": [
    "# We need to retrieve the location of the container which is provided by Amazon for using XGBoost.\n",
    "# As a matter of convenience, the training and inference code both use the same container.\n",
    "from sagemaker.amazon.amazon_estimator import get_image_uri\n",
    "\n",
    "container = get_image_uri(session.boto_region_name, 'xgboost')"
   ]
  },
  {
   "cell_type": "code",
   "execution_count": 21,
   "metadata": {},
   "outputs": [],
   "source": [
    "# First we create a SageMaker estimator object for our model.\n",
    "xgb = sagemaker.estimator.Estimator(container, # The location of the container we wish to use\n",
    "                                    role,                                    # What is our current IAM Role\n",
    "                                    train_instance_count=1,                  # How many compute instances\n",
    "                                    train_instance_type='ml.m4.xlarge',      # What kind of compute instances\n",
    "                                    output_path='s3://{}/{}/output'.format(session.default_bucket(), prefix),\n",
    "                                    sagemaker_session=session)\n",
    "\n",
    "# And then set the algorithm specific parameters.\n",
    "xgb.set_hyperparameters(max_depth=5,\n",
    "                        eta=0.2,\n",
    "                        gamma=4,\n",
    "                        min_child_weight=6,\n",
    "                        subsample=0.8,\n",
    "                        silent=0,\n",
    "                        objective='binary:logistic',\n",
    "                        early_stopping_rounds=10,\n",
    "                        num_round=500)"
   ]
  },
  {
   "cell_type": "markdown",
   "metadata": {},
   "source": [
    "### Fit the XGBoost model\n",
    "\n",
    "Now that our model has been set up we simply need to attach the training and validation datasets and then ask SageMaker to set up the computation."
   ]
  },
  {
   "cell_type": "code",
   "execution_count": 22,
   "metadata": {},
   "outputs": [],
   "source": [
    "s3_input_train = sagemaker.s3_input(s3_data=train_location, content_type='csv')\n",
    "s3_input_validation = sagemaker.s3_input(s3_data=val_location, content_type='csv')"
   ]
  },
  {
   "cell_type": "code",
   "execution_count": 23,
   "metadata": {},
   "outputs": [
    {
     "name": "stdout",
     "output_type": "stream",
     "text": [
      "2019-12-05 11:27:58 Starting - Starting the training job...\n",
      "2019-12-05 11:27:59 Starting - Launching requested ML instances......\n",
      "2019-12-05 11:29:03 Starting - Preparing the instances for training...\n",
      "2019-12-05 11:29:54 Downloading - Downloading input data...\n",
      "2019-12-05 11:30:13 Training - Downloading the training image..\u001b[34mArguments: train\u001b[0m\n",
      "\u001b[34m[2019-12-05:11:30:39:INFO] Running standalone xgboost training.\u001b[0m\n",
      "\u001b[34m[2019-12-05:11:30:39:INFO] File size need to be processed in the node: 238.5mb. Available memory size in the node: 8519.03mb\u001b[0m\n",
      "\u001b[34m[2019-12-05:11:30:39:INFO] Determined delimiter of CSV input is ','\u001b[0m\n",
      "\u001b[34m[11:30:39] S3DistributionType set as FullyReplicated\u001b[0m\n",
      "\u001b[34m[11:30:41] 15000x5000 matrix with 75000000 entries loaded from /opt/ml/input/data/train?format=csv&label_column=0&delimiter=,\u001b[0m\n",
      "\u001b[34m[2019-12-05:11:30:41:INFO] Determined delimiter of CSV input is ','\u001b[0m\n",
      "\u001b[34m[11:30:41] S3DistributionType set as FullyReplicated\u001b[0m\n",
      "\u001b[34m[11:30:42] 10000x5000 matrix with 50000000 entries loaded from /opt/ml/input/data/validation?format=csv&label_column=0&delimiter=,\u001b[0m\n",
      "\n",
      "2019-12-05 11:30:38 Training - Training image download completed. Training in progress.\u001b[34m[11:30:46] src/tree/updater_prune.cc:74: tree pruning end, 1 roots, 38 extra nodes, 12 pruned nodes, max_depth=5\u001b[0m\n",
      "\u001b[34m[0]#011train-error:0.304133#011validation-error:0.3076\u001b[0m\n",
      "\u001b[34mMultiple eval metrics have been passed: 'validation-error' will be used for early stopping.\n",
      "\u001b[0m\n",
      "\u001b[34mWill train until validation-error hasn't improved in 10 rounds.\u001b[0m\n",
      "\u001b[34m[11:30:47] src/tree/updater_prune.cc:74: tree pruning end, 1 roots, 40 extra nodes, 6 pruned nodes, max_depth=5\u001b[0m\n",
      "\u001b[34m[1]#011train-error:0.304067#011validation-error:0.3063\u001b[0m\n",
      "\u001b[34m[11:30:48] src/tree/updater_prune.cc:74: tree pruning end, 1 roots, 38 extra nodes, 6 pruned nodes, max_depth=5\u001b[0m\n",
      "\u001b[34m[2]#011train-error:0.284267#011validation-error:0.2878\u001b[0m\n",
      "\u001b[34m[11:30:50] src/tree/updater_prune.cc:74: tree pruning end, 1 roots, 32 extra nodes, 8 pruned nodes, max_depth=5\u001b[0m\n",
      "\u001b[34m[3]#011train-error:0.2754#011validation-error:0.2808\u001b[0m\n",
      "\u001b[34m[11:30:51] src/tree/updater_prune.cc:74: tree pruning end, 1 roots, 40 extra nodes, 4 pruned nodes, max_depth=5\u001b[0m\n",
      "\u001b[34m[4]#011train-error:0.268067#011validation-error:0.2748\u001b[0m\n",
      "\u001b[34m[11:30:53] src/tree/updater_prune.cc:74: tree pruning end, 1 roots, 32 extra nodes, 2 pruned nodes, max_depth=5\u001b[0m\n",
      "\u001b[34m[5]#011train-error:0.2566#011validation-error:0.2671\u001b[0m\n",
      "\u001b[34m[11:30:54] src/tree/updater_prune.cc:74: tree pruning end, 1 roots, 26 extra nodes, 16 pruned nodes, max_depth=5\u001b[0m\n",
      "\u001b[34m[6]#011train-error:0.250933#011validation-error:0.259\u001b[0m\n",
      "\u001b[34m[11:30:55] src/tree/updater_prune.cc:74: tree pruning end, 1 roots, 30 extra nodes, 0 pruned nodes, max_depth=5\u001b[0m\n",
      "\u001b[34m[7]#011train-error:0.2444#011validation-error:0.2527\u001b[0m\n",
      "\u001b[34m[11:30:56] src/tree/updater_prune.cc:74: tree pruning end, 1 roots, 30 extra nodes, 8 pruned nodes, max_depth=5\u001b[0m\n",
      "\u001b[34m[8]#011train-error:0.237733#011validation-error:0.2477\u001b[0m\n",
      "\u001b[34m[11:30:58] src/tree/updater_prune.cc:74: tree pruning end, 1 roots, 28 extra nodes, 6 pruned nodes, max_depth=5\u001b[0m\n",
      "\u001b[34m[9]#011train-error:0.227333#011validation-error:0.24\u001b[0m\n",
      "\u001b[34m[11:30:59] src/tree/updater_prune.cc:74: tree pruning end, 1 roots, 28 extra nodes, 10 pruned nodes, max_depth=5\u001b[0m\n",
      "\u001b[34m[10]#011train-error:0.225333#011validation-error:0.2363\u001b[0m\n",
      "\u001b[34m[11:31:00] src/tree/updater_prune.cc:74: tree pruning end, 1 roots, 42 extra nodes, 12 pruned nodes, max_depth=5\u001b[0m\n",
      "\u001b[34m[11]#011train-error:0.2186#011validation-error:0.2312\u001b[0m\n",
      "\u001b[34m[11:31:01] src/tree/updater_prune.cc:74: tree pruning end, 1 roots, 32 extra nodes, 2 pruned nodes, max_depth=5\u001b[0m\n",
      "\u001b[34m[12]#011train-error:0.217067#011validation-error:0.2285\u001b[0m\n",
      "\u001b[34m[11:31:03] src/tree/updater_prune.cc:74: tree pruning end, 1 roots, 36 extra nodes, 4 pruned nodes, max_depth=5\u001b[0m\n",
      "\u001b[34m[13]#011train-error:0.209733#011validation-error:0.2239\u001b[0m\n",
      "\u001b[34m[11:31:04] src/tree/updater_prune.cc:74: tree pruning end, 1 roots, 26 extra nodes, 6 pruned nodes, max_depth=5\u001b[0m\n",
      "\u001b[34m[14]#011train-error:0.205#011validation-error:0.2212\u001b[0m\n",
      "\u001b[34m[11:31:05] src/tree/updater_prune.cc:74: tree pruning end, 1 roots, 20 extra nodes, 4 pruned nodes, max_depth=5\u001b[0m\n",
      "\u001b[34m[15]#011train-error:0.202467#011validation-error:0.2162\u001b[0m\n",
      "\u001b[34m[11:31:06] src/tree/updater_prune.cc:74: tree pruning end, 1 roots, 30 extra nodes, 6 pruned nodes, max_depth=5\u001b[0m\n",
      "\u001b[34m[16]#011train-error:0.1982#011validation-error:0.2152\u001b[0m\n",
      "\u001b[34m[11:31:08] src/tree/updater_prune.cc:74: tree pruning end, 1 roots, 34 extra nodes, 8 pruned nodes, max_depth=5\u001b[0m\n",
      "\u001b[34m[17]#011train-error:0.197267#011validation-error:0.2151\u001b[0m\n",
      "\u001b[34m[11:31:09] src/tree/updater_prune.cc:74: tree pruning end, 1 roots, 26 extra nodes, 8 pruned nodes, max_depth=5\u001b[0m\n",
      "\u001b[34m[18]#011train-error:0.195#011validation-error:0.2128\u001b[0m\n",
      "\u001b[34m[11:31:10] src/tree/updater_prune.cc:74: tree pruning end, 1 roots, 30 extra nodes, 8 pruned nodes, max_depth=5\u001b[0m\n",
      "\u001b[34m[19]#011train-error:0.193#011validation-error:0.2123\u001b[0m\n",
      "\u001b[34m[11:31:12] src/tree/updater_prune.cc:74: tree pruning end, 1 roots, 30 extra nodes, 10 pruned nodes, max_depth=5\u001b[0m\n",
      "\u001b[34m[20]#011train-error:0.1878#011validation-error:0.21\u001b[0m\n",
      "\u001b[34m[11:31:13] src/tree/updater_prune.cc:74: tree pruning end, 1 roots, 38 extra nodes, 2 pruned nodes, max_depth=5\u001b[0m\n",
      "\u001b[34m[21]#011train-error:0.1834#011validation-error:0.208\u001b[0m\n",
      "\u001b[34m[11:31:14] src/tree/updater_prune.cc:74: tree pruning end, 1 roots, 28 extra nodes, 6 pruned nodes, max_depth=5\u001b[0m\n",
      "\u001b[34m[22]#011train-error:0.181733#011validation-error:0.2057\u001b[0m\n",
      "\u001b[34m[11:31:15] src/tree/updater_prune.cc:74: tree pruning end, 1 roots, 26 extra nodes, 10 pruned nodes, max_depth=5\u001b[0m\n",
      "\u001b[34m[23]#011train-error:0.1802#011validation-error:0.2022\u001b[0m\n",
      "\u001b[34m[11:31:17] src/tree/updater_prune.cc:74: tree pruning end, 1 roots, 28 extra nodes, 12 pruned nodes, max_depth=5\u001b[0m\n",
      "\u001b[34m[24]#011train-error:0.177867#011validation-error:0.2003\u001b[0m\n",
      "\u001b[34m[11:31:18] src/tree/updater_prune.cc:74: tree pruning end, 1 roots, 26 extra nodes, 6 pruned nodes, max_depth=5\u001b[0m\n",
      "\u001b[34m[25]#011train-error:0.176#011validation-error:0.1993\u001b[0m\n",
      "\u001b[34m[11:31:19] src/tree/updater_prune.cc:74: tree pruning end, 1 roots, 24 extra nodes, 8 pruned nodes, max_depth=5\u001b[0m\n",
      "\u001b[34m[26]#011train-error:0.174533#011validation-error:0.1968\u001b[0m\n",
      "\u001b[34m[11:31:20] src/tree/updater_prune.cc:74: tree pruning end, 1 roots, 34 extra nodes, 12 pruned nodes, max_depth=5\u001b[0m\n",
      "\u001b[34m[27]#011train-error:0.173267#011validation-error:0.1957\u001b[0m\n",
      "\u001b[34m[11:31:22] src/tree/updater_prune.cc:74: tree pruning end, 1 roots, 16 extra nodes, 8 pruned nodes, max_depth=5\u001b[0m\n",
      "\u001b[34m[28]#011train-error:0.171133#011validation-error:0.194\u001b[0m\n",
      "\u001b[34m[11:31:23] src/tree/updater_prune.cc:74: tree pruning end, 1 roots, 14 extra nodes, 10 pruned nodes, max_depth=5\u001b[0m\n",
      "\u001b[34m[29]#011train-error:0.169133#011validation-error:0.1921\u001b[0m\n",
      "\u001b[34m[11:31:24] src/tree/updater_prune.cc:74: tree pruning end, 1 roots, 26 extra nodes, 4 pruned nodes, max_depth=5\u001b[0m\n",
      "\u001b[34m[30]#011train-error:0.167067#011validation-error:0.1903\u001b[0m\n",
      "\u001b[34m[11:31:26] src/tree/updater_prune.cc:74: tree pruning end, 1 roots, 20 extra nodes, 8 pruned nodes, max_depth=5\u001b[0m\n",
      "\u001b[34m[31]#011train-error:0.165067#011validation-error:0.1893\u001b[0m\n",
      "\u001b[34m[11:31:27] src/tree/updater_prune.cc:74: tree pruning end, 1 roots, 26 extra nodes, 6 pruned nodes, max_depth=5\u001b[0m\n",
      "\u001b[34m[32]#011train-error:0.163467#011validation-error:0.1883\u001b[0m\n",
      "\u001b[34m[11:31:28] src/tree/updater_prune.cc:74: tree pruning end, 1 roots, 22 extra nodes, 12 pruned nodes, max_depth=5\u001b[0m\n",
      "\u001b[34m[33]#011train-error:0.162267#011validation-error:0.1879\u001b[0m\n",
      "\u001b[34m[11:31:29] src/tree/updater_prune.cc:74: tree pruning end, 1 roots, 32 extra nodes, 8 pruned nodes, max_depth=5\u001b[0m\n",
      "\u001b[34m[34]#011train-error:0.159467#011validation-error:0.1856\u001b[0m\n",
      "\u001b[34m[11:31:31] src/tree/updater_prune.cc:74: tree pruning end, 1 roots, 26 extra nodes, 10 pruned nodes, max_depth=5\u001b[0m\n",
      "\u001b[34m[35]#011train-error:0.158667#011validation-error:0.185\u001b[0m\n",
      "\u001b[34m[11:31:32] src/tree/updater_prune.cc:74: tree pruning end, 1 roots, 18 extra nodes, 6 pruned nodes, max_depth=5\u001b[0m\n",
      "\u001b[34m[36]#011train-error:0.157067#011validation-error:0.1843\u001b[0m\n",
      "\u001b[34m[11:31:33] src/tree/updater_prune.cc:74: tree pruning end, 1 roots, 32 extra nodes, 6 pruned nodes, max_depth=5\u001b[0m\n",
      "\u001b[34m[37]#011train-error:0.153867#011validation-error:0.184\u001b[0m\n",
      "\u001b[34m[11:31:34] src/tree/updater_prune.cc:74: tree pruning end, 1 roots, 16 extra nodes, 10 pruned nodes, max_depth=5\u001b[0m\n",
      "\u001b[34m[38]#011train-error:0.152467#011validation-error:0.1834\u001b[0m\n",
      "\u001b[34m[11:31:36] src/tree/updater_prune.cc:74: tree pruning end, 1 roots, 38 extra nodes, 6 pruned nodes, max_depth=5\u001b[0m\n",
      "\u001b[34m[39]#011train-error:0.150267#011validation-error:0.1842\u001b[0m\n"
     ]
    },
    {
     "name": "stdout",
     "output_type": "stream",
     "text": [
      "\u001b[34m[11:31:37] src/tree/updater_prune.cc:74: tree pruning end, 1 roots, 18 extra nodes, 8 pruned nodes, max_depth=5\u001b[0m\n",
      "\u001b[34m[40]#011train-error:0.150267#011validation-error:0.1831\u001b[0m\n",
      "\u001b[34m[11:31:38] src/tree/updater_prune.cc:74: tree pruning end, 1 roots, 20 extra nodes, 18 pruned nodes, max_depth=5\u001b[0m\n",
      "\u001b[34m[41]#011train-error:0.149667#011validation-error:0.1814\u001b[0m\n",
      "\u001b[34m[11:31:39] src/tree/updater_prune.cc:74: tree pruning end, 1 roots, 12 extra nodes, 8 pruned nodes, max_depth=5\u001b[0m\n",
      "\u001b[34m[42]#011train-error:0.148667#011validation-error:0.1804\u001b[0m\n",
      "\u001b[34m[11:31:41] src/tree/updater_prune.cc:74: tree pruning end, 1 roots, 30 extra nodes, 10 pruned nodes, max_depth=5\u001b[0m\n",
      "\u001b[34m[43]#011train-error:0.1476#011validation-error:0.1794\u001b[0m\n",
      "\u001b[34m[11:31:42] src/tree/updater_prune.cc:74: tree pruning end, 1 roots, 28 extra nodes, 12 pruned nodes, max_depth=5\u001b[0m\n",
      "\u001b[34m[44]#011train-error:0.145133#011validation-error:0.1778\u001b[0m\n",
      "\u001b[34m[11:31:43] src/tree/updater_prune.cc:74: tree pruning end, 1 roots, 20 extra nodes, 8 pruned nodes, max_depth=5\u001b[0m\n",
      "\u001b[34m[45]#011train-error:0.143333#011validation-error:0.1778\u001b[0m\n",
      "\u001b[34m[11:31:44] src/tree/updater_prune.cc:74: tree pruning end, 1 roots, 34 extra nodes, 4 pruned nodes, max_depth=5\u001b[0m\n",
      "\u001b[34m[46]#011train-error:0.141733#011validation-error:0.1787\u001b[0m\n",
      "\u001b[34m[11:31:46] src/tree/updater_prune.cc:74: tree pruning end, 1 roots, 16 extra nodes, 6 pruned nodes, max_depth=5\u001b[0m\n",
      "\u001b[34m[47]#011train-error:0.140533#011validation-error:0.1774\u001b[0m\n",
      "\u001b[34m[11:31:47] src/tree/updater_prune.cc:74: tree pruning end, 1 roots, 22 extra nodes, 10 pruned nodes, max_depth=5\u001b[0m\n",
      "\u001b[34m[48]#011train-error:0.1402#011validation-error:0.1746\u001b[0m\n",
      "\u001b[34m[11:31:48] src/tree/updater_prune.cc:74: tree pruning end, 1 roots, 28 extra nodes, 12 pruned nodes, max_depth=5\u001b[0m\n",
      "\u001b[34m[49]#011train-error:0.1398#011validation-error:0.174\u001b[0m\n",
      "\u001b[34m[11:31:49] src/tree/updater_prune.cc:74: tree pruning end, 1 roots, 20 extra nodes, 10 pruned nodes, max_depth=5\u001b[0m\n",
      "\u001b[34m[50]#011train-error:0.1392#011validation-error:0.174\u001b[0m\n",
      "\u001b[34m[11:31:51] src/tree/updater_prune.cc:74: tree pruning end, 1 roots, 28 extra nodes, 4 pruned nodes, max_depth=5\u001b[0m\n",
      "\u001b[34m[51]#011train-error:0.136533#011validation-error:0.1749\u001b[0m\n",
      "\u001b[34m[11:31:52] src/tree/updater_prune.cc:74: tree pruning end, 1 roots, 32 extra nodes, 2 pruned nodes, max_depth=5\u001b[0m\n",
      "\u001b[34m[52]#011train-error:0.136133#011validation-error:0.1733\u001b[0m\n",
      "\u001b[34m[11:31:53] src/tree/updater_prune.cc:74: tree pruning end, 1 roots, 14 extra nodes, 6 pruned nodes, max_depth=5\u001b[0m\n",
      "\u001b[34m[53]#011train-error:0.136067#011validation-error:0.172\u001b[0m\n",
      "\u001b[34m[11:31:54] src/tree/updater_prune.cc:74: tree pruning end, 1 roots, 16 extra nodes, 16 pruned nodes, max_depth=5\u001b[0m\n",
      "\u001b[34m[54]#011train-error:0.134467#011validation-error:0.1722\u001b[0m\n",
      "\u001b[34m[11:31:56] src/tree/updater_prune.cc:74: tree pruning end, 1 roots, 14 extra nodes, 10 pruned nodes, max_depth=5\u001b[0m\n",
      "\u001b[34m[55]#011train-error:0.133667#011validation-error:0.1714\u001b[0m\n",
      "\u001b[34m[11:31:57] src/tree/updater_prune.cc:74: tree pruning end, 1 roots, 30 extra nodes, 10 pruned nodes, max_depth=5\u001b[0m\n",
      "\u001b[34m[56]#011train-error:0.132733#011validation-error:0.171\u001b[0m\n",
      "\u001b[34m[11:31:58] src/tree/updater_prune.cc:74: tree pruning end, 1 roots, 20 extra nodes, 6 pruned nodes, max_depth=5\u001b[0m\n",
      "\u001b[34m[57]#011train-error:0.131067#011validation-error:0.1713\u001b[0m\n",
      "\u001b[34m[11:32:00] src/tree/updater_prune.cc:74: tree pruning end, 1 roots, 24 extra nodes, 12 pruned nodes, max_depth=5\u001b[0m\n",
      "\u001b[34m[58]#011train-error:0.130733#011validation-error:0.171\u001b[0m\n",
      "\u001b[34m[11:32:01] src/tree/updater_prune.cc:74: tree pruning end, 1 roots, 26 extra nodes, 14 pruned nodes, max_depth=5\u001b[0m\n",
      "\u001b[34m[59]#011train-error:0.129467#011validation-error:0.1695\u001b[0m\n",
      "\u001b[34m[11:32:02] src/tree/updater_prune.cc:74: tree pruning end, 1 roots, 18 extra nodes, 10 pruned nodes, max_depth=5\u001b[0m\n",
      "\u001b[34m[60]#011train-error:0.1286#011validation-error:0.1698\u001b[0m\n",
      "\u001b[34m[11:32:03] src/tree/updater_prune.cc:74: tree pruning end, 1 roots, 10 extra nodes, 8 pruned nodes, max_depth=5\u001b[0m\n",
      "\u001b[34m[61]#011train-error:0.1288#011validation-error:0.1685\u001b[0m\n",
      "\u001b[34m[11:32:05] src/tree/updater_prune.cc:74: tree pruning end, 1 roots, 38 extra nodes, 6 pruned nodes, max_depth=5\u001b[0m\n",
      "\u001b[34m[62]#011train-error:0.125933#011validation-error:0.1666\u001b[0m\n",
      "\u001b[34m[11:32:06] src/tree/updater_prune.cc:74: tree pruning end, 1 roots, 18 extra nodes, 12 pruned nodes, max_depth=5\u001b[0m\n",
      "\u001b[34m[63]#011train-error:0.125867#011validation-error:0.1664\u001b[0m\n",
      "\u001b[34m[11:32:07] src/tree/updater_prune.cc:74: tree pruning end, 1 roots, 16 extra nodes, 12 pruned nodes, max_depth=5\u001b[0m\n",
      "\u001b[34m[64]#011train-error:0.1256#011validation-error:0.1654\u001b[0m\n",
      "\u001b[34m[11:32:08] src/tree/updater_prune.cc:74: tree pruning end, 1 roots, 24 extra nodes, 14 pruned nodes, max_depth=5\u001b[0m\n",
      "\u001b[34m[65]#011train-error:0.1246#011validation-error:0.1654\u001b[0m\n",
      "\u001b[34m[11:32:10] src/tree/updater_prune.cc:74: tree pruning end, 1 roots, 24 extra nodes, 4 pruned nodes, max_depth=5\u001b[0m\n",
      "\u001b[34m[66]#011train-error:0.122933#011validation-error:0.1649\u001b[0m\n",
      "\u001b[34m[11:32:11] src/tree/updater_prune.cc:74: tree pruning end, 1 roots, 32 extra nodes, 6 pruned nodes, max_depth=5\u001b[0m\n",
      "\u001b[34m[67]#011train-error:0.122133#011validation-error:0.1641\u001b[0m\n",
      "\u001b[34m[11:32:12] src/tree/updater_prune.cc:74: tree pruning end, 1 roots, 18 extra nodes, 14 pruned nodes, max_depth=5\u001b[0m\n",
      "\u001b[34m[68]#011train-error:0.1212#011validation-error:0.1623\u001b[0m\n",
      "\u001b[34m[11:32:13] src/tree/updater_prune.cc:74: tree pruning end, 1 roots, 18 extra nodes, 14 pruned nodes, max_depth=5\u001b[0m\n",
      "\u001b[34m[69]#011train-error:0.120733#011validation-error:0.1617\u001b[0m\n",
      "\u001b[34m[11:32:15] src/tree/updater_prune.cc:74: tree pruning end, 1 roots, 16 extra nodes, 6 pruned nodes, max_depth=5\u001b[0m\n",
      "\u001b[34m[70]#011train-error:0.120267#011validation-error:0.1616\u001b[0m\n",
      "\u001b[34m[11:32:16] src/tree/updater_prune.cc:74: tree pruning end, 1 roots, 32 extra nodes, 6 pruned nodes, max_depth=5\u001b[0m\n",
      "\u001b[34m[71]#011train-error:0.1212#011validation-error:0.1612\u001b[0m\n",
      "\u001b[34m[11:32:17] src/tree/updater_prune.cc:74: tree pruning end, 1 roots, 22 extra nodes, 8 pruned nodes, max_depth=5\u001b[0m\n",
      "\u001b[34m[72]#011train-error:0.1198#011validation-error:0.1604\u001b[0m\n",
      "\u001b[34m[11:32:18] src/tree/updater_prune.cc:74: tree pruning end, 1 roots, 28 extra nodes, 12 pruned nodes, max_depth=5\u001b[0m\n",
      "\u001b[34m[73]#011train-error:0.119067#011validation-error:0.1594\u001b[0m\n",
      "\u001b[34m[11:32:20] src/tree/updater_prune.cc:74: tree pruning end, 1 roots, 12 extra nodes, 6 pruned nodes, max_depth=5\u001b[0m\n",
      "\u001b[34m[74]#011train-error:0.118533#011validation-error:0.1588\u001b[0m\n",
      "\u001b[34m[11:32:21] src/tree/updater_prune.cc:74: tree pruning end, 1 roots, 24 extra nodes, 18 pruned nodes, max_depth=5\u001b[0m\n",
      "\u001b[34m[75]#011train-error:0.118933#011validation-error:0.1591\u001b[0m\n",
      "\u001b[34m[11:32:22] src/tree/updater_prune.cc:74: tree pruning end, 1 roots, 14 extra nodes, 14 pruned nodes, max_depth=5\u001b[0m\n",
      "\u001b[34m[76]#011train-error:0.118133#011validation-error:0.1584\u001b[0m\n",
      "\u001b[34m[11:32:24] src/tree/updater_prune.cc:74: tree pruning end, 1 roots, 14 extra nodes, 4 pruned nodes, max_depth=5\u001b[0m\n",
      "\u001b[34m[77]#011train-error:0.117067#011validation-error:0.1585\u001b[0m\n",
      "\u001b[34m[11:32:25] src/tree/updater_prune.cc:74: tree pruning end, 1 roots, 34 extra nodes, 10 pruned nodes, max_depth=5\u001b[0m\n",
      "\u001b[34m[78]#011train-error:0.1158#011validation-error:0.1584\u001b[0m\n",
      "\u001b[34m[11:32:26] src/tree/updater_prune.cc:74: tree pruning end, 1 roots, 16 extra nodes, 6 pruned nodes, max_depth=5\u001b[0m\n",
      "\u001b[34m[79]#011train-error:0.115867#011validation-error:0.1582\u001b[0m\n",
      "\u001b[34m[11:32:27] src/tree/updater_prune.cc:74: tree pruning end, 1 roots, 26 extra nodes, 8 pruned nodes, max_depth=5\u001b[0m\n",
      "\u001b[34m[80]#011train-error:0.115#011validation-error:0.1577\u001b[0m\n",
      "\u001b[34m[11:32:29] src/tree/updater_prune.cc:74: tree pruning end, 1 roots, 10 extra nodes, 12 pruned nodes, max_depth=5\u001b[0m\n",
      "\u001b[34m[81]#011train-error:0.1152#011validation-error:0.1575\u001b[0m\n",
      "\u001b[34m[11:32:30] src/tree/updater_prune.cc:74: tree pruning end, 1 roots, 30 extra nodes, 10 pruned nodes, max_depth=5\u001b[0m\n",
      "\u001b[34m[82]#011train-error:0.115133#011validation-error:0.1575\u001b[0m\n",
      "\u001b[34m[11:32:31] src/tree/updater_prune.cc:74: tree pruning end, 1 roots, 10 extra nodes, 8 pruned nodes, max_depth=5\u001b[0m\n",
      "\u001b[34m[83]#011train-error:0.114733#011validation-error:0.1572\u001b[0m\n",
      "\u001b[34m[11:32:32] src/tree/updater_prune.cc:74: tree pruning end, 1 roots, 12 extra nodes, 10 pruned nodes, max_depth=5\u001b[0m\n",
      "\u001b[34m[84]#011train-error:0.114667#011validation-error:0.157\u001b[0m\n",
      "\u001b[34m[11:32:34] src/tree/updater_prune.cc:74: tree pruning end, 1 roots, 16 extra nodes, 6 pruned nodes, max_depth=5\u001b[0m\n",
      "\u001b[34m[85]#011train-error:0.113733#011validation-error:0.1565\u001b[0m\n",
      "\u001b[34m[11:32:35] src/tree/updater_prune.cc:74: tree pruning end, 1 roots, 26 extra nodes, 12 pruned nodes, max_depth=5\u001b[0m\n",
      "\u001b[34m[86]#011train-error:0.113733#011validation-error:0.1568\u001b[0m\n",
      "\u001b[34m[11:32:36] src/tree/updater_prune.cc:74: tree pruning end, 1 roots, 20 extra nodes, 6 pruned nodes, max_depth=5\u001b[0m\n",
      "\u001b[34m[87]#011train-error:0.113333#011validation-error:0.1569\u001b[0m\n"
     ]
    },
    {
     "name": "stdout",
     "output_type": "stream",
     "text": [
      "\u001b[34m[11:32:38] src/tree/updater_prune.cc:74: tree pruning end, 1 roots, 16 extra nodes, 8 pruned nodes, max_depth=5\u001b[0m\n",
      "\u001b[34m[88]#011train-error:0.1108#011validation-error:0.157\u001b[0m\n",
      "\u001b[34m[11:32:39] src/tree/updater_prune.cc:74: tree pruning end, 1 roots, 20 extra nodes, 8 pruned nodes, max_depth=5\u001b[0m\n",
      "\u001b[34m[89]#011train-error:0.110533#011validation-error:0.157\u001b[0m\n",
      "\u001b[34m[11:32:40] src/tree/updater_prune.cc:74: tree pruning end, 1 roots, 32 extra nodes, 6 pruned nodes, max_depth=5\u001b[0m\n",
      "\u001b[34m[90]#011train-error:0.109133#011validation-error:0.1561\u001b[0m\n",
      "\u001b[34m[11:32:41] src/tree/updater_prune.cc:74: tree pruning end, 1 roots, 14 extra nodes, 6 pruned nodes, max_depth=5\u001b[0m\n",
      "\u001b[34m[91]#011train-error:0.1088#011validation-error:0.1549\u001b[0m\n",
      "\u001b[34m[11:32:43] src/tree/updater_prune.cc:74: tree pruning end, 1 roots, 16 extra nodes, 8 pruned nodes, max_depth=5\u001b[0m\n",
      "\u001b[34m[92]#011train-error:0.107733#011validation-error:0.1547\u001b[0m\n",
      "\u001b[34m[11:32:44] src/tree/updater_prune.cc:74: tree pruning end, 1 roots, 14 extra nodes, 8 pruned nodes, max_depth=5\u001b[0m\n",
      "\u001b[34m[93]#011train-error:0.107867#011validation-error:0.1548\u001b[0m\n",
      "\u001b[34m[11:32:45] src/tree/updater_prune.cc:74: tree pruning end, 1 roots, 16 extra nodes, 10 pruned nodes, max_depth=5\u001b[0m\n",
      "\u001b[34m[94]#011train-error:0.107133#011validation-error:0.1544\u001b[0m\n",
      "\u001b[34m[11:32:46] src/tree/updater_prune.cc:74: tree pruning end, 1 roots, 22 extra nodes, 4 pruned nodes, max_depth=5\u001b[0m\n",
      "\u001b[34m[95]#011train-error:0.105533#011validation-error:0.1551\u001b[0m\n",
      "\u001b[34m[11:32:48] src/tree/updater_prune.cc:74: tree pruning end, 1 roots, 26 extra nodes, 6 pruned nodes, max_depth=5\u001b[0m\n",
      "\u001b[34m[96]#011train-error:0.106533#011validation-error:0.1551\u001b[0m\n",
      "\u001b[34m[11:32:49] src/tree/updater_prune.cc:74: tree pruning end, 1 roots, 20 extra nodes, 10 pruned nodes, max_depth=5\u001b[0m\n",
      "\u001b[34m[97]#011train-error:0.106#011validation-error:0.1558\u001b[0m\n",
      "\u001b[34m[11:32:50] src/tree/updater_prune.cc:74: tree pruning end, 1 roots, 20 extra nodes, 10 pruned nodes, max_depth=5\u001b[0m\n",
      "\u001b[34m[98]#011train-error:0.105667#011validation-error:0.1562\u001b[0m\n",
      "\u001b[34m[11:32:52] src/tree/updater_prune.cc:74: tree pruning end, 1 roots, 12 extra nodes, 4 pruned nodes, max_depth=5\u001b[0m\n",
      "\u001b[34m[99]#011train-error:0.105267#011validation-error:0.1564\u001b[0m\n",
      "\u001b[34m[11:32:53] src/tree/updater_prune.cc:74: tree pruning end, 1 roots, 18 extra nodes, 8 pruned nodes, max_depth=5\u001b[0m\n",
      "\u001b[34m[100]#011train-error:0.105867#011validation-error:0.1564\u001b[0m\n",
      "\u001b[34m[11:32:54] src/tree/updater_prune.cc:74: tree pruning end, 1 roots, 16 extra nodes, 10 pruned nodes, max_depth=5\u001b[0m\n",
      "\u001b[34m[101]#011train-error:0.104333#011validation-error:0.1554\u001b[0m\n",
      "\u001b[34m[11:32:55] src/tree/updater_prune.cc:74: tree pruning end, 1 roots, 22 extra nodes, 16 pruned nodes, max_depth=5\u001b[0m\n",
      "\u001b[34m[102]#011train-error:0.1044#011validation-error:0.155\u001b[0m\n",
      "\u001b[34m[11:32:57] src/tree/updater_prune.cc:74: tree pruning end, 1 roots, 28 extra nodes, 10 pruned nodes, max_depth=5\u001b[0m\n",
      "\u001b[34m[103]#011train-error:0.103867#011validation-error:0.1538\u001b[0m\n",
      "\u001b[34m[11:32:58] src/tree/updater_prune.cc:74: tree pruning end, 1 roots, 10 extra nodes, 4 pruned nodes, max_depth=5\u001b[0m\n",
      "\u001b[34m[104]#011train-error:0.103267#011validation-error:0.1538\u001b[0m\n",
      "\u001b[34m[11:32:59] src/tree/updater_prune.cc:74: tree pruning end, 1 roots, 16 extra nodes, 10 pruned nodes, max_depth=5\u001b[0m\n",
      "\u001b[34m[105]#011train-error:0.103067#011validation-error:0.153\u001b[0m\n",
      "\u001b[34m[11:33:00] src/tree/updater_prune.cc:74: tree pruning end, 1 roots, 26 extra nodes, 10 pruned nodes, max_depth=5\u001b[0m\n",
      "\u001b[34m[106]#011train-error:0.102067#011validation-error:0.1532\u001b[0m\n",
      "\u001b[34m[11:33:02] src/tree/updater_prune.cc:74: tree pruning end, 1 roots, 14 extra nodes, 4 pruned nodes, max_depth=5\u001b[0m\n",
      "\u001b[34m[107]#011train-error:0.101867#011validation-error:0.1525\u001b[0m\n",
      "\u001b[34m[11:33:03] src/tree/updater_prune.cc:74: tree pruning end, 1 roots, 14 extra nodes, 2 pruned nodes, max_depth=5\u001b[0m\n",
      "\u001b[34m[108]#011train-error:0.101267#011validation-error:0.1525\u001b[0m\n",
      "\u001b[34m[11:33:04] src/tree/updater_prune.cc:74: tree pruning end, 1 roots, 10 extra nodes, 6 pruned nodes, max_depth=5\u001b[0m\n",
      "\u001b[34m[109]#011train-error:0.101533#011validation-error:0.1522\u001b[0m\n",
      "\u001b[34m[11:33:05] src/tree/updater_prune.cc:74: tree pruning end, 1 roots, 20 extra nodes, 8 pruned nodes, max_depth=5\u001b[0m\n",
      "\u001b[34m[110]#011train-error:0.1014#011validation-error:0.1514\u001b[0m\n",
      "\u001b[34m[11:33:07] src/tree/updater_prune.cc:74: tree pruning end, 1 roots, 22 extra nodes, 8 pruned nodes, max_depth=5\u001b[0m\n",
      "\u001b[34m[111]#011train-error:0.099067#011validation-error:0.1516\u001b[0m\n",
      "\u001b[34m[11:33:08] src/tree/updater_prune.cc:74: tree pruning end, 1 roots, 12 extra nodes, 4 pruned nodes, max_depth=5\u001b[0m\n",
      "\u001b[34m[112]#011train-error:0.099067#011validation-error:0.1517\u001b[0m\n",
      "\u001b[34m[11:33:09] src/tree/updater_prune.cc:74: tree pruning end, 1 roots, 12 extra nodes, 8 pruned nodes, max_depth=5\u001b[0m\n",
      "\u001b[34m[113]#011train-error:0.0994#011validation-error:0.1513\u001b[0m\n",
      "\u001b[34m[11:33:11] src/tree/updater_prune.cc:74: tree pruning end, 1 roots, 28 extra nodes, 4 pruned nodes, max_depth=5\u001b[0m\n",
      "\u001b[34m[114]#011train-error:0.098467#011validation-error:0.1506\u001b[0m\n",
      "\u001b[34m[11:33:12] src/tree/updater_prune.cc:74: tree pruning end, 1 roots, 16 extra nodes, 8 pruned nodes, max_depth=5\u001b[0m\n",
      "\u001b[34m[115]#011train-error:0.098#011validation-error:0.1512\u001b[0m\n",
      "\u001b[34m[11:33:13] src/tree/updater_prune.cc:74: tree pruning end, 1 roots, 16 extra nodes, 10 pruned nodes, max_depth=5\u001b[0m\n",
      "\u001b[34m[116]#011train-error:0.098133#011validation-error:0.1513\u001b[0m\n",
      "\u001b[34m[11:33:14] src/tree/updater_prune.cc:74: tree pruning end, 1 roots, 14 extra nodes, 10 pruned nodes, max_depth=5\u001b[0m\n",
      "\u001b[34m[117]#011train-error:0.097467#011validation-error:0.1512\u001b[0m\n",
      "\u001b[34m[11:33:16] src/tree/updater_prune.cc:74: tree pruning end, 1 roots, 10 extra nodes, 6 pruned nodes, max_depth=5\u001b[0m\n",
      "\u001b[34m[118]#011train-error:0.0968#011validation-error:0.1506\u001b[0m\n",
      "\u001b[34m[11:33:17] src/tree/updater_prune.cc:74: tree pruning end, 1 roots, 14 extra nodes, 18 pruned nodes, max_depth=5\u001b[0m\n",
      "\u001b[34m[119]#011train-error:0.0962#011validation-error:0.1507\u001b[0m\n",
      "\u001b[34m[11:33:18] src/tree/updater_prune.cc:74: tree pruning end, 1 roots, 16 extra nodes, 16 pruned nodes, max_depth=5\u001b[0m\n",
      "\u001b[34m[120]#011train-error:0.0948#011validation-error:0.1504\u001b[0m\n",
      "\u001b[34m[11:33:19] src/tree/updater_prune.cc:74: tree pruning end, 1 roots, 18 extra nodes, 12 pruned nodes, max_depth=5\u001b[0m\n",
      "\u001b[34m[121]#011train-error:0.0946#011validation-error:0.1502\u001b[0m\n",
      "\u001b[34m[11:33:21] src/tree/updater_prune.cc:74: tree pruning end, 1 roots, 18 extra nodes, 4 pruned nodes, max_depth=5\u001b[0m\n",
      "\u001b[34m[122]#011train-error:0.0938#011validation-error:0.1504\u001b[0m\n",
      "\u001b[34m[11:33:22] src/tree/updater_prune.cc:74: tree pruning end, 1 roots, 26 extra nodes, 16 pruned nodes, max_depth=5\u001b[0m\n",
      "\u001b[34m[123]#011train-error:0.093467#011validation-error:0.1498\u001b[0m\n",
      "\u001b[34m[11:33:23] src/tree/updater_prune.cc:74: tree pruning end, 1 roots, 22 extra nodes, 6 pruned nodes, max_depth=5\u001b[0m\n",
      "\u001b[34m[124]#011train-error:0.093133#011validation-error:0.1496\u001b[0m\n",
      "\u001b[34m[11:33:24] src/tree/updater_prune.cc:74: tree pruning end, 1 roots, 10 extra nodes, 8 pruned nodes, max_depth=5\u001b[0m\n",
      "\u001b[34m[125]#011train-error:0.092733#011validation-error:0.149\u001b[0m\n",
      "\u001b[34m[11:33:26] src/tree/updater_prune.cc:74: tree pruning end, 1 roots, 30 extra nodes, 18 pruned nodes, max_depth=5\u001b[0m\n",
      "\u001b[34m[126]#011train-error:0.092467#011validation-error:0.1489\u001b[0m\n",
      "\u001b[34m[11:33:27] src/tree/updater_prune.cc:74: tree pruning end, 1 roots, 12 extra nodes, 4 pruned nodes, max_depth=5\u001b[0m\n",
      "\u001b[34m[127]#011train-error:0.0918#011validation-error:0.148\u001b[0m\n",
      "\u001b[34m[11:33:28] src/tree/updater_prune.cc:74: tree pruning end, 1 roots, 12 extra nodes, 6 pruned nodes, max_depth=5\u001b[0m\n",
      "\u001b[34m[128]#011train-error:0.0914#011validation-error:0.1482\u001b[0m\n",
      "\u001b[34m[11:33:29] src/tree/updater_prune.cc:74: tree pruning end, 1 roots, 10 extra nodes, 6 pruned nodes, max_depth=5\u001b[0m\n",
      "\u001b[34m[129]#011train-error:0.0912#011validation-error:0.1476\u001b[0m\n",
      "\u001b[34m[11:33:31] src/tree/updater_prune.cc:74: tree pruning end, 1 roots, 12 extra nodes, 20 pruned nodes, max_depth=5\u001b[0m\n",
      "\u001b[34m[130]#011train-error:0.091267#011validation-error:0.1474\u001b[0m\n",
      "\u001b[34m[11:33:32] src/tree/updater_prune.cc:74: tree pruning end, 1 roots, 28 extra nodes, 6 pruned nodes, max_depth=5\u001b[0m\n",
      "\u001b[34m[131]#011train-error:0.090133#011validation-error:0.1479\u001b[0m\n",
      "\u001b[34m[11:33:33] src/tree/updater_prune.cc:74: tree pruning end, 1 roots, 16 extra nodes, 6 pruned nodes, max_depth=5\u001b[0m\n",
      "\u001b[34m[132]#011train-error:0.0894#011validation-error:0.1473\u001b[0m\n",
      "\u001b[34m[11:33:34] src/tree/updater_prune.cc:74: tree pruning end, 1 roots, 12 extra nodes, 10 pruned nodes, max_depth=5\u001b[0m\n",
      "\u001b[34m[133]#011train-error:0.089067#011validation-error:0.1474\u001b[0m\n",
      "\u001b[34m[11:33:36] src/tree/updater_prune.cc:74: tree pruning end, 1 roots, 10 extra nodes, 4 pruned nodes, max_depth=5\u001b[0m\n",
      "\u001b[34m[134]#011train-error:0.089133#011validation-error:0.1474\u001b[0m\n",
      "\u001b[34m[11:33:37] src/tree/updater_prune.cc:74: tree pruning end, 1 roots, 12 extra nodes, 8 pruned nodes, max_depth=5\u001b[0m\n",
      "\u001b[34m[135]#011train-error:0.0892#011validation-error:0.1475\u001b[0m\n"
     ]
    },
    {
     "name": "stdout",
     "output_type": "stream",
     "text": [
      "\u001b[34m[11:33:38] src/tree/updater_prune.cc:74: tree pruning end, 1 roots, 28 extra nodes, 10 pruned nodes, max_depth=5\u001b[0m\n",
      "\u001b[34m[136]#011train-error:0.0884#011validation-error:0.1483\u001b[0m\n",
      "\u001b[34m[11:33:40] src/tree/updater_prune.cc:74: tree pruning end, 1 roots, 14 extra nodes, 6 pruned nodes, max_depth=5\u001b[0m\n",
      "\u001b[34m[137]#011train-error:0.088#011validation-error:0.1477\u001b[0m\n",
      "\u001b[34m[11:33:41] src/tree/updater_prune.cc:74: tree pruning end, 1 roots, 12 extra nodes, 2 pruned nodes, max_depth=5\u001b[0m\n",
      "\u001b[34m[138]#011train-error:0.088#011validation-error:0.1463\u001b[0m\n",
      "\u001b[34m[11:33:42] src/tree/updater_prune.cc:74: tree pruning end, 1 roots, 12 extra nodes, 8 pruned nodes, max_depth=5\u001b[0m\n",
      "\u001b[34m[139]#011train-error:0.088267#011validation-error:0.1463\u001b[0m\n",
      "\u001b[34m[11:33:43] src/tree/updater_prune.cc:74: tree pruning end, 1 roots, 12 extra nodes, 8 pruned nodes, max_depth=5\u001b[0m\n",
      "\u001b[34m[140]#011train-error:0.0874#011validation-error:0.1459\u001b[0m\n",
      "\u001b[34m[11:33:45] src/tree/updater_prune.cc:74: tree pruning end, 1 roots, 14 extra nodes, 6 pruned nodes, max_depth=5\u001b[0m\n",
      "\u001b[34m[141]#011train-error:0.0874#011validation-error:0.1461\u001b[0m\n",
      "\u001b[34m[11:33:46] src/tree/updater_prune.cc:74: tree pruning end, 1 roots, 12 extra nodes, 6 pruned nodes, max_depth=5\u001b[0m\n",
      "\u001b[34m[142]#011train-error:0.086533#011validation-error:0.1459\u001b[0m\n",
      "\u001b[34m[11:33:47] src/tree/updater_prune.cc:74: tree pruning end, 1 roots, 12 extra nodes, 14 pruned nodes, max_depth=5\u001b[0m\n",
      "\u001b[34m[143]#011train-error:0.086333#011validation-error:0.1455\u001b[0m\n",
      "\u001b[34m[11:33:48] src/tree/updater_prune.cc:74: tree pruning end, 1 roots, 12 extra nodes, 4 pruned nodes, max_depth=5\u001b[0m\n",
      "\u001b[34m[144]#011train-error:0.086667#011validation-error:0.1452\u001b[0m\n",
      "\u001b[34m[11:33:50] src/tree/updater_prune.cc:74: tree pruning end, 1 roots, 10 extra nodes, 10 pruned nodes, max_depth=5\u001b[0m\n",
      "\u001b[34m[145]#011train-error:0.086067#011validation-error:0.1449\u001b[0m\n",
      "\u001b[34m[11:33:51] src/tree/updater_prune.cc:74: tree pruning end, 1 roots, 24 extra nodes, 10 pruned nodes, max_depth=5\u001b[0m\n",
      "\u001b[34m[146]#011train-error:0.0854#011validation-error:0.1445\u001b[0m\n",
      "\u001b[34m[11:33:52] src/tree/updater_prune.cc:74: tree pruning end, 1 roots, 14 extra nodes, 0 pruned nodes, max_depth=5\u001b[0m\n",
      "\u001b[34m[147]#011train-error:0.0858#011validation-error:0.1439\u001b[0m\n",
      "\u001b[34m[11:33:53] src/tree/updater_prune.cc:74: tree pruning end, 1 roots, 14 extra nodes, 12 pruned nodes, max_depth=5\u001b[0m\n",
      "\u001b[34m[148]#011train-error:0.085467#011validation-error:0.1451\u001b[0m\n",
      "\u001b[34m[11:33:55] src/tree/updater_prune.cc:74: tree pruning end, 1 roots, 14 extra nodes, 4 pruned nodes, max_depth=5\u001b[0m\n",
      "\u001b[34m[149]#011train-error:0.084267#011validation-error:0.1453\u001b[0m\n",
      "\u001b[34m[11:33:56] src/tree/updater_prune.cc:74: tree pruning end, 1 roots, 14 extra nodes, 10 pruned nodes, max_depth=5\u001b[0m\n",
      "\u001b[34m[150]#011train-error:0.083667#011validation-error:0.1447\u001b[0m\n",
      "\u001b[34m[11:33:57] src/tree/updater_prune.cc:74: tree pruning end, 1 roots, 26 extra nodes, 8 pruned nodes, max_depth=5\u001b[0m\n",
      "\u001b[34m[151]#011train-error:0.082133#011validation-error:0.1445\u001b[0m\n",
      "\u001b[34m[11:33:59] src/tree/updater_prune.cc:74: tree pruning end, 1 roots, 22 extra nodes, 4 pruned nodes, max_depth=5\u001b[0m\n",
      "\u001b[34m[152]#011train-error:0.0814#011validation-error:0.1445\u001b[0m\n",
      "\u001b[34m[11:34:00] src/tree/updater_prune.cc:74: tree pruning end, 1 roots, 12 extra nodes, 16 pruned nodes, max_depth=5\u001b[0m\n",
      "\u001b[34m[153]#011train-error:0.081467#011validation-error:0.1444\u001b[0m\n",
      "\u001b[34m[11:34:01] src/tree/updater_prune.cc:74: tree pruning end, 1 roots, 16 extra nodes, 10 pruned nodes, max_depth=5\u001b[0m\n",
      "\u001b[34m[154]#011train-error:0.081867#011validation-error:0.1438\u001b[0m\n",
      "\u001b[34m[11:34:02] src/tree/updater_prune.cc:74: tree pruning end, 1 roots, 20 extra nodes, 6 pruned nodes, max_depth=5\u001b[0m\n",
      "\u001b[34m[155]#011train-error:0.082333#011validation-error:0.1438\u001b[0m\n",
      "\u001b[34m[11:34:04] src/tree/updater_prune.cc:74: tree pruning end, 1 roots, 22 extra nodes, 6 pruned nodes, max_depth=5\u001b[0m\n",
      "\u001b[34m[156]#011train-error:0.0822#011validation-error:0.144\u001b[0m\n",
      "\u001b[34m[11:34:05] src/tree/updater_prune.cc:74: tree pruning end, 1 roots, 22 extra nodes, 16 pruned nodes, max_depth=5\u001b[0m\n",
      "\u001b[34m[157]#011train-error:0.0824#011validation-error:0.1443\u001b[0m\n",
      "\u001b[34m[11:34:06] src/tree/updater_prune.cc:74: tree pruning end, 1 roots, 12 extra nodes, 12 pruned nodes, max_depth=5\u001b[0m\n",
      "\u001b[34m[158]#011train-error:0.0824#011validation-error:0.1437\u001b[0m\n",
      "\u001b[34m[11:34:07] src/tree/updater_prune.cc:74: tree pruning end, 1 roots, 28 extra nodes, 8 pruned nodes, max_depth=5\u001b[0m\n",
      "\u001b[34m[159]#011train-error:0.081133#011validation-error:0.1437\u001b[0m\n",
      "\u001b[34m[11:34:09] src/tree/updater_prune.cc:74: tree pruning end, 1 roots, 10 extra nodes, 4 pruned nodes, max_depth=5\u001b[0m\n",
      "\u001b[34m[160]#011train-error:0.0814#011validation-error:0.1441\u001b[0m\n",
      "\u001b[34m[11:34:10] src/tree/updater_prune.cc:74: tree pruning end, 1 roots, 22 extra nodes, 10 pruned nodes, max_depth=5\u001b[0m\n",
      "\u001b[34m[161]#011train-error:0.080467#011validation-error:0.1436\u001b[0m\n",
      "\u001b[34m[11:34:11] src/tree/updater_prune.cc:74: tree pruning end, 1 roots, 12 extra nodes, 2 pruned nodes, max_depth=5\u001b[0m\n",
      "\u001b[34m[162]#011train-error:0.080267#011validation-error:0.1431\u001b[0m\n",
      "\u001b[34m[11:34:13] src/tree/updater_prune.cc:74: tree pruning end, 1 roots, 26 extra nodes, 16 pruned nodes, max_depth=5\u001b[0m\n",
      "\u001b[34m[163]#011train-error:0.079#011validation-error:0.1435\u001b[0m\n",
      "\u001b[34m[11:34:14] src/tree/updater_prune.cc:74: tree pruning end, 1 roots, 20 extra nodes, 8 pruned nodes, max_depth=5\u001b[0m\n",
      "\u001b[34m[164]#011train-error:0.078733#011validation-error:0.1435\u001b[0m\n",
      "\u001b[34m[11:34:15] src/tree/updater_prune.cc:74: tree pruning end, 1 roots, 10 extra nodes, 8 pruned nodes, max_depth=5\u001b[0m\n",
      "\u001b[34m[165]#011train-error:0.079#011validation-error:0.1433\u001b[0m\n",
      "\u001b[34m[11:34:16] src/tree/updater_prune.cc:74: tree pruning end, 1 roots, 20 extra nodes, 10 pruned nodes, max_depth=5\u001b[0m\n",
      "\u001b[34m[166]#011train-error:0.078733#011validation-error:0.1432\u001b[0m\n",
      "\u001b[34m[11:34:18] src/tree/updater_prune.cc:74: tree pruning end, 1 roots, 12 extra nodes, 4 pruned nodes, max_depth=5\u001b[0m\n",
      "\u001b[34m[167]#011train-error:0.078667#011validation-error:0.1434\u001b[0m\n",
      "\u001b[34m[11:34:19] src/tree/updater_prune.cc:74: tree pruning end, 1 roots, 12 extra nodes, 4 pruned nodes, max_depth=5\u001b[0m\n",
      "\u001b[34m[168]#011train-error:0.078667#011validation-error:0.1433\u001b[0m\n",
      "\u001b[34m[11:34:20] src/tree/updater_prune.cc:74: tree pruning end, 1 roots, 10 extra nodes, 2 pruned nodes, max_depth=5\u001b[0m\n",
      "\u001b[34m[169]#011train-error:0.078533#011validation-error:0.1435\u001b[0m\n",
      "\u001b[34m[11:34:21] src/tree/updater_prune.cc:74: tree pruning end, 1 roots, 10 extra nodes, 4 pruned nodes, max_depth=5\u001b[0m\n",
      "\u001b[34m[170]#011train-error:0.078467#011validation-error:0.1427\u001b[0m\n",
      "\u001b[34m[11:34:23] src/tree/updater_prune.cc:74: tree pruning end, 1 roots, 16 extra nodes, 8 pruned nodes, max_depth=5\u001b[0m\n",
      "\u001b[34m[171]#011train-error:0.078#011validation-error:0.1426\u001b[0m\n",
      "\u001b[34m[11:34:24] src/tree/updater_prune.cc:74: tree pruning end, 1 roots, 18 extra nodes, 10 pruned nodes, max_depth=5\u001b[0m\n",
      "\u001b[34m[172]#011train-error:0.0772#011validation-error:0.1421\u001b[0m\n",
      "\u001b[34m[11:34:25] src/tree/updater_prune.cc:74: tree pruning end, 1 roots, 14 extra nodes, 4 pruned nodes, max_depth=5\u001b[0m\n",
      "\u001b[34m[173]#011train-error:0.076667#011validation-error:0.1421\u001b[0m\n",
      "\u001b[34m[11:34:26] src/tree/updater_prune.cc:74: tree pruning end, 1 roots, 10 extra nodes, 4 pruned nodes, max_depth=5\u001b[0m\n",
      "\u001b[34m[174]#011train-error:0.076467#011validation-error:0.1418\u001b[0m\n",
      "\u001b[34m[11:34:28] src/tree/updater_prune.cc:74: tree pruning end, 1 roots, 16 extra nodes, 12 pruned nodes, max_depth=5\u001b[0m\n",
      "\u001b[34m[175]#011train-error:0.0758#011validation-error:0.1421\u001b[0m\n",
      "\u001b[34m[11:34:29] src/tree/updater_prune.cc:74: tree pruning end, 1 roots, 10 extra nodes, 2 pruned nodes, max_depth=5\u001b[0m\n",
      "\u001b[34m[176]#011train-error:0.075667#011validation-error:0.1415\u001b[0m\n",
      "\u001b[34m[11:34:30] src/tree/updater_prune.cc:74: tree pruning end, 1 roots, 10 extra nodes, 10 pruned nodes, max_depth=5\u001b[0m\n",
      "\u001b[34m[177]#011train-error:0.075733#011validation-error:0.1414\u001b[0m\n",
      "\u001b[34m[11:34:31] src/tree/updater_prune.cc:74: tree pruning end, 1 roots, 14 extra nodes, 8 pruned nodes, max_depth=5\u001b[0m\n",
      "\u001b[34m[178]#011train-error:0.075467#011validation-error:0.1405\u001b[0m\n",
      "\u001b[34m[11:34:33] src/tree/updater_prune.cc:74: tree pruning end, 1 roots, 18 extra nodes, 10 pruned nodes, max_depth=5\u001b[0m\n",
      "\u001b[34m[179]#011train-error:0.0756#011validation-error:0.1406\u001b[0m\n",
      "\u001b[34m[11:34:34] src/tree/updater_prune.cc:74: tree pruning end, 1 roots, 12 extra nodes, 12 pruned nodes, max_depth=5\u001b[0m\n",
      "\u001b[34m[180]#011train-error:0.075133#011validation-error:0.1411\u001b[0m\n",
      "\u001b[34m[11:34:35] src/tree/updater_prune.cc:74: tree pruning end, 1 roots, 14 extra nodes, 8 pruned nodes, max_depth=5\u001b[0m\n",
      "\u001b[34m[181]#011train-error:0.075#011validation-error:0.1402\u001b[0m\n",
      "\u001b[34m[11:34:37] src/tree/updater_prune.cc:74: tree pruning end, 1 roots, 20 extra nodes, 2 pruned nodes, max_depth=5\u001b[0m\n",
      "\u001b[34m[182]#011train-error:0.074733#011validation-error:0.1415\u001b[0m\n",
      "\u001b[34m[11:34:38] src/tree/updater_prune.cc:74: tree pruning end, 1 roots, 10 extra nodes, 10 pruned nodes, max_depth=5\u001b[0m\n",
      "\u001b[34m[183]#011train-error:0.0748#011validation-error:0.141\u001b[0m\n"
     ]
    },
    {
     "name": "stdout",
     "output_type": "stream",
     "text": [
      "\u001b[34m[11:34:39] src/tree/updater_prune.cc:74: tree pruning end, 1 roots, 10 extra nodes, 4 pruned nodes, max_depth=5\u001b[0m\n",
      "\u001b[34m[184]#011train-error:0.074467#011validation-error:0.1407\u001b[0m\n",
      "\u001b[34m[11:34:40] src/tree/updater_prune.cc:74: tree pruning end, 1 roots, 14 extra nodes, 8 pruned nodes, max_depth=5\u001b[0m\n",
      "\u001b[34m[185]#011train-error:0.0746#011validation-error:0.1406\u001b[0m\n",
      "\u001b[34m[11:34:42] src/tree/updater_prune.cc:74: tree pruning end, 1 roots, 22 extra nodes, 10 pruned nodes, max_depth=5\u001b[0m\n",
      "\u001b[34m[186]#011train-error:0.074467#011validation-error:0.1406\u001b[0m\n",
      "\u001b[34m[11:34:43] src/tree/updater_prune.cc:74: tree pruning end, 1 roots, 12 extra nodes, 8 pruned nodes, max_depth=5\u001b[0m\n",
      "\u001b[34m[187]#011train-error:0.0744#011validation-error:0.1404\u001b[0m\n",
      "\u001b[34m[11:34:44] src/tree/updater_prune.cc:74: tree pruning end, 1 roots, 18 extra nodes, 8 pruned nodes, max_depth=5\u001b[0m\n",
      "\u001b[34m[188]#011train-error:0.073467#011validation-error:0.1399\u001b[0m\n",
      "\u001b[34m[11:34:45] src/tree/updater_prune.cc:74: tree pruning end, 1 roots, 16 extra nodes, 2 pruned nodes, max_depth=5\u001b[0m\n",
      "\u001b[34m[189]#011train-error:0.073733#011validation-error:0.1395\u001b[0m\n",
      "\u001b[34m[11:34:47] src/tree/updater_prune.cc:74: tree pruning end, 1 roots, 12 extra nodes, 2 pruned nodes, max_depth=5\u001b[0m\n",
      "\u001b[34m[190]#011train-error:0.0738#011validation-error:0.1396\u001b[0m\n",
      "\u001b[34m[11:34:48] src/tree/updater_prune.cc:74: tree pruning end, 1 roots, 16 extra nodes, 6 pruned nodes, max_depth=5\u001b[0m\n",
      "\u001b[34m[191]#011train-error:0.072933#011validation-error:0.139\u001b[0m\n",
      "\u001b[34m[11:34:49] src/tree/updater_prune.cc:74: tree pruning end, 1 roots, 10 extra nodes, 4 pruned nodes, max_depth=5\u001b[0m\n",
      "\u001b[34m[192]#011train-error:0.072733#011validation-error:0.139\u001b[0m\n",
      "\u001b[34m[11:34:50] src/tree/updater_prune.cc:74: tree pruning end, 1 roots, 28 extra nodes, 8 pruned nodes, max_depth=5\u001b[0m\n",
      "\u001b[34m[193]#011train-error:0.072533#011validation-error:0.1384\u001b[0m\n",
      "\u001b[34m[11:34:52] src/tree/updater_prune.cc:74: tree pruning end, 1 roots, 10 extra nodes, 6 pruned nodes, max_depth=5\u001b[0m\n",
      "\u001b[34m[194]#011train-error:0.072533#011validation-error:0.1379\u001b[0m\n",
      "\u001b[34m[11:34:53] src/tree/updater_prune.cc:74: tree pruning end, 1 roots, 10 extra nodes, 8 pruned nodes, max_depth=5\u001b[0m\n",
      "\u001b[34m[195]#011train-error:0.073133#011validation-error:0.1386\u001b[0m\n",
      "\u001b[34m[11:34:54] src/tree/updater_prune.cc:74: tree pruning end, 1 roots, 18 extra nodes, 4 pruned nodes, max_depth=5\u001b[0m\n",
      "\u001b[34m[196]#011train-error:0.072667#011validation-error:0.1394\u001b[0m\n",
      "\u001b[34m[11:34:56] src/tree/updater_prune.cc:74: tree pruning end, 1 roots, 18 extra nodes, 12 pruned nodes, max_depth=5\u001b[0m\n",
      "\u001b[34m[197]#011train-error:0.072667#011validation-error:0.1389\u001b[0m\n",
      "\u001b[34m[11:34:57] src/tree/updater_prune.cc:74: tree pruning end, 1 roots, 10 extra nodes, 4 pruned nodes, max_depth=5\u001b[0m\n",
      "\u001b[34m[198]#011train-error:0.072733#011validation-error:0.1391\u001b[0m\n",
      "\u001b[34m[11:34:58] src/tree/updater_prune.cc:74: tree pruning end, 1 roots, 14 extra nodes, 10 pruned nodes, max_depth=5\u001b[0m\n",
      "\u001b[34m[199]#011train-error:0.0724#011validation-error:0.139\u001b[0m\n",
      "\u001b[34m[11:34:59] src/tree/updater_prune.cc:74: tree pruning end, 1 roots, 18 extra nodes, 8 pruned nodes, max_depth=5\u001b[0m\n",
      "\u001b[34m[200]#011train-error:0.072067#011validation-error:0.1392\u001b[0m\n",
      "\u001b[34m[11:35:01] src/tree/updater_prune.cc:74: tree pruning end, 1 roots, 10 extra nodes, 4 pruned nodes, max_depth=5\u001b[0m\n",
      "\u001b[34m[201]#011train-error:0.071933#011validation-error:0.1393\u001b[0m\n",
      "\u001b[34m[11:35:02] src/tree/updater_prune.cc:74: tree pruning end, 1 roots, 12 extra nodes, 14 pruned nodes, max_depth=5\u001b[0m\n",
      "\u001b[34m[202]#011train-error:0.071933#011validation-error:0.139\u001b[0m\n",
      "\u001b[34m[11:35:03] src/tree/updater_prune.cc:74: tree pruning end, 1 roots, 18 extra nodes, 6 pruned nodes, max_depth=5\u001b[0m\n",
      "\u001b[34m[203]#011train-error:0.070933#011validation-error:0.1388\u001b[0m\n",
      "\u001b[34m[11:35:04] src/tree/updater_prune.cc:74: tree pruning end, 1 roots, 14 extra nodes, 8 pruned nodes, max_depth=5\u001b[0m\n",
      "\u001b[34m[204]#011train-error:0.0714#011validation-error:0.1383\u001b[0m\n",
      "\u001b[34mStopping. Best iteration:\u001b[0m\n",
      "\u001b[34m[194]#011train-error:0.072533#011validation-error:0.1379\n",
      "\u001b[0m\n",
      "\n",
      "2019-12-05 11:35:49 Uploading - Uploading generated training model\n",
      "2019-12-05 11:35:49 Completed - Training job completed\n",
      "Training seconds: 355\n",
      "Billable seconds: 355\n"
     ]
    }
   ],
   "source": [
    "xgb.fit({'train': s3_input_train, 'validation': s3_input_validation})"
   ]
  },
  {
   "cell_type": "markdown",
   "metadata": {},
   "source": [
    "## Step 5: Testing the model\n",
    "\n",
    "Now that we've fit our XGBoost model, it's time to see how well it performs. To do this we will use SageMakers Batch Transform functionality. Batch Transform is a convenient way to perform inference on a large dataset in a way that is not realtime. That is, we don't necessarily need to use our model's results immediately and instead we can perform inference on a large number of samples. An example of this in industry might be performing an end of month report. This method of inference can also be useful to us as it means that we can perform inference on our entire test set. \n",
    "\n",
    "To perform a Batch Transformation we need to first create a transformer objects from our trained estimator object."
   ]
  },
  {
   "cell_type": "code",
   "execution_count": 24,
   "metadata": {},
   "outputs": [],
   "source": [
    "xgb_transformer = xgb.transformer(instance_count = 1, instance_type = 'ml.m4.xlarge')"
   ]
  },
  {
   "cell_type": "markdown",
   "metadata": {},
   "source": [
    "Next we actually perform the transform job. When doing so we need to make sure to specify the type of data we are sending so that it is serialized correctly in the background. In our case we are providing our model with csv data so we specify `text/csv`. Also, if the test data that we have provided is too large to process all at once then we need to specify how the data file should be split up. Since each line is a single entry in our data set we tell SageMaker that it can split the input on each line."
   ]
  },
  {
   "cell_type": "code",
   "execution_count": 25,
   "metadata": {},
   "outputs": [],
   "source": [
    "xgb_transformer.transform(test_location, content_type='text/csv', split_type='Line')"
   ]
  },
  {
   "cell_type": "markdown",
   "metadata": {},
   "source": [
    "Currently the transform job is running but it is doing so in the background. Since we wish to wait until the transform job is done and we would like a bit of feedback we can run the `wait()` method."
   ]
  },
  {
   "cell_type": "code",
   "execution_count": 26,
   "metadata": {},
   "outputs": [
    {
     "name": "stdout",
     "output_type": "stream",
     "text": [
      ".....................\u001b[34mArguments: serve\u001b[0m\n",
      "\u001b[34m[2019-12-05 11:39:29 +0000] [1] [INFO] Starting gunicorn 19.7.1\u001b[0m\n",
      "\u001b[34m[2019-12-05 11:39:29 +0000] [1] [INFO] Listening at: http://0.0.0.0:8080 (1)\u001b[0m\n",
      "\u001b[34m[2019-12-05 11:39:29 +0000] [1] [INFO] Using worker: gevent\u001b[0m\n",
      "\u001b[34m[2019-12-05 11:39:29 +0000] [40] [INFO] Booting worker with pid: 40\u001b[0m\n",
      "\u001b[34m[2019-12-05 11:39:29 +0000] [41] [INFO] Booting worker with pid: 41\u001b[0m\n",
      "\u001b[34m[2019-12-05 11:39:29 +0000] [42] [INFO] Booting worker with pid: 42\u001b[0m\n",
      "\u001b[34m[2019-12-05:11:39:29:INFO] Model loaded successfully for worker : 40\u001b[0m\n",
      "\u001b[34m[2019-12-05 11:39:29 +0000] [43] [INFO] Booting worker with pid: 43\u001b[0m\n",
      "\u001b[34m[2019-12-05:11:39:29:INFO] Model loaded successfully for worker : 41\u001b[0m\n",
      "\u001b[34m[2019-12-05:11:39:29:INFO] Model loaded successfully for worker : 42\u001b[0m\n",
      "\u001b[34m[2019-12-05:11:39:29:INFO] Model loaded successfully for worker : 43\u001b[0m\n",
      "\u001b[32m2019-12-05T11:39:48.346:[sagemaker logs]: MaxConcurrentTransforms=4, MaxPayloadInMB=6, BatchStrategy=MULTI_RECORD\u001b[0m\n",
      "\u001b[34m[2019-12-05:11:39:51:INFO] Sniff delimiter as ','\u001b[0m\n",
      "\u001b[34m[2019-12-05:11:39:51:INFO] Determined delimiter of CSV input is ','\u001b[0m\n",
      "\u001b[34m[2019-12-05:11:39:51:INFO] Sniff delimiter as ','\u001b[0m\n",
      "\u001b[34m[2019-12-05:11:39:51:INFO] Determined delimiter of CSV input is ','\u001b[0m\n",
      "\u001b[34m[2019-12-05:11:39:51:INFO] Sniff delimiter as ','\u001b[0m\n",
      "\u001b[34m[2019-12-05:11:39:51:INFO] Determined delimiter of CSV input is ','\u001b[0m\n",
      "\u001b[35m[2019-12-05:11:39:51:INFO] Sniff delimiter as ','\u001b[0m\n",
      "\u001b[35m[2019-12-05:11:39:51:INFO] Determined delimiter of CSV input is ','\u001b[0m\n",
      "\u001b[35m[2019-12-05:11:39:51:INFO] Sniff delimiter as ','\u001b[0m\n",
      "\u001b[35m[2019-12-05:11:39:51:INFO] Determined delimiter of CSV input is ','\u001b[0m\n",
      "\u001b[35m[2019-12-05:11:39:51:INFO] Sniff delimiter as ','\u001b[0m\n",
      "\u001b[35m[2019-12-05:11:39:51:INFO] Determined delimiter of CSV input is ','\u001b[0m\n",
      "\u001b[34m[2019-12-05:11:39:51:INFO] Sniff delimiter as ','\u001b[0m\n",
      "\u001b[34m[2019-12-05:11:39:51:INFO] Determined delimiter of CSV input is ','\u001b[0m\n",
      "\u001b[35m[2019-12-05:11:39:51:INFO] Sniff delimiter as ','\u001b[0m\n",
      "\u001b[35m[2019-12-05:11:39:51:INFO] Determined delimiter of CSV input is ','\u001b[0m\n",
      "\u001b[34m[2019-12-05:11:39:53:INFO] Sniff delimiter as ','\u001b[0m\n",
      "\u001b[34m[2019-12-05:11:39:53:INFO] Determined delimiter of CSV input is ','\u001b[0m\n",
      "\u001b[34m[2019-12-05:11:39:53:INFO] Sniff delimiter as ','\u001b[0m\n",
      "\u001b[34m[2019-12-05:11:39:53:INFO] Determined delimiter of CSV input is ','\u001b[0m\n",
      "\u001b[35m[2019-12-05:11:39:53:INFO] Sniff delimiter as ','\u001b[0m\n",
      "\u001b[35m[2019-12-05:11:39:53:INFO] Determined delimiter of CSV input is ','\u001b[0m\n",
      "\u001b[35m[2019-12-05:11:39:53:INFO] Sniff delimiter as ','\u001b[0m\n",
      "\u001b[35m[2019-12-05:11:39:53:INFO] Determined delimiter of CSV input is ','\u001b[0m\n",
      "\u001b[34m[2019-12-05:11:39:54:INFO] Sniff delimiter as ','\u001b[0m\n",
      "\u001b[34m[2019-12-05:11:39:54:INFO] Determined delimiter of CSV input is ','\u001b[0m\n",
      "\u001b[34m[2019-12-05:11:39:54:INFO] Sniff delimiter as ','\u001b[0m\n",
      "\u001b[34m[2019-12-05:11:39:54:INFO] Determined delimiter of CSV input is ','\u001b[0m\n",
      "\u001b[35m[2019-12-05:11:39:54:INFO] Sniff delimiter as ','\u001b[0m\n",
      "\u001b[35m[2019-12-05:11:39:54:INFO] Determined delimiter of CSV input is ','\u001b[0m\n",
      "\u001b[35m[2019-12-05:11:39:54:INFO] Sniff delimiter as ','\u001b[0m\n",
      "\u001b[35m[2019-12-05:11:39:54:INFO] Determined delimiter of CSV input is ','\u001b[0m\n",
      "\u001b[34m[2019-12-05:11:39:56:INFO] Sniff delimiter as ','\u001b[0m\n",
      "\u001b[35m[2019-12-05:11:39:56:INFO] Sniff delimiter as ','\u001b[0m\n",
      "\u001b[34m[2019-12-05:11:39:56:INFO] Determined delimiter of CSV input is ','\u001b[0m\n",
      "\u001b[34m[2019-12-05:11:39:56:INFO] Sniff delimiter as ','\u001b[0m\n",
      "\u001b[34m[2019-12-05:11:39:56:INFO] Determined delimiter of CSV input is ','\u001b[0m\n",
      "\u001b[35m[2019-12-05:11:39:56:INFO] Determined delimiter of CSV input is ','\u001b[0m\n",
      "\u001b[35m[2019-12-05:11:39:56:INFO] Sniff delimiter as ','\u001b[0m\n",
      "\u001b[35m[2019-12-05:11:39:56:INFO] Determined delimiter of CSV input is ','\u001b[0m\n",
      "\u001b[34m[2019-12-05:11:39:56:INFO] Sniff delimiter as ','\u001b[0m\n",
      "\u001b[34m[2019-12-05:11:39:56:INFO] Determined delimiter of CSV input is ','\u001b[0m\n",
      "\u001b[34m[2019-12-05:11:39:56:INFO] Sniff delimiter as ','\u001b[0m\n",
      "\u001b[34m[2019-12-05:11:39:56:INFO] Determined delimiter of CSV input is ','\u001b[0m\n",
      "\u001b[35m[2019-12-05:11:39:56:INFO] Sniff delimiter as ','\u001b[0m\n",
      "\u001b[35m[2019-12-05:11:39:56:INFO] Determined delimiter of CSV input is ','\u001b[0m\n",
      "\u001b[35m[2019-12-05:11:39:56:INFO] Sniff delimiter as ','\u001b[0m\n",
      "\u001b[35m[2019-12-05:11:39:56:INFO] Determined delimiter of CSV input is ','\u001b[0m\n",
      "\u001b[34m[2019-12-05:11:39:58:INFO] Sniff delimiter as ','\u001b[0m\n",
      "\u001b[34m[2019-12-05:11:39:58:INFO] Determined delimiter of CSV input is ','\u001b[0m\n",
      "\u001b[35m[2019-12-05:11:39:58:INFO] Sniff delimiter as ','\u001b[0m\n",
      "\u001b[35m[2019-12-05:11:39:58:INFO] Determined delimiter of CSV input is ','\u001b[0m\n",
      "\u001b[34m[2019-12-05:11:39:58:INFO] Sniff delimiter as ','\u001b[0m\n",
      "\u001b[34m[2019-12-05:11:39:58:INFO] Determined delimiter of CSV input is ','\u001b[0m\n",
      "\u001b[34m[2019-12-05:11:39:58:INFO] Sniff delimiter as ','\u001b[0m\n",
      "\u001b[34m[2019-12-05:11:39:58:INFO] Determined delimiter of CSV input is ','\u001b[0m\n",
      "\u001b[34m[2019-12-05:11:39:59:INFO] Sniff delimiter as ','\u001b[0m\n",
      "\u001b[34m[2019-12-05:11:39:59:INFO] Determined delimiter of CSV input is ','\u001b[0m\n",
      "\u001b[35m[2019-12-05:11:39:58:INFO] Sniff delimiter as ','\u001b[0m\n",
      "\u001b[35m[2019-12-05:11:39:58:INFO] Determined delimiter of CSV input is ','\u001b[0m\n",
      "\u001b[35m[2019-12-05:11:39:58:INFO] Sniff delimiter as ','\u001b[0m\n",
      "\u001b[35m[2019-12-05:11:39:58:INFO] Determined delimiter of CSV input is ','\u001b[0m\n",
      "\u001b[35m[2019-12-05:11:39:59:INFO] Sniff delimiter as ','\u001b[0m\n",
      "\u001b[35m[2019-12-05:11:39:59:INFO] Determined delimiter of CSV input is ','\u001b[0m\n",
      "\n",
      "\u001b[34m[2019-12-05:11:40:01:INFO] Sniff delimiter as ','\u001b[0m\n",
      "\u001b[34m[2019-12-05:11:40:01:INFO] Determined delimiter of CSV input is ','\u001b[0m\n",
      "\u001b[35m[2019-12-05:11:40:01:INFO] Sniff delimiter as ','\u001b[0m\n",
      "\u001b[35m[2019-12-05:11:40:01:INFO] Determined delimiter of CSV input is ','\u001b[0m\n",
      "\u001b[34m[2019-12-05:11:40:03:INFO] Sniff delimiter as ','\u001b[0m\n",
      "\u001b[35m[2019-12-05:11:40:03:INFO] Sniff delimiter as ','\u001b[0m\n",
      "\u001b[34m[2019-12-05:11:40:03:INFO] Determined delimiter of CSV input is ','\u001b[0m\n",
      "\u001b[34m[2019-12-05:11:40:03:INFO] Sniff delimiter as ','\u001b[0m\n",
      "\u001b[34m[2019-12-05:11:40:03:INFO] Determined delimiter of CSV input is ','\u001b[0m\n",
      "\u001b[35m[2019-12-05:11:40:03:INFO] Determined delimiter of CSV input is ','\u001b[0m\n",
      "\u001b[35m[2019-12-05:11:40:03:INFO] Sniff delimiter as ','\u001b[0m\n",
      "\u001b[35m[2019-12-05:11:40:03:INFO] Determined delimiter of CSV input is ','\u001b[0m\n",
      "\u001b[34m[2019-12-05:11:40:03:INFO] Sniff delimiter as ','\u001b[0m\n",
      "\u001b[34m[2019-12-05:11:40:03:INFO] Determined delimiter of CSV input is ','\u001b[0m\n",
      "\u001b[34m[2019-12-05:11:40:04:INFO] Sniff delimiter as ','\u001b[0m\n",
      "\u001b[34m[2019-12-05:11:40:04:INFO] Determined delimiter of CSV input is ','\u001b[0m\n",
      "\u001b[35m[2019-12-05:11:40:03:INFO] Sniff delimiter as ','\u001b[0m\n",
      "\u001b[35m[2019-12-05:11:40:03:INFO] Determined delimiter of CSV input is ','\u001b[0m\n",
      "\u001b[35m[2019-12-05:11:40:04:INFO] Sniff delimiter as ','\u001b[0m\n",
      "\u001b[35m[2019-12-05:11:40:04:INFO] Determined delimiter of CSV input is ','\u001b[0m\n",
      "\u001b[34m[2019-12-05:11:40:05:INFO] Sniff delimiter as ','\u001b[0m\n",
      "\u001b[34m[2019-12-05:11:40:05:INFO] Determined delimiter of CSV input is ','\u001b[0m\n",
      "\u001b[34m[2019-12-05:11:40:05:INFO] Sniff delimiter as ','\u001b[0m\n",
      "\u001b[34m[2019-12-05:11:40:05:INFO] Determined delimiter of CSV input is ','\u001b[0m\n",
      "\u001b[34m[2019-12-05:11:40:06:INFO] Sniff delimiter as ','\u001b[0m\n",
      "\u001b[34m[2019-12-05:11:40:06:INFO] Determined delimiter of CSV input is ','\u001b[0m\n",
      "\u001b[35m[2019-12-05:11:40:05:INFO] Sniff delimiter as ','\u001b[0m\n",
      "\u001b[35m[2019-12-05:11:40:05:INFO] Determined delimiter of CSV input is ','\u001b[0m\n",
      "\u001b[35m[2019-12-05:11:40:05:INFO] Sniff delimiter as ','\u001b[0m\n",
      "\u001b[35m[2019-12-05:11:40:05:INFO] Determined delimiter of CSV input is ','\u001b[0m\n",
      "\u001b[35m[2019-12-05:11:40:06:INFO] Sniff delimiter as ','\u001b[0m\n",
      "\u001b[35m[2019-12-05:11:40:06:INFO] Determined delimiter of CSV input is ','\u001b[0m\n",
      "\u001b[34m[2019-12-05:11:40:06:INFO] Sniff delimiter as ','\u001b[0m\n",
      "\u001b[34m[2019-12-05:11:40:06:INFO] Determined delimiter of CSV input is ','\u001b[0m\n",
      "\u001b[35m[2019-12-05:11:40:06:INFO] Sniff delimiter as ','\u001b[0m\n",
      "\u001b[35m[2019-12-05:11:40:06:INFO] Determined delimiter of CSV input is ','\u001b[0m\n",
      "\u001b[34m[2019-12-05:11:40:07:INFO] Sniff delimiter as ','\u001b[0m\n",
      "\u001b[34m[2019-12-05:11:40:07:INFO] Determined delimiter of CSV input is ','\u001b[0m\n",
      "\u001b[35m[2019-12-05:11:40:07:INFO] Sniff delimiter as ','\u001b[0m\n",
      "\u001b[35m[2019-12-05:11:40:07:INFO] Determined delimiter of CSV input is ','\u001b[0m\n",
      "\u001b[34m[2019-12-05:11:40:08:INFO] Sniff delimiter as ','\u001b[0m\n",
      "\u001b[34m[2019-12-05:11:40:08:INFO] Determined delimiter of CSV input is ','\u001b[0m\n",
      "\u001b[35m[2019-12-05:11:40:08:INFO] Sniff delimiter as ','\u001b[0m\n",
      "\u001b[35m[2019-12-05:11:40:08:INFO] Determined delimiter of CSV input is ','\u001b[0m\n",
      "\u001b[34m[2019-12-05:11:40:08:INFO] Sniff delimiter as ','\u001b[0m\n",
      "\u001b[34m[2019-12-05:11:40:08:INFO] Determined delimiter of CSV input is ','\u001b[0m\n",
      "\u001b[34m[2019-12-05:11:40:09:INFO] Sniff delimiter as ','\u001b[0m\n",
      "\u001b[34m[2019-12-05:11:40:09:INFO] Determined delimiter of CSV input is ','\u001b[0m\n",
      "\u001b[35m[2019-12-05:11:40:08:INFO] Sniff delimiter as ','\u001b[0m\n",
      "\u001b[35m[2019-12-05:11:40:08:INFO] Determined delimiter of CSV input is ','\u001b[0m\n",
      "\u001b[35m[2019-12-05:11:40:09:INFO] Sniff delimiter as ','\u001b[0m\n",
      "\u001b[35m[2019-12-05:11:40:09:INFO] Determined delimiter of CSV input is ','\u001b[0m\n",
      "\u001b[34m[2019-12-05:11:40:10:INFO] Sniff delimiter as ','\u001b[0m\n",
      "\u001b[34m[2019-12-05:11:40:10:INFO] Determined delimiter of CSV input is ','\u001b[0m\n",
      "\u001b[35m[2019-12-05:11:40:10:INFO] Sniff delimiter as ','\u001b[0m\n",
      "\u001b[35m[2019-12-05:11:40:10:INFO] Determined delimiter of CSV input is ','\u001b[0m\n"
     ]
    },
    {
     "name": "stdout",
     "output_type": "stream",
     "text": [
      "\u001b[34m[2019-12-05:11:40:10:INFO] Sniff delimiter as ','\u001b[0m\n",
      "\u001b[35m[2019-12-05:11:40:10:INFO] Sniff delimiter as ','\u001b[0m\n",
      "\u001b[34m[2019-12-05:11:40:10:INFO] Determined delimiter of CSV input is ','\u001b[0m\n",
      "\u001b[35m[2019-12-05:11:40:10:INFO] Determined delimiter of CSV input is ','\u001b[0m\n",
      "\u001b[34m[2019-12-05:11:40:11:INFO] Sniff delimiter as ','\u001b[0m\n",
      "\u001b[34m[2019-12-05:11:40:11:INFO] Determined delimiter of CSV input is ','\u001b[0m\n",
      "\u001b[35m[2019-12-05:11:40:11:INFO] Sniff delimiter as ','\u001b[0m\n",
      "\u001b[35m[2019-12-05:11:40:11:INFO] Determined delimiter of CSV input is ','\u001b[0m\n",
      "\u001b[34m[2019-12-05:11:40:12:INFO] Sniff delimiter as ','\u001b[0m\n",
      "\u001b[34m[2019-12-05:11:40:12:INFO] Determined delimiter of CSV input is ','\u001b[0m\n",
      "\u001b[34m[2019-12-05:11:40:12:INFO] Sniff delimiter as ','\u001b[0m\n",
      "\u001b[34m[2019-12-05:11:40:12:INFO] Determined delimiter of CSV input is ','\u001b[0m\n",
      "\u001b[34m[2019-12-05:11:40:13:INFO] Sniff delimiter as ','\u001b[0m\n",
      "\u001b[34m[2019-12-05:11:40:13:INFO] Determined delimiter of CSV input is ','\u001b[0m\n",
      "\u001b[35m[2019-12-05:11:40:12:INFO] Sniff delimiter as ','\u001b[0m\n",
      "\u001b[35m[2019-12-05:11:40:12:INFO] Determined delimiter of CSV input is ','\u001b[0m\n",
      "\u001b[35m[2019-12-05:11:40:12:INFO] Sniff delimiter as ','\u001b[0m\n",
      "\u001b[35m[2019-12-05:11:40:12:INFO] Determined delimiter of CSV input is ','\u001b[0m\n",
      "\u001b[35m[2019-12-05:11:40:13:INFO] Sniff delimiter as ','\u001b[0m\n",
      "\u001b[35m[2019-12-05:11:40:13:INFO] Determined delimiter of CSV input is ','\u001b[0m\n",
      "\u001b[34m[2019-12-05:11:40:14:INFO] Sniff delimiter as ','\u001b[0m\n",
      "\u001b[34m[2019-12-05:11:40:14:INFO] Determined delimiter of CSV input is ','\u001b[0m\n",
      "\u001b[35m[2019-12-05:11:40:14:INFO] Sniff delimiter as ','\u001b[0m\n",
      "\u001b[35m[2019-12-05:11:40:14:INFO] Determined delimiter of CSV input is ','\u001b[0m\n"
     ]
    }
   ],
   "source": [
    "xgb_transformer.wait()"
   ]
  },
  {
   "cell_type": "markdown",
   "metadata": {},
   "source": [
    "Now the transform job has executed and the result, the estimated sentiment of each review, has been saved on S3. Since we would rather work on this file locally we can perform a bit of notebook magic to copy the file to the `data_dir`."
   ]
  },
  {
   "cell_type": "code",
   "execution_count": 27,
   "metadata": {},
   "outputs": [
    {
     "name": "stdout",
     "output_type": "stream",
     "text": [
      "Completed 256.0 KiB/370.4 KiB (2.3 MiB/s) with 1 file(s) remaining\r",
      "Completed 370.4 KiB/370.4 KiB (3.2 MiB/s) with 1 file(s) remaining\r",
      "download: s3://sagemaker-us-east-1-037802178319/xgboost-2019-12-05-11-36-14-241/test.csv.out to ../data/sentiment_web_app/test.csv.out\r\n"
     ]
    }
   ],
   "source": [
    "!aws s3 cp --recursive $xgb_transformer.output_path $data_dir"
   ]
  },
  {
   "cell_type": "markdown",
   "metadata": {},
   "source": [
    "The last step is now to read in the output from our model, convert the output to something a little more usable, in this case we want the sentiment to be either `1` (positive) or `0` (negative), and then compare to the ground truth labels."
   ]
  },
  {
   "cell_type": "code",
   "execution_count": 28,
   "metadata": {},
   "outputs": [],
   "source": [
    "predictions = pd.read_csv(os.path.join(data_dir, 'test.csv.out'), header=None)\n",
    "predictions = [round(num) for num in predictions.squeeze().values]"
   ]
  },
  {
   "cell_type": "code",
   "execution_count": 29,
   "metadata": {},
   "outputs": [
    {
     "data": {
      "text/plain": [
       "0.86268"
      ]
     },
     "execution_count": 29,
     "metadata": {},
     "output_type": "execute_result"
    }
   ],
   "source": [
    "from sklearn.metrics import accuracy_score\n",
    "accuracy_score(test_y, predictions)"
   ]
  },
  {
   "cell_type": "markdown",
   "metadata": {},
   "source": [
    "## Step 6: Deploying the model\n",
    "\n",
    "Once we construct and fit our model, SageMaker stores the resulting model artifacts and we can use those to deploy an endpoint (inference code). To see this, look in the SageMaker console and you should see that a model has been created along with a link to the S3 location where the model artifacts have been stored.\n",
    "\n",
    "Deploying an endpoint is a lot like training the model with a few important differences. The first is that a deployed model doesn't change the model artifacts, so as you send it various testing instances the model won't change. Another difference is that since we aren't performing a fixed computation, as we were in the training step or while performing a batch transform, the compute instance that gets started stays running until we tell it to stop. This is important to note as if we forget and leave it running we will be charged the entire time.\n",
    "\n",
    "In other words **If you are no longer using a deployed endpoint, shut it down!**"
   ]
  },
  {
   "cell_type": "code",
   "execution_count": 30,
   "metadata": {},
   "outputs": [
    {
     "name": "stderr",
     "output_type": "stream",
     "text": [
      "WARNING:sagemaker:Using already existing model: xgboost-2019-12-05-11-27-58-705\n"
     ]
    },
    {
     "name": "stdout",
     "output_type": "stream",
     "text": [
      "---------------------------------------------------------------------------------------------------------------!"
     ]
    }
   ],
   "source": [
    "xgb_predictor = xgb.deploy(initial_instance_count = 1, instance_type = 'ml.m4.xlarge')"
   ]
  },
  {
   "cell_type": "markdown",
   "metadata": {},
   "source": [
    "### Testing the model (again)\n",
    "\n",
    "Now that we have deployed our endpoint, we can send the testing data to it and get back the inference results. We already did this earlier using the batch transform functionality of SageMaker, however, we will test our model again using the newly deployed endpoint so that we can make sure that it works properly and to get a bit of a feel for how the endpoint works.\n",
    "\n",
    "When using the created endpoint it is important to know that we are limited in the amount of information we can send in each call so we need to break the testing data up into chunks and then send each chunk. Also, we need to serialize our data before we send it to the endpoint to ensure that our data is transmitted properly. Fortunately, SageMaker can do the serialization part for us provided we tell it the format of our data."
   ]
  },
  {
   "cell_type": "code",
   "execution_count": 31,
   "metadata": {},
   "outputs": [],
   "source": [
    "from sagemaker.predictor import csv_serializer\n",
    "\n",
    "# We need to tell the endpoint what format the data we are sending is in so that SageMaker can perform the serialization.\n",
    "xgb_predictor.content_type = 'text/csv'\n",
    "xgb_predictor.serializer = csv_serializer"
   ]
  },
  {
   "cell_type": "code",
   "execution_count": 32,
   "metadata": {},
   "outputs": [],
   "source": [
    "# We split the data into chunks and send each chunk seperately, accumulating the results.\n",
    "\n",
    "def predict(data, rows=512):\n",
    "    split_array = np.array_split(data, int(data.shape[0] / float(rows) + 1))\n",
    "    predictions = ''\n",
    "    for array in split_array:\n",
    "        predictions = ','.join([predictions, xgb_predictor.predict(array).decode('utf-8')])\n",
    "    \n",
    "    return np.fromstring(predictions[1:], sep=',')"
   ]
  },
  {
   "cell_type": "code",
   "execution_count": 33,
   "metadata": {},
   "outputs": [],
   "source": [
    "test_X = pd.read_csv(os.path.join(data_dir, 'test.csv'), header=None).values\n",
    "\n",
    "predictions = predict(test_X)\n",
    "predictions = [round(num) for num in predictions]"
   ]
  },
  {
   "cell_type": "markdown",
   "metadata": {},
   "source": [
    "Lastly, we check to see what the accuracy of our model is."
   ]
  },
  {
   "cell_type": "code",
   "execution_count": 34,
   "metadata": {},
   "outputs": [
    {
     "data": {
      "text/plain": [
       "0.86268"
      ]
     },
     "execution_count": 34,
     "metadata": {},
     "output_type": "execute_result"
    }
   ],
   "source": [
    "from sklearn.metrics import accuracy_score\n",
    "accuracy_score(test_y, predictions)"
   ]
  },
  {
   "cell_type": "markdown",
   "metadata": {},
   "source": [
    "And the results here should agree with the model testing that we did earlier using the batch transform job.\n",
    "\n",
    "### Cleaning up\n",
    "\n",
    "Now that we've determined that deploying our model works as expected, we are going to shut it down. Remember that the longer the endpoint is left running, the greater the cost and since we have a bit more work to do before we are able to use our endpoint with our simple web app, we should shut everything down."
   ]
  },
  {
   "cell_type": "code",
   "execution_count": 35,
   "metadata": {},
   "outputs": [],
   "source": [
    "xgb_predictor.delete_endpoint()"
   ]
  },
  {
   "cell_type": "markdown",
   "metadata": {},
   "source": [
    "## Step 7: Putting our model to work\n",
    "\n",
    "As we've mentioned a few times now, our goal is to have our model deployed and then access it using a very simple web app. The intent is for this web app to take some user submitted data (a review), send it off to our endpoint (the model) and then display the result.\n",
    "\n",
    "However, there is a small catch. Currently the only way we can access the endpoint to send it data is using the SageMaker API. We can, if we wish, expose the actual URL that our model's endpoint is receiving data from, however, if we just send it data ourselves we will not get anything in return. This is because the endpoint created by SageMaker requires the entity accessing it have the correct permissions. So, we would need to somehow authenticate our web app with AWS.\n",
    "\n",
    "Having a website that authenticates to AWS seems a bit beyond the scope of this lesson so we will opt for an alternative approach. Namely, we will create a new endpoint which does not require authentication and which acts as a proxy for the SageMaker endpoint.\n",
    "\n",
    "As an additional constraint, we will try to avoid doing any data processing in the web app itself. Remember that when we constructed and tested our model we started with a movie review, then we simplified it by removing any html formatting and punctuation, then we constructed a bag of words embedding and the resulting vector is what we sent to our model. All of this needs to be done to our user input as well.\n",
    "\n",
    "Fortunately we can do all of this data processing in the backend, using Amazon's Lambda service.\n",
    "\n",
    "<img src=\"Web App Diagram.svg\">\n",
    "\n",
    "The diagram above gives an overview of how the various services will work together. On the far right is the model which we trained above and which will be deployed using SageMaker. On the far left is our web app that collects a user's movie review, sends it off and expects a positive or negative sentiment in return.\n",
    "\n",
    "In the middle is where some of the magic happens. We will construct a Lambda function, which you can think of as a straightforward Python function that can be executed whenever a specified event occurs. This Python function will do the data processing we need to perform on a user submitted review. In addition, we will give this function permission to send and recieve data from a SageMaker endpoint.\n",
    "\n",
    "Lastly, the method we will use to execute the Lambda function is a new endpoint that we will create using API Gateway. This endpoint will be a url that listens for data to be sent to it. Once it gets some data it will pass that data on to the Lambda function and then return whatever the Lambda function returns. Essentially it will act as an interface that lets our web app communicate with the Lambda function.\n",
    "\n",
    "### Processing a single review\n",
    "\n",
    "For now, suppose we are given a movie review by our user in the form of a string, like so:"
   ]
  },
  {
   "cell_type": "code",
   "execution_count": 36,
   "metadata": {},
   "outputs": [],
   "source": [
    "test_review = \"Nothing but a disgusting materialistic pageant of glistening abed remote control greed zombies, totally devoid of any heart or heat. A romantic comedy that has zero romantic chemestry and zero laughs!\""
   ]
  },
  {
   "cell_type": "markdown",
   "metadata": {},
   "source": [
    "How do we go from this string to the bag of words feature vector that is expected by our model?\n",
    "\n",
    "If we recall at the beginning of this notebook, the first step is to remove any unnecessary characters using the `review_to_words` method. Remember that we intentionally did this in a very simplistic way. This is because we are going to have to copy this method to our (eventual) Lambda function (we will go into more detail later) and this means it needs to be rather simplistic."
   ]
  },
  {
   "cell_type": "code",
   "execution_count": 37,
   "metadata": {},
   "outputs": [
    {
     "name": "stdout",
     "output_type": "stream",
     "text": [
      "nothing but a disgusting materialistic pageant of glistening abed remote control greed zombies totally devoid of any heart or heat a romantic comedy that has zero romantic chemestry and zero laughs\n"
     ]
    }
   ],
   "source": [
    "test_words = review_to_words(test_review)\n",
    "print(test_words)"
   ]
  },
  {
   "cell_type": "markdown",
   "metadata": {},
   "source": [
    "Next, we need to construct a bag of words embedding of the `test_words` string. To do this, remember that a bag of words embedding uses a `vocabulary` consisting of the most frequently appearing words in a set of documents. Then, for each word in the vocabulary we record the number of times that word appears in `test_words`. We constructed the `vocabulary` earlier using the training set for our problem so encoding `test_words` is relatively straightforward."
   ]
  },
  {
   "cell_type": "code",
   "execution_count": 38,
   "metadata": {},
   "outputs": [],
   "source": [
    "def bow_encoding(words, vocabulary):\n",
    "    bow = [0] * len(vocabulary) # Start by setting the count for each word in the vocabulary to zero.\n",
    "    for word in words.split():  # For each word in the string\n",
    "        if word in vocabulary:  # If the word is one that occurs in the vocabulary, increase its count.\n",
    "            bow[vocabulary[word]] += 1\n",
    "    return bow"
   ]
  },
  {
   "cell_type": "code",
   "execution_count": 39,
   "metadata": {},
   "outputs": [
    {
     "name": "stdout",
     "output_type": "stream",
     "text": [
      "[0, 0, 0, 0, 0, 0, 0, 0, 0, 0, 0, 0, 0, 0, 0, 0, 0, 0, 0, 0, 0, 0, 0, 0, 0, 0, 0, 0, 0, 0, 0, 0, 0, 0, 0, 0, 0, 0, 0, 0, 0, 0, 0, 0, 0, 0, 0, 0, 0, 0, 0, 0, 0, 0, 0, 0, 0, 0, 0, 0, 0, 0, 0, 0, 0, 0, 0, 0, 0, 0, 0, 0, 0, 0, 0, 0, 0, 0, 0, 0, 0, 0, 0, 0, 0, 0, 0, 0, 0, 0, 0, 0, 0, 0, 0, 0, 0, 0, 0, 0, 0, 0, 0, 0, 0, 0, 0, 0, 0, 0, 0, 0, 0, 0, 0, 0, 0, 0, 0, 0, 0, 0, 0, 0, 0, 0, 0, 0, 0, 0, 0, 0, 0, 0, 0, 0, 0, 0, 0, 0, 0, 0, 0, 0, 0, 0, 0, 0, 0, 0, 0, 0, 0, 0, 0, 0, 0, 0, 0, 0, 0, 0, 0, 0, 0, 0, 0, 0, 0, 0, 0, 0, 0, 0, 0, 0, 0, 0, 0, 0, 0, 0, 0, 0, 0, 0, 0, 0, 0, 0, 0, 0, 0, 0, 0, 0, 0, 0, 0, 0, 0, 0, 0, 0, 0, 0, 0, 0, 0, 0, 0, 0, 0, 0, 0, 0, 0, 0, 0, 0, 0, 0, 0, 0, 0, 0, 1, 0, 0, 0, 0, 0, 0, 0, 0, 0, 0, 0, 0, 0, 0, 0, 0, 0, 0, 0, 0, 0, 0, 0, 0, 0, 0, 0, 0, 0, 1, 0, 0, 0, 0, 0, 0, 0, 0, 0, 0, 0, 0, 0, 0, 0, 0, 0, 0, 0, 0, 0, 0, 0, 0, 0, 0, 0, 0, 0, 0, 0, 0, 0, 0, 0, 0, 0, 0, 0, 0, 0, 0, 0, 0, 0, 0, 0, 0, 0, 0, 0, 0, 0, 0, 0, 0, 0, 0, 0, 0, 0, 0, 0, 0, 0, 0, 0, 0, 0, 0, 0, 0, 0, 0, 0, 0, 0, 0, 0, 0, 0, 0, 0, 0, 0, 0, 0, 0, 0, 0, 0, 0, 0, 0, 0, 0, 0, 0, 0, 0, 0, 0, 0, 0, 0, 0, 0, 0, 0, 0, 0, 0, 0, 0, 0, 0, 0, 0, 0, 0, 0, 0, 0, 0, 0, 0, 0, 0, 0, 0, 0, 0, 0, 0, 0, 0, 0, 0, 0, 0, 0, 0, 0, 0, 0, 0, 0, 0, 0, 0, 0, 0, 0, 0, 0, 0, 0, 0, 0, 0, 0, 0, 0, 0, 0, 0, 0, 0, 0, 0, 0, 0, 0, 0, 0, 0, 0, 0, 0, 0, 0, 0, 0, 0, 0, 0, 0, 0, 0, 0, 0, 0, 0, 0, 0, 0, 0, 0, 0, 0, 0, 0, 0, 0, 0, 0, 0, 0, 0, 0, 0, 0, 0, 0, 0, 0, 0, 0, 0, 0, 0, 0, 0, 0, 0, 0, 0, 0, 0, 0, 0, 0, 0, 0, 0, 0, 0, 0, 0, 0, 0, 0, 0, 0, 0, 0, 0, 0, 0, 0, 0, 0, 0, 0, 0, 0, 0, 0, 0, 0, 0, 0, 0, 0, 0, 0, 0, 0, 0, 0, 0, 0, 0, 0, 0, 0, 0, 0, 0, 0, 0, 0, 0, 0, 0, 0, 0, 0, 0, 0, 0, 0, 0, 0, 0, 0, 0, 0, 0, 0, 0, 0, 0, 0, 0, 0, 0, 0, 0, 0, 0, 0, 0, 0, 0, 0, 0, 0, 0, 0, 0, 0, 0, 0, 0, 0, 0, 0, 0, 0, 0, 0, 0, 0, 0, 0, 0, 0, 0, 0, 0, 0, 0, 0, 0, 0, 0, 0, 0, 0, 0, 0, 0, 0, 0, 0, 0, 0, 0, 0, 0, 0, 0, 0, 0, 0, 0, 0, 0, 0, 0, 0, 0, 0, 0, 0, 0, 0, 0, 1, 0, 0, 0, 0, 0, 0, 0, 0, 0, 0, 0, 0, 0, 0, 0, 0, 0, 0, 0, 0, 0, 0, 0, 0, 0, 0, 0, 0, 0, 0, 0, 0, 0, 0, 0, 0, 0, 0, 0, 0, 0, 0, 0, 0, 0, 0, 0, 0, 0, 0, 0, 0, 0, 0, 0, 0, 0, 0, 0, 0, 0, 0, 0, 0, 0, 0, 0, 0, 0, 0, 0, 0, 0, 0, 0, 0, 0, 0, 0, 0, 0, 0, 0, 0, 0, 0, 0, 0, 0, 0, 0, 0, 0, 0, 0, 0, 0, 0, 0, 0, 0, 0, 0, 0, 0, 0, 0, 0, 0, 0, 0, 0, 0, 0, 0, 0, 0, 0, 0, 0, 0, 0, 0, 0, 0, 0, 0, 0, 0, 0, 0, 0, 0, 0, 0, 0, 0, 0, 0, 0, 0, 0, 0, 0, 0, 0, 0, 0, 0, 0, 0, 0, 0, 0, 0, 0, 0, 0, 0, 0, 0, 0, 0, 0, 0, 0, 0, 0, 0, 0, 0, 0, 0, 0, 0, 0, 0, 0, 0, 0, 0, 0, 0, 0, 0, 0, 0, 0, 0, 0, 0, 0, 0, 0, 0, 0, 0, 0, 0, 0, 0, 0, 0, 0, 0, 0, 0, 0, 0, 0, 0, 0, 0, 0, 0, 0, 0, 0, 0, 0, 0, 0, 0, 0, 0, 0, 0, 0, 0, 0, 0, 0, 0, 0, 0, 0, 0, 0, 0, 0, 0, 0, 0, 0, 0, 0, 0, 0, 0, 0, 0, 0, 0, 1, 0, 0, 0, 0, 0, 0, 0, 0, 0, 0, 0, 0, 0, 0, 0, 0, 0, 0, 0, 0, 0, 0, 0, 0, 0, 0, 0, 0, 0, 0, 0, 0, 0, 0, 0, 0, 0, 0, 0, 0, 0, 0, 0, 0, 0, 0, 0, 0, 0, 0, 0, 0, 0, 0, 0, 0, 0, 0, 0, 0, 0, 0, 0, 0, 0, 0, 0, 0, 0, 0, 0, 0, 0, 0, 0, 0, 0, 0, 0, 0, 0, 0, 0, 0, 0, 0, 1, 0, 0, 0, 0, 0, 0, 0, 0, 0, 0, 0, 0, 0, 0, 0, 0, 0, 0, 0, 0, 0, 0, 0, 0, 0, 0, 0, 0, 0, 0, 0, 0, 0, 0, 0, 0, 0, 0, 0, 0, 0, 0, 0, 0, 0, 0, 0, 0, 0, 0, 0, 0, 0, 0, 0, 0, 0, 0, 0, 0, 0, 0, 0, 0, 0, 0, 0, 0, 0, 0, 0, 0, 0, 0, 0, 0, 0, 0, 0, 0, 0, 0, 0, 0, 0, 0, 0, 0, 0, 0, 0, 0, 0, 0, 0, 0, 0, 0, 0, 0, 0, 0, 0, 0, 0, 0, 0, 0, 0, 0, 0, 0, 0, 0, 0, 0, 0, 0, 0, 0, 0, 0, 0, 0, 0, 0, 0, 0, 0, 0, 0, 0, 0, 0, 0, 0, 0, 0, 0, 0, 0, 0, 0, 0, 0, 0, 0, 0, 0, 0, 0, 0, 0, 0, 0, 0, 0, 0, 0, 0, 0, 0, 0, 0, 0, 0, 0, 0, 0, 0, 0, 0, 0, 0, 0, 0, 0, 0, 0, 0, 0, 0, 0, 0, 0, 0, 0, 0, 0, 0, 0, 0, 0, 0, 0, 0, 0, 0, 0, 0, 0, 0, 0, 0, 0, 0, 0, 0, 0, 0, 0, 0, 0, 0, 0, 0, 0, 0, 0, 0, 0, 0, 0, 0, 0, 0, 0, 0, 0, 0, 0, 0, 0, 0, 0, 0, 0, 0, 0, 0, 0, 0, 0, 0, 0, 0, 0, 0, 0, 0, 0, 0, 1, 0, 0, 0, 0, 0, 0, 0, 0, 0, 0, 0, 0, 0, 0, 0, 0, 0, 0, 0, 0, 0, 0, 0, 0, 0, 0, 0, 0, 0, 0, 0, 0, 0, 0, 0, 0, 0, 0, 0, 0, 0, 0, 0, 0, 0, 0, 0, 0, 0, 0, 0, 0, 0, 0, 0, 1, 0, 0, 0, 0, 0, 0, 0, 0, 0, 0, 0, 0, 0, 0, 0, 0, 0, 0, 0, 0, 0, 0, 0, 0, 0, 0, 0, 0, 0, 0, 0, 0, 0, 0, 0, 0, 0, 0, 0, 0, 0, 0, 0, 0, 0, 0, 0, 0, 0, 0, 0, 0, 0, 0, 0, 0, 0, 0, 0, 0, 0, 0, 0, 0, 0, 0, 0, 0, 0, 0, 0, 0, 0, 0, 0, 0, 0, 0, 0, 0, 0, 0, 0, 0, 0, 0, 0, 0, 0, 0, 0, 0, 0, 0, 0, 0, 0, 0, 0, 0, 0, 0, 0, 0, 0, 0, 0, 0, 0, 0, 0, 0, 0, 0, 0, 0, 0, 0, 0, 0, 0, 0, 0, 0, 0, 0, 0, 0, 0, 0, 0, 0, 0, 0, 0, 0, 0, 0, 0, 0, 0, 0, 0, 0, 0, 0, 0, 0, 0, 0, 0, 0, 0, 0, 0, 0, 0, 0, 0, 0, 0, 0, 0, 0, 0, 0, 0, 0, 0, 0, 0, 0, 0, 0, 0, 0, 0, 0, 0, 0, 0, 0, 0, 0, 0, 0, 0, 0, 0, 0, 0, 0, 0, 0, 0, 0, 0, 0, 0, 0, 0, 0, 0, 0, 0, 0, 0, 0, 0, 0, 0, 0, 0, 0, 0, 0, 0, 0, 0, 0, 0, 0, 0, 0, 0, 0, 0, 0, 0, 0, 0, 0, 0, 0, 0, 0, 0, 0, 0, 0, 0, 0, 0, 0, 0, 0, 0, 0, 0, 0, 0, 0, 0, 0, 0, 0, 0, 0, 0, 0, 0, 0, 0, 0, 0, 0, 0, 0, 0, 0, 0, 0, 0, 0, 0, 0, 0, 0, 0, 0, 0, 0, 0, 0, 0, 0, 0, 0, 0, 0, 0, 0, 0, 0, 0, 0, 0, 0, 0, 0, 0, 0, 0, 0, 0, 0, 0, 0, 0, 0, 0, 0, 0, 0, 0, 0, 0, 0, 0, 0, 0, 0, 0, 0, 0, 0, 0, 0, 0, 0, 0, 0, 0, 0, 0, 0, 0, 0, 0, 0, 0, 0, 0, 0, 0, 0, 0, 0, 0, 0, 0, 0, 0, 0, 0, 0, 0, 0, 0, 0, 0, 0, 0, 0, 0, 0, 0, 0, 0, 0, 0, 0, 0, 0, 0, 0, 0, 0, 0, 0, 0, 0, 0, 0, 0, 0, 0, 0, 0, 0, 0, 0, 0, 0, 0, 0, 0, 0, 0, 0, 0, 0, 0, 0, 0, 0, 0, 0, 0, 0, 0, 0, 0, 0, 0, 0, 0, 0, 0, 0, 0, 0, 0, 0, 0, 0, 0, 0, 0, 0, 0, 0, 0, 0, 0, 0, 0, 0, 0, 0, 0, 0, 0, 0, 0, 0, 0, 0, 0, 0, 0, 0, 0, 0, 0, 0, 0, 0, 0, 0, 0, 0, 0, 0, 0, 0, 0, 0, 0, 0, 0, 0, 0, 0, 0, 0, 0, 0, 0, 0, 0, 0, 0, 0, 0, 0, 0, 0, 0, 0, 0, 0, 0, 0, 0, 0, 0, 0, 0, 0, 0, 0, 0, 0, 0, 0, 0, 0, 0, 0, 0, 0, 0, 0, 0, 0, 0, 0, 0, 0, 0, 0, 0, 0, 0, 0, 0, 0, 0, 0, 0, 0, 0, 0, 0, 0, 0, 0, 0, 0, 0, 0, 0, 0, 0, 0, 0, 0, 0, 0, 0, 0, 0, 0, 0, 0, 0, 0, 0, 0, 0, 0, 0, 0, 0, 0, 0, 0, 0, 0, 0, 0, 0, 0, 0, 0, 0, 0, 0, 0, 0, 0, 0, 0, 0, 0, 0, 0, 0, 0, 0, 0, 0, 0, 0, 0, 0, 0, 0, 0, 0, 0, 0, 0, 0, 0, 0, 0, 0, 0, 0, 0, 0, 0, 0, 0, 0, 0, 0, 0, 0, 0, 0, 0, 0, 0, 0, 0, 0, 0, 0, 0, 0, 0, 0, 0, 0, 0, 0, 0, 0, 0, 0, 0, 0, 0, 0, 0, 0, 0, 0, 0, 0, 0, 0, 0, 0, 0, 0, 0, 0, 0, 0, 0, 0, 0, 0, 0, 0, 0, 0, 0, 0, 0, 0, 0, 0, 0, 0, 0, 0, 1, 0, 0, 0, 0, 0, 0, 0, 0, 0, 0, 0, 0, 0, 0, 0, 0, 0, 0, 0, 0, 0, 0, 0, 0, 0, 0, 0, 0, 0, 0, 0, 0, 0, 0, 0, 0, 0, 0, 0, 0, 0, 0, 0, 0, 0, 0, 0, 0, 0, 0, 0, 0, 0, 0, 0, 0, 0, 0, 0, 0, 0, 0, 0, 0, 0, 0, 0, 0, 0, 0, 0, 0, 0, 0, 1, 0, 0, 0, 0, 0, 0, 0, 0, 0, 0, 0, 0, 0, 0, 0, 0, 0, 0, 0, 0, 1, 0, 0, 1, 0, 0, 0, 0, 0, 0, 0, 0, 0, 0, 0, 0, 0, 0, 0, 0, 0, 0, 0, 0, 0, 0, 0, 0, 0, 0, 0, 0, 0, 0, 0, 0, 0, 0, 0, 0, 0, 0, 0, 0, 0, 0, 0, 0, 0, 0, 0, 0, 0, 0, 0, 0, 0, 0, 0, 0, 0, 0, 0, 0, 0, 0, 0, 0, 0, 0, 0, 0, 0, 0, 0, 0, 0, 0, 0, 0, 0, 0, 0, 0, 0, 0, 0, 0, 0, 0, 0, 0, 0, 0, 0, 0, 0, 0, 0, 0, 0, 0, 0, 0, 0, 0, 0, 0, 0, 0, 0, 0, 0, 0, 0, 0, 0, 0, 0, 0, 0, 0, 0, 0, 0, 0, 0, 0, 0, 0, 0, 0, 0, 0, 0, 0, 0, 0, 0, 0, 0, 0, 0, 0, 0, 0, 0, 0, 0, 0, 0, 0, 0, 0, 0, 0, 0, 0, 0, 0, 0, 0, 0, 0, 0, 0, 0, 0, 0, 0, 0, 0, 0, 0, 0, 0, 0, 0, 0, 0, 0, 0, 0, 0, 0, 0, 0, 0, 0, 0, 0, 0, 0, 0, 0, 0, 0, 0, 0, 0, 0, 0, 0, 0, 0, 0, 0, 0, 0, 0, 0, 0, 0, 0, 0, 0, 0, 0, 0, 0, 0, 0, 0, 0, 0, 0, 0, 0, 0, 0, 0, 0, 0, 0, 0, 0, 0, 0, 0, 0, 0, 0, 0, 0, 0, 0, 0, 0, 0, 0, 0, 0, 0, 0, 0, 0, 0, 0, 0, 0, 0, 0, 0, 0, 0, 0, 0, 0, 0, 0, 0, 0, 0, 0, 0, 0, 0, 0, 0, 0, 0, 0, 0, 0, 0, 0, 0, 0, 0, 0, 0, 0, 0, 0, 0, 0, 0, 0, 0, 0, 0, 0, 0, 0, 0, 0, 0, 0, 0, 0, 0, 0, 0, 0, 0, 0, 0, 0, 0, 0, 0, 0, 0, 0, 0, 0, 0, 0, 0, 0, 0, 0, 0, 0, 0, 0, 0, 0, 0, 0, 0, 0, 0, 0, 0, 0, 0, 0, 0, 0, 0, 0, 0, 0, 0, 0, 0, 0, 0, 0, 0, 0, 0, 0, 0, 0, 0, 0, 0, 0, 0, 0, 0, 0, 0, 0, 0, 0, 0, 0, 0, 0, 0, 0, 0, 0, 0, 0, 0, 0, 0, 0, 0, 0, 0, 0, 0, 0, 0, 0, 0, 0, 0, 0, 0, 0, 0, 0, 0, 0, 0, 0, 0, 0, 0, 0, 0, 0, 0, 0, 0, 0, 0, 0, 0, 0, 0, 0, 0, 0, 0, 0, 0, 0, 0, 0, 0, 0, 0, 0, 0, 0, 0, 0, 0, 0, 0, 0, 0, 0, 0, 0, 0, 0, 0, 0, 0, 0, 0, 0, 0, 0, 0, 0, 0, 0, 0, 0, 0, 0, 1, 0, 0, 0, 0, 0, 0, 0, 0, 0, 0, 0, 0, 0, 0, 0, 0, 0, 0, 0, 0, 0, 0, 0, 0, 0, 0, 0, 0, 0, 0, 0, 0, 0, 0, 0, 0, 0, 0, 0, 0, 0, 0, 0, 0, 0, 0, 0, 0, 0, 0, 0, 0, 0, 0, 0, 0, 0, 0, 0, 0, 0, 0, 0, 0, 0, 0, 0, 0, 0, 0, 0, 0, 0, 0, 0, 0, 0, 0, 0, 0, 0, 0, 0, 0, 0, 0, 0, 0, 0, 0, 0, 0, 0, 0, 0, 0, 0, 0, 0, 0, 0, 0, 0, 0, 0, 0, 0, 0, 0, 0, 0, 0, 0, 0, 0, 0, 0, 0, 0, 0, 0, 0, 0, 0, 0, 0, 0, 0, 0, 0, 0, 0, 0, 0, 0, 0, 0, 0, 0, 0, 0, 0, 0, 0, 0, 0, 0, 0, 0, 0, 0, 0, 0, 0, 0, 0, 0, 0, 0, 0, 0, 0, 0, 0, 0, 0, 0, 0, 0, 0, 0, 0, 0, 0, 0, 0, 0, 0, 0, 0, 0, 0, 0, 0, 0, 0, 0, 0, 0, 0, 0, 0, 0, 0, 0, 0, 0, 0, 0, 0, 0, 0, 0, 0, 0, 0, 0, 0, 0, 0, 0, 0, 0, 0, 0, 0, 0, 0, 0, 0, 0, 0, 0, 0, 0, 0, 0, 0, 0, 0, 0, 0, 0, 0, 0, 0, 0, 0, 0, 0, 0, 0, 0, 0, 0, 0, 0, 0, 0, 0, 0, 0, 0, 0, 0, 0, 0, 0, 0, 0, 0, 0, 0, 0, 0, 0, 0, 0, 0, 0, 0, 0, 0, 0, 0, 0, 0, 0, 0, 0, 0, 0, 0, 0, 0, 0, 0, 0, 0, 0, 0, 0, 0, 0, 0, 0, 0, 0, 0, 0, 0, 0, 0, 0, 0, 0, 0, 0, 0, 0, 0, 0, 0, 0, 0, 0, 0, 0, 0, 0, 0, 0, 0, 0, 0, 0, 0, 0, 0, 0, 0, 0, 0, 0, 0, 0, 0, 0, 0, 0, 0, 0, 0, 0, 0, 0, 0, 0, 0, 0, 0, 0, 0, 0, 0, 0, 0, 0, 0, 0, 0, 0, 0, 0, 0, 0, 0, 0, 0, 0, 0, 0, 0, 0, 0, 0, 0, 0, 0, 0, 0, 0, 0, 0, 0, 0, 0, 0, 0, 0, 0, 0, 0, 0, 0, 0, 0, 0, 0, 0, 0, 0, 0, 0, 0, 0, 0, 0, 0, 0, 0, 0, 0, 0, 0, 0, 0, 0, 0, 0, 0, 0, 0, 0, 0, 0, 0, 0, 0, 0, 0, 0, 0, 0, 0, 0, 0, 0, 0, 0, 0, 0, 0, 0, 0, 0, 0, 0, 0, 0, 0, 0, 0, 0, 0, 0, 0, 0, 0, 0, 0, 0, 0, 0, 0, 0, 0, 0, 0, 0, 0, 0, 0, 0, 0, 0, 0, 0, 0, 0, 0, 0, 0, 0, 0, 0, 0, 0, 0, 0, 0, 0, 0, 0, 0, 0, 0, 0, 0, 0, 0, 0, 0, 0, 0, 0, 0, 0, 0, 0, 0, 0, 1, 0, 0, 0, 0, 0, 0, 0, 0, 0, 0, 0, 0, 0, 0, 0, 0, 0, 0, 0, 0, 0, 0, 0, 0, 0, 0, 0, 0, 0, 0, 0, 0, 0, 0, 0, 2, 0, 0, 0, 0, 0, 0, 0, 0, 0, 0, 0, 0, 0, 0, 0, 0, 0, 0, 0, 0, 0, 0, 0, 0, 0, 0, 0, 0, 0, 0, 0, 0, 0, 0, 0, 0, 0, 0, 0, 0, 1, 0, 0, 0, 0, 0, 0, 0, 0, 0, 0, 0, 0, 0, 0, 0, 0, 0, 0, 0, 0, 0, 0, 0, 0, 0, 0, 0, 0, 0, 0, 0, 0, 0, 0, 0, 0, 0, 0, 0, 0, 0, 0, 0, 0, 0, 0, 0, 0, 0, 0, 0, 0, 0, 0, 0, 0, 0, 0, 0, 0, 0, 0, 0, 0, 0, 0, 0, 0, 0, 0, 0, 0, 0, 0, 0, 0, 0, 0, 0, 0, 0, 0, 0, 0, 0, 0, 0, 0, 0, 0, 0, 0, 0, 0, 0, 0, 0, 0, 0, 0, 0, 0, 0, 0, 0, 0, 0, 0, 0, 0, 0, 0, 0, 0, 0, 0, 0, 0, 0, 0, 0, 0, 0, 0, 0, 0, 0, 0, 0, 0, 0, 0, 0, 0, 0, 0, 0, 0, 0, 0, 0, 0, 0, 0, 0, 0, 0, 0, 0, 0, 0, 0, 0, 0, 0, 0, 0, 0, 0, 0, 0, 0, 0, 0, 0, 0, 0, 0, 0, 0, 0, 0, 0, 0, 0, 0, 0, 0, 0, 0, 0, 0, 0, 0, 0, 0, 0, 0, 0, 0, 0, 0, 0, 0, 0, 0, 0, 0, 0, 0, 0, 0, 0, 0, 0, 0, 0, 0, 0, 0, 0, 0, 0, 0, 0, 0, 0, 0, 0, 0, 0, 0, 0, 0, 0, 0, 0, 0, 0, 0, 0, 0, 0, 0, 0, 0, 0, 0, 0, 0, 0, 0, 0, 0, 0, 0, 0, 0, 0, 0, 0, 0, 0, 0, 0, 0, 0, 0, 0, 0, 0, 0, 0, 0, 0, 0, 0, 0, 0, 0, 0, 0, 0, 0, 0, 0, 0, 0, 0, 0, 0, 0, 0, 0, 0, 0, 0, 0, 0, 0, 0, 0, 0, 0, 0, 0, 0, 0, 0, 0, 0, 0, 0, 0, 0, 0, 0, 0, 0, 0, 0, 0, 0, 0, 0, 0, 0, 0, 0, 0, 0, 0, 0, 0, 0, 0, 0, 0, 0, 0, 0, 0, 0, 0, 0, 0, 0, 0, 0, 0, 0, 0, 0, 0, 0, 0, 0, 0, 0, 0, 0, 0, 0, 0, 0, 0, 0, 0, 0, 0, 0, 0, 0, 0, 0, 0, 0, 0, 0, 0, 0, 0, 0, 0, 0, 0, 0, 0, 0, 0, 0, 0, 0, 0, 0, 0, 0, 0, 0, 0, 0, 0, 0, 0, 0, 0, 0, 0, 0, 0, 0, 0, 0, 0, 0, 0, 0, 0, 0, 0, 0, 0, 0, 0, 0, 0, 0, 0, 0, 0, 0, 0, 0, 0, 0, 0, 0, 0, 0, 0, 0, 0, 0, 0, 0, 0, 0, 0, 0, 0, 0, 0, 0, 0, 0, 0, 0, 0, 0, 0, 0, 0, 0, 0, 0, 0, 0, 0, 0, 0, 0, 0, 0, 0, 0, 0, 0, 0, 0, 0, 0, 0, 0, 0, 0, 0, 0, 0, 0, 0, 0, 0, 0, 0, 0, 0, 0, 0, 0, 0, 0, 0, 0, 0, 0, 0, 0, 1, 0, 0, 0, 0, 0, 0, 0, 0, 0, 0, 0, 0, 0, 0, 0, 0, 0, 0, 0, 0, 0, 0, 0, 0, 0, 0, 0, 0, 0, 0, 0, 0, 0, 0, 0, 0, 0, 0, 0, 0, 0, 0, 0, 0, 0, 0, 0, 0, 0, 0, 0, 0, 0, 0, 0, 0, 0, 0, 0, 0, 0, 0, 0, 0, 0, 0, 0, 0, 0, 0, 0, 0, 0, 0, 0, 0, 0, 0, 0, 0, 0, 0, 0, 0, 0, 0, 0, 0, 0, 0, 0, 0, 0, 0, 0, 0, 0, 0, 0, 0, 0, 0, 0, 0, 0, 0, 0, 0, 0, 0, 2, 0, 0, 0, 0, 0, 0, 0, 0, 0, 0, 0, 0, 0, 0, 0, 0, 0, 0, 0, 0, 0, 0, 0, 0, 0, 0, 0, 0, 0, 0, 0, 0, 0, 0, 0, 0, 0, 0, 0, 0, 0, 0, 0, 0, 0, 0, 0, 0, 0, 0, 0, 0, 0, 0, 0, 0, 0, 0, 0, 0, 0, 0, 0, 0, 0, 0, 0, 0, 0, 0, 0, 0, 0, 0, 0, 0, 0, 0, 0, 0, 0, 0, 0, 0, 0, 0, 0, 0, 0, 0, 0, 0, 0, 0, 0, 0, 0, 0, 0, 0, 0, 0, 0, 0, 0, 0, 0, 0, 0, 0, 0, 0, 0, 0, 0, 0, 0, 0, 0, 0, 0, 0, 0, 0, 0, 0, 0, 0, 0, 0, 0, 0, 0, 0, 0, 0, 0, 0, 0, 0, 0, 0, 0, 0, 0, 0, 0, 0, 0, 0, 0, 0, 0, 0, 0, 0, 0, 0, 0, 0, 0, 0, 0, 0, 0, 0, 0, 0, 0, 0, 0, 0, 0, 0, 0, 0, 0, 0, 0, 0, 0, 0, 0, 0, 0, 0, 0, 0, 0, 0, 0, 0, 0, 0, 0, 0, 0, 0, 0, 0, 0, 0, 0, 0, 0, 0, 0, 0, 0, 0, 0, 0, 0, 0, 0, 0, 0, 0, 0, 0, 0, 0, 0, 0, 0, 0, 0, 0, 0, 0, 0, 0, 0, 0, 0, 0, 0, 0, 0, 0, 0, 0, 0, 0, 0, 0, 0, 0, 0, 0, 0, 0, 0, 0, 0, 0, 0, 0, 0, 0, 0, 0, 0, 0, 0, 0, 0, 0, 0, 0, 0, 0, 0, 0, 0, 0, 0, 0, 0, 0, 0, 0, 0, 0, 0, 0, 0, 0, 0, 0, 0, 0, 0, 0, 0, 0, 0, 0, 0, 0, 0, 0, 0, 0, 0, 0, 0, 0, 0, 0, 0, 0, 0, 0, 0, 0, 0, 0, 0, 0, 0, 0, 0, 0, 0, 0, 0, 0, 0, 0, 0, 0, 0, 0, 0, 0, 0, 0, 0, 0, 0, 0, 0, 0, 0, 0, 0, 0, 0, 0, 0, 0, 0, 0, 0, 0, 0, 0, 0, 0, 0, 0, 0, 0, 0, 0, 0, 0, 0, 0, 0, 0, 0, 0, 0, 0, 0, 0, 0, 0, 0, 0, 0, 0, 0, 0, 0, 0, 0, 0, 0, 0, 0, 0, 0, 0, 0, 0, 0, 0, 0, 0, 0, 0, 0, 0, 0, 0, 0, 0, 0, 0, 0, 0, 0, 0, 0, 0, 0, 0, 0, 0, 0, 0, 0, 0, 0, 0, 0, 0, 0, 0, 0, 0, 0, 0, 0, 0, 0, 0, 0, 0, 0, 0, 0, 0, 0, 0, 0, 0, 0, 0, 0, 0, 0, 0, 0, 0, 0, 0, 0, 0, 0, 0, 0, 0, 0, 0, 0, 0, 0, 0, 0, 0, 0, 0, 0, 0, 0, 0, 0, 0, 0, 0, 0, 0, 0, 0, 0, 0, 0, 0, 0, 0, 0, 0, 0, 0, 0, 0, 0, 0, 0, 0, 0, 0, 0, 0, 0, 0, 0, 0, 0, 0, 0, 0, 0, 0, 0, 0, 0, 0, 0, 0, 0, 0, 0, 0, 0, 0, 0, 0, 0, 0, 0, 0, 0, 0, 0, 0, 0, 0, 0, 0, 0, 0, 0, 0, 0, 0, 0, 0, 0, 0, 0, 0, 0, 0, 0, 0, 0, 0, 0, 0, 0, 0, 0, 0, 0, 0, 0, 0, 0, 0, 0, 0, 0, 0, 0, 0, 0, 0, 0, 0, 0, 0, 0, 0, 0, 0, 0, 0, 0, 0, 0, 0, 0, 0, 0, 0, 0, 0, 0, 0, 0, 0, 0, 0, 0, 0, 0, 0, 0, 0, 0, 0, 0, 0, 0, 0, 0, 0, 0, 0, 0, 0, 0, 0, 0, 0, 0, 0, 0, 0, 0, 0, 0, 0, 0, 0, 0, 0, 0, 0, 0, 0, 0, 0, 0, 0, 0, 0, 0, 0, 0, 0, 0, 0, 0, 0, 0, 0, 0, 0, 0, 0, 0, 0, 0, 0, 0, 0, 0, 0, 0, 0, 0, 0, 0, 0, 0, 0, 0, 0, 0, 0, 0, 0, 0, 0, 1, 0, 0, 0, 0, 0, 0, 0, 0, 0, 0, 0, 0, 0, 0, 0, 0, 0, 0, 0, 0, 0, 0, 0, 0, 0, 0, 0, 0, 0, 0, 0, 0, 0, 0, 0, 0, 0, 0, 0, 0, 0, 0, 0, 0, 0, 0, 0, 0, 0, 0, 0, 0, 0, 0, 0, 0, 0, 0, 0, 0, 0, 0, 0, 0, 0, 0, 0, 0, 0, 0, 0, 0, 0, 0, 0, 0, 0, 0, 0, 0, 0, 0, 0, 0, 0, 0, 0, 0, 0, 0, 0, 0, 0, 0, 0, 0, 0, 0, 0, 0, 0, 0, 0, 0, 0, 0, 0, 1, 0, 0, 0, 0, 0, 0, 0, 0, 0, 0, 0, 0, 0, 0, 0, 0, 0, 0, 0, 0, 0, 0, 0, 0, 0, 0, 0, 0, 0, 0, 0, 0, 0, 0, 0, 0, 0, 0, 0, 0, 0, 0, 0, 0, 0, 0, 0, 0, 0, 0, 0, 0, 0, 0, 0, 0, 0, 0, 0, 0, 0, 0, 0, 0, 0, 0, 0, 0, 0, 0, 0, 0, 0, 0, 0, 0, 0, 0, 0, 0, 0, 0, 0, 0, 0, 0, 0, 0, 0, 0, 0, 0, 0, 0, 0, 0, 0, 0, 0, 0, 0, 0, 0, 0, 0, 0, 0, 0, 0, 0, 0, 0, 0, 0, 0, 0, 0, 0, 0, 0, 0, 0, 0, 0, 0, 0, 0, 0, 0, 0, 0, 0, 0, 0, 0, 0, 0, 0, 0, 0, 0, 0, 0, 0, 0, 0, 0, 0, 0, 0, 0, 0, 0, 0, 0, 0, 0, 0, 0, 0, 0, 0, 0, 0, 0, 0, 0, 0, 0, 0, 0, 0, 0, 0, 0, 0, 0, 0, 0, 0, 0, 0, 0, 0, 0, 0, 0, 0, 0, 0, 0, 0, 0, 0, 0, 0, 0, 0, 0, 0, 0, 0, 0, 0, 0, 0, 0, 0, 0, 0, 0, 0, 0, 0, 0, 0, 0, 0, 0, 0, 0, 0, 0, 0, 0, 0, 0, 0, 0, 0, 0, 0, 0, 0, 0, 0, 0, 0, 0, 0, 0, 0, 0, 0, 0, 0, 0, 0, 0, 0, 0, 0, 0, 0, 0, 0, 0, 0, 0, 0, 0, 0, 0, 0, 0, 0, 0, 0, 0, 0, 0, 0, 0, 0, 0, 0, 0, 0, 0, 0, 0, 0, 0, 0, 0, 0, 0, 0, 0, 0, 0, 0, 0, 0, 0, 0, 0, 0, 0, 0, 0, 0, 0, 0, 0, 0, 0, 0, 0, 0, 0, 0, 0, 0, 0, 0, 0, 0, 0, 0, 0, 0, 0, 0, 0, 0, 0, 0, 0, 0, 0, 0, 0, 0, 0, 0, 0, 0, 0, 0, 0, 0, 0, 0, 0, 0, 0, 0, 0, 0, 0, 0, 0, 0, 0, 0, 0, 0, 0, 0, 0, 0, 0, 0, 0, 0, 0, 0, 0, 0, 0, 0, 0, 0, 0, 0, 0, 0, 0, 0, 0, 0, 0, 0, 0, 0, 0, 0, 0, 0, 0, 0, 0, 0, 0, 0, 0, 0, 0, 0, 0, 0, 0, 0, 0, 0, 0, 0, 0, 0, 0, 0, 0, 0, 0, 0, 0, 0, 0, 0, 0, 0, 0, 0, 0, 0, 0, 0, 0, 0, 0, 0, 0, 0, 0, 0, 0, 0, 0, 0, 0, 0, 0, 0, 0, 0, 0, 0, 0, 0, 0, 0, 0, 0, 0, 0, 0, 0, 0, 0, 0, 0, 0, 2, 0, 1, 0]\n"
     ]
    }
   ],
   "source": [
    "test_bow = bow_encoding(test_words, vocabulary)\n",
    "print(test_bow)"
   ]
  },
  {
   "cell_type": "code",
   "execution_count": 40,
   "metadata": {},
   "outputs": [
    {
     "data": {
      "text/plain": [
       "5000"
      ]
     },
     "execution_count": 40,
     "metadata": {},
     "output_type": "execute_result"
    }
   ],
   "source": [
    "len(test_bow)"
   ]
  },
  {
   "cell_type": "markdown",
   "metadata": {},
   "source": [
    "So now we know how to construct a bag of words encoding of a user provided review, how to we send it to our endpoint? First, we need to start the endpoint back up."
   ]
  },
  {
   "cell_type": "code",
   "execution_count": 41,
   "metadata": {},
   "outputs": [
    {
     "name": "stderr",
     "output_type": "stream",
     "text": [
      "WARNING:sagemaker:Using already existing model: xgboost-2019-12-05-11-27-58-705\n"
     ]
    },
    {
     "name": "stdout",
     "output_type": "stream",
     "text": [
      "------------------------------------------------------------------------------------------------------------------!"
     ]
    }
   ],
   "source": [
    "xgb_predictor = xgb.deploy(initial_instance_count = 1, instance_type = 'ml.m4.xlarge')"
   ]
  },
  {
   "cell_type": "markdown",
   "metadata": {},
   "source": [
    "At this point we could just do the same thing that we did earlier when we tested our deployed model and send `test_bow` to our endpoint using the `xgb_predictor` object. However, when we eventually construct our Lambda function we won't have access to this object, so how do we call a SageMaker endpoint?\n",
    "\n",
    "It turns out that Python functions that are used in Lambda have access to another Amazon library called `boto3`. This library provides an API for working with Amazon services, including SageMaker. To start with, we need to get a handle to the SageMaker runtime."
   ]
  },
  {
   "cell_type": "code",
   "execution_count": 42,
   "metadata": {},
   "outputs": [],
   "source": [
    "import boto3\n",
    "\n",
    "runtime = boto3.Session().client('sagemaker-runtime')"
   ]
  },
  {
   "cell_type": "markdown",
   "metadata": {},
   "source": [
    "And now that we have access to the SageMaker runtime, we can ask it to make use of (invoke) an endpoint that has already been created. However, we need to provide SageMaker with the name of the deployed endpoint. To find this out we can print it out using the `xgb_predictor` object."
   ]
  },
  {
   "cell_type": "code",
   "execution_count": 43,
   "metadata": {},
   "outputs": [
    {
     "data": {
      "text/plain": [
       "'xgboost-2019-12-05-11-27-58-705'"
      ]
     },
     "execution_count": 43,
     "metadata": {},
     "output_type": "execute_result"
    }
   ],
   "source": [
    "xgb_predictor.endpoint"
   ]
  },
  {
   "cell_type": "markdown",
   "metadata": {},
   "source": [
    "Using the SageMaker runtime and the name of our endpoint, we can invoke the endpoint and send it the `test_bow` data."
   ]
  },
  {
   "cell_type": "code",
   "execution_count": 44,
   "metadata": {},
   "outputs": [
    {
     "ename": "ParamValidationError",
     "evalue": "Parameter validation failed:\nInvalid type for parameter Body, value: [0, 0, 0, 0, 0, 0, 0, 0, 0, 0, 0, 0, 0, 0, 0, 0, 0, 0, 0, 0, 0, 0, 0, 0, 0, 0, 0, 0, 0, 0, 0, 0, 0, 0, 0, 0, 0, 0, 0, 0, 0, 0, 0, 0, 0, 0, 0, 0, 0, 0, 0, 0, 0, 0, 0, 0, 0, 0, 0, 0, 0, 0, 0, 0, 0, 0, 0, 0, 0, 0, 0, 0, 0, 0, 0, 0, 0, 0, 0, 0, 0, 0, 0, 0, 0, 0, 0, 0, 0, 0, 0, 0, 0, 0, 0, 0, 0, 0, 0, 0, 0, 0, 0, 0, 0, 0, 0, 0, 0, 0, 0, 0, 0, 0, 0, 0, 0, 0, 0, 0, 0, 0, 0, 0, 0, 0, 0, 0, 0, 0, 0, 0, 0, 0, 0, 0, 0, 0, 0, 0, 0, 0, 0, 0, 0, 0, 0, 0, 0, 0, 0, 0, 0, 0, 0, 0, 0, 0, 0, 0, 0, 0, 0, 0, 0, 0, 0, 0, 0, 0, 0, 0, 0, 0, 0, 0, 0, 0, 0, 0, 0, 0, 0, 0, 0, 0, 0, 0, 0, 0, 0, 0, 0, 0, 0, 0, 0, 0, 0, 0, 0, 0, 0, 0, 0, 0, 0, 0, 0, 0, 0, 0, 0, 0, 0, 0, 0, 0, 0, 0, 0, 0, 0, 0, 0, 0, 1, 0, 0, 0, 0, 0, 0, 0, 0, 0, 0, 0, 0, 0, 0, 0, 0, 0, 0, 0, 0, 0, 0, 0, 0, 0, 0, 0, 0, 0, 1, 0, 0, 0, 0, 0, 0, 0, 0, 0, 0, 0, 0, 0, 0, 0, 0, 0, 0, 0, 0, 0, 0, 0, 0, 0, 0, 0, 0, 0, 0, 0, 0, 0, 0, 0, 0, 0, 0, 0, 0, 0, 0, 0, 0, 0, 0, 0, 0, 0, 0, 0, 0, 0, 0, 0, 0, 0, 0, 0, 0, 0, 0, 0, 0, 0, 0, 0, 0, 0, 0, 0, 0, 0, 0, 0, 0, 0, 0, 0, 0, 0, 0, 0, 0, 0, 0, 0, 0, 0, 0, 0, 0, 0, 0, 0, 0, 0, 0, 0, 0, 0, 0, 0, 0, 0, 0, 0, 0, 0, 0, 0, 0, 0, 0, 0, 0, 0, 0, 0, 0, 0, 0, 0, 0, 0, 0, 0, 0, 0, 0, 0, 0, 0, 0, 0, 0, 0, 0, 0, 0, 0, 0, 0, 0, 0, 0, 0, 0, 0, 0, 0, 0, 0, 0, 0, 0, 0, 0, 0, 0, 0, 0, 0, 0, 0, 0, 0, 0, 0, 0, 0, 0, 0, 0, 0, 0, 0, 0, 0, 0, 0, 0, 0, 0, 0, 0, 0, 0, 0, 0, 0, 0, 0, 0, 0, 0, 0, 0, 0, 0, 0, 0, 0, 0, 0, 0, 0, 0, 0, 0, 0, 0, 0, 0, 0, 0, 0, 0, 0, 0, 0, 0, 0, 0, 0, 0, 0, 0, 0, 0, 0, 0, 0, 0, 0, 0, 0, 0, 0, 0, 0, 0, 0, 0, 0, 0, 0, 0, 0, 0, 0, 0, 0, 0, 0, 0, 0, 0, 0, 0, 0, 0, 0, 0, 0, 0, 0, 0, 0, 0, 0, 0, 0, 0, 0, 0, 0, 0, 0, 0, 0, 0, 0, 0, 0, 0, 0, 0, 0, 0, 0, 0, 0, 0, 0, 0, 0, 0, 0, 0, 0, 0, 0, 0, 0, 0, 0, 0, 0, 0, 0, 0, 0, 0, 0, 0, 0, 0, 0, 0, 0, 0, 0, 0, 0, 0, 0, 0, 0, 0, 0, 0, 0, 0, 0, 0, 0, 0, 0, 0, 0, 0, 0, 0, 0, 0, 0, 0, 0, 0, 0, 0, 0, 0, 0, 0, 0, 0, 0, 0, 0, 0, 0, 0, 0, 0, 0, 0, 0, 0, 0, 0, 0, 0, 0, 0, 0, 0, 0, 1, 0, 0, 0, 0, 0, 0, 0, 0, 0, 0, 0, 0, 0, 0, 0, 0, 0, 0, 0, 0, 0, 0, 0, 0, 0, 0, 0, 0, 0, 0, 0, 0, 0, 0, 0, 0, 0, 0, 0, 0, 0, 0, 0, 0, 0, 0, 0, 0, 0, 0, 0, 0, 0, 0, 0, 0, 0, 0, 0, 0, 0, 0, 0, 0, 0, 0, 0, 0, 0, 0, 0, 0, 0, 0, 0, 0, 0, 0, 0, 0, 0, 0, 0, 0, 0, 0, 0, 0, 0, 0, 0, 0, 0, 0, 0, 0, 0, 0, 0, 0, 0, 0, 0, 0, 0, 0, 0, 0, 0, 0, 0, 0, 0, 0, 0, 0, 0, 0, 0, 0, 0, 0, 0, 0, 0, 0, 0, 0, 0, 0, 0, 0, 0, 0, 0, 0, 0, 0, 0, 0, 0, 0, 0, 0, 0, 0, 0, 0, 0, 0, 0, 0, 0, 0, 0, 0, 0, 0, 0, 0, 0, 0, 0, 0, 0, 0, 0, 0, 0, 0, 0, 0, 0, 0, 0, 0, 0, 0, 0, 0, 0, 0, 0, 0, 0, 0, 0, 0, 0, 0, 0, 0, 0, 0, 0, 0, 0, 0, 0, 0, 0, 0, 0, 0, 0, 0, 0, 0, 0, 0, 0, 0, 0, 0, 0, 0, 0, 0, 0, 0, 0, 0, 0, 0, 0, 0, 0, 0, 0, 0, 0, 0, 0, 0, 0, 0, 0, 0, 0, 0, 0, 0, 0, 0, 0, 0, 0, 0, 0, 0, 0, 0, 0, 1, 0, 0, 0, 0, 0, 0, 0, 0, 0, 0, 0, 0, 0, 0, 0, 0, 0, 0, 0, 0, 0, 0, 0, 0, 0, 0, 0, 0, 0, 0, 0, 0, 0, 0, 0, 0, 0, 0, 0, 0, 0, 0, 0, 0, 0, 0, 0, 0, 0, 0, 0, 0, 0, 0, 0, 0, 0, 0, 0, 0, 0, 0, 0, 0, 0, 0, 0, 0, 0, 0, 0, 0, 0, 0, 0, 0, 0, 0, 0, 0, 0, 0, 0, 0, 0, 0, 1, 0, 0, 0, 0, 0, 0, 0, 0, 0, 0, 0, 0, 0, 0, 0, 0, 0, 0, 0, 0, 0, 0, 0, 0, 0, 0, 0, 0, 0, 0, 0, 0, 0, 0, 0, 0, 0, 0, 0, 0, 0, 0, 0, 0, 0, 0, 0, 0, 0, 0, 0, 0, 0, 0, 0, 0, 0, 0, 0, 0, 0, 0, 0, 0, 0, 0, 0, 0, 0, 0, 0, 0, 0, 0, 0, 0, 0, 0, 0, 0, 0, 0, 0, 0, 0, 0, 0, 0, 0, 0, 0, 0, 0, 0, 0, 0, 0, 0, 0, 0, 0, 0, 0, 0, 0, 0, 0, 0, 0, 0, 0, 0, 0, 0, 0, 0, 0, 0, 0, 0, 0, 0, 0, 0, 0, 0, 0, 0, 0, 0, 0, 0, 0, 0, 0, 0, 0, 0, 0, 0, 0, 0, 0, 0, 0, 0, 0, 0, 0, 0, 0, 0, 0, 0, 0, 0, 0, 0, 0, 0, 0, 0, 0, 0, 0, 0, 0, 0, 0, 0, 0, 0, 0, 0, 0, 0, 0, 0, 0, 0, 0, 0, 0, 0, 0, 0, 0, 0, 0, 0, 0, 0, 0, 0, 0, 0, 0, 0, 0, 0, 0, 0, 0, 0, 0, 0, 0, 0, 0, 0, 0, 0, 0, 0, 0, 0, 0, 0, 0, 0, 0, 0, 0, 0, 0, 0, 0, 0, 0, 0, 0, 0, 0, 0, 0, 0, 0, 0, 0, 0, 0, 0, 0, 0, 0, 0, 0, 0, 0, 0, 0, 0, 1, 0, 0, 0, 0, 0, 0, 0, 0, 0, 0, 0, 0, 0, 0, 0, 0, 0, 0, 0, 0, 0, 0, 0, 0, 0, 0, 0, 0, 0, 0, 0, 0, 0, 0, 0, 0, 0, 0, 0, 0, 0, 0, 0, 0, 0, 0, 0, 0, 0, 0, 0, 0, 0, 0, 0, 1, 0, 0, 0, 0, 0, 0, 0, 0, 0, 0, 0, 0, 0, 0, 0, 0, 0, 0, 0, 0, 0, 0, 0, 0, 0, 0, 0, 0, 0, 0, 0, 0, 0, 0, 0, 0, 0, 0, 0, 0, 0, 0, 0, 0, 0, 0, 0, 0, 0, 0, 0, 0, 0, 0, 0, 0, 0, 0, 0, 0, 0, 0, 0, 0, 0, 0, 0, 0, 0, 0, 0, 0, 0, 0, 0, 0, 0, 0, 0, 0, 0, 0, 0, 0, 0, 0, 0, 0, 0, 0, 0, 0, 0, 0, 0, 0, 0, 0, 0, 0, 0, 0, 0, 0, 0, 0, 0, 0, 0, 0, 0, 0, 0, 0, 0, 0, 0, 0, 0, 0, 0, 0, 0, 0, 0, 0, 0, 0, 0, 0, 0, 0, 0, 0, 0, 0, 0, 0, 0, 0, 0, 0, 0, 0, 0, 0, 0, 0, 0, 0, 0, 0, 0, 0, 0, 0, 0, 0, 0, 0, 0, 0, 0, 0, 0, 0, 0, 0, 0, 0, 0, 0, 0, 0, 0, 0, 0, 0, 0, 0, 0, 0, 0, 0, 0, 0, 0, 0, 0, 0, 0, 0, 0, 0, 0, 0, 0, 0, 0, 0, 0, 0, 0, 0, 0, 0, 0, 0, 0, 0, 0, 0, 0, 0, 0, 0, 0, 0, 0, 0, 0, 0, 0, 0, 0, 0, 0, 0, 0, 0, 0, 0, 0, 0, 0, 0, 0, 0, 0, 0, 0, 0, 0, 0, 0, 0, 0, 0, 0, 0, 0, 0, 0, 0, 0, 0, 0, 0, 0, 0, 0, 0, 0, 0, 0, 0, 0, 0, 0, 0, 0, 0, 0, 0, 0, 0, 0, 0, 0, 0, 0, 0, 0, 0, 0, 0, 0, 0, 0, 0, 0, 0, 0, 0, 0, 0, 0, 0, 0, 0, 0, 0, 0, 0, 0, 0, 0, 0, 0, 0, 0, 0, 0, 0, 0, 0, 0, 0, 0, 0, 0, 0, 0, 0, 0, 0, 0, 0, 0, 0, 0, 0, 0, 0, 0, 0, 0, 0, 0, 0, 0, 0, 0, 0, 0, 0, 0, 0, 0, 0, 0, 0, 0, 0, 0, 0, 0, 0, 0, 0, 0, 0, 0, 0, 0, 0, 0, 0, 0, 0, 0, 0, 0, 0, 0, 0, 0, 0, 0, 0, 0, 0, 0, 0, 0, 0, 0, 0, 0, 0, 0, 0, 0, 0, 0, 0, 0, 0, 0, 0, 0, 0, 0, 0, 0, 0, 0, 0, 0, 0, 0, 0, 0, 0, 0, 0, 0, 0, 0, 0, 0, 0, 0, 0, 0, 0, 0, 0, 0, 0, 0, 0, 0, 0, 0, 0, 0, 0, 0, 0, 0, 0, 0, 0, 0, 0, 0, 0, 0, 0, 0, 0, 0, 0, 0, 0, 0, 0, 0, 0, 0, 0, 0, 0, 0, 0, 0, 0, 0, 0, 0, 0, 0, 0, 0, 0, 0, 0, 0, 0, 0, 0, 0, 0, 0, 0, 0, 0, 0, 0, 0, 0, 0, 0, 0, 0, 0, 0, 0, 0, 0, 0, 0, 0, 0, 0, 0, 0, 0, 0, 0, 0, 0, 0, 0, 0, 0, 0, 0, 0, 0, 0, 0, 0, 0, 0, 0, 0, 0, 0, 0, 0, 0, 0, 0, 0, 0, 0, 0, 0, 0, 0, 0, 0, 0, 0, 0, 0, 0, 0, 0, 0, 0, 0, 0, 0, 0, 0, 0, 0, 0, 0, 0, 0, 0, 0, 0, 0, 0, 0, 0, 0, 0, 0, 0, 0, 0, 0, 0, 0, 0, 0, 0, 0, 0, 0, 0, 0, 0, 0, 0, 0, 0, 0, 0, 0, 0, 0, 0, 0, 0, 0, 0, 0, 0, 0, 0, 0, 0, 0, 0, 0, 0, 0, 0, 0, 0, 0, 0, 0, 0, 0, 0, 0, 0, 0, 0, 0, 0, 0, 0, 0, 0, 0, 0, 0, 0, 0, 0, 0, 0, 0, 0, 0, 0, 0, 0, 0, 0, 0, 0, 0, 0, 0, 0, 0, 0, 0, 0, 0, 0, 0, 0, 0, 0, 0, 0, 0, 0, 0, 0, 0, 0, 0, 0, 0, 0, 0, 0, 0, 0, 1, 0, 0, 0, 0, 0, 0, 0, 0, 0, 0, 0, 0, 0, 0, 0, 0, 0, 0, 0, 0, 0, 0, 0, 0, 0, 0, 0, 0, 0, 0, 0, 0, 0, 0, 0, 0, 0, 0, 0, 0, 0, 0, 0, 0, 0, 0, 0, 0, 0, 0, 0, 0, 0, 0, 0, 0, 0, 0, 0, 0, 0, 0, 0, 0, 0, 0, 0, 0, 0, 0, 0, 0, 0, 0, 1, 0, 0, 0, 0, 0, 0, 0, 0, 0, 0, 0, 0, 0, 0, 0, 0, 0, 0, 0, 0, 1, 0, 0, 1, 0, 0, 0, 0, 0, 0, 0, 0, 0, 0, 0, 0, 0, 0, 0, 0, 0, 0, 0, 0, 0, 0, 0, 0, 0, 0, 0, 0, 0, 0, 0, 0, 0, 0, 0, 0, 0, 0, 0, 0, 0, 0, 0, 0, 0, 0, 0, 0, 0, 0, 0, 0, 0, 0, 0, 0, 0, 0, 0, 0, 0, 0, 0, 0, 0, 0, 0, 0, 0, 0, 0, 0, 0, 0, 0, 0, 0, 0, 0, 0, 0, 0, 0, 0, 0, 0, 0, 0, 0, 0, 0, 0, 0, 0, 0, 0, 0, 0, 0, 0, 0, 0, 0, 0, 0, 0, 0, 0, 0, 0, 0, 0, 0, 0, 0, 0, 0, 0, 0, 0, 0, 0, 0, 0, 0, 0, 0, 0, 0, 0, 0, 0, 0, 0, 0, 0, 0, 0, 0, 0, 0, 0, 0, 0, 0, 0, 0, 0, 0, 0, 0, 0, 0, 0, 0, 0, 0, 0, 0, 0, 0, 0, 0, 0, 0, 0, 0, 0, 0, 0, 0, 0, 0, 0, 0, 0, 0, 0, 0, 0, 0, 0, 0, 0, 0, 0, 0, 0, 0, 0, 0, 0, 0, 0, 0, 0, 0, 0, 0, 0, 0, 0, 0, 0, 0, 0, 0, 0, 0, 0, 0, 0, 0, 0, 0, 0, 0, 0, 0, 0, 0, 0, 0, 0, 0, 0, 0, 0, 0, 0, 0, 0, 0, 0, 0, 0, 0, 0, 0, 0, 0, 0, 0, 0, 0, 0, 0, 0, 0, 0, 0, 0, 0, 0, 0, 0, 0, 0, 0, 0, 0, 0, 0, 0, 0, 0, 0, 0, 0, 0, 0, 0, 0, 0, 0, 0, 0, 0, 0, 0, 0, 0, 0, 0, 0, 0, 0, 0, 0, 0, 0, 0, 0, 0, 0, 0, 0, 0, 0, 0, 0, 0, 0, 0, 0, 0, 0, 0, 0, 0, 0, 0, 0, 0, 0, 0, 0, 0, 0, 0, 0, 0, 0, 0, 0, 0, 0, 0, 0, 0, 0, 0, 0, 0, 0, 0, 0, 0, 0, 0, 0, 0, 0, 0, 0, 0, 0, 0, 0, 0, 0, 0, 0, 0, 0, 0, 0, 0, 0, 0, 0, 0, 0, 0, 0, 0, 0, 0, 0, 0, 0, 0, 0, 0, 0, 0, 0, 0, 0, 0, 0, 0, 0, 0, 0, 0, 0, 0, 0, 0, 0, 0, 0, 0, 0, 0, 0, 0, 0, 0, 0, 0, 0, 0, 0, 0, 0, 0, 0, 0, 0, 0, 0, 0, 0, 0, 0, 0, 0, 0, 0, 0, 0, 0, 0, 0, 0, 0, 0, 0, 0, 0, 0, 0, 0, 0, 0, 0, 0, 0, 0, 0, 0, 0, 0, 0, 0, 0, 0, 0, 0, 0, 0, 0, 0, 0, 0, 0, 0, 0, 0, 0, 0, 0, 0, 0, 1, 0, 0, 0, 0, 0, 0, 0, 0, 0, 0, 0, 0, 0, 0, 0, 0, 0, 0, 0, 0, 0, 0, 0, 0, 0, 0, 0, 0, 0, 0, 0, 0, 0, 0, 0, 0, 0, 0, 0, 0, 0, 0, 0, 0, 0, 0, 0, 0, 0, 0, 0, 0, 0, 0, 0, 0, 0, 0, 0, 0, 0, 0, 0, 0, 0, 0, 0, 0, 0, 0, 0, 0, 0, 0, 0, 0, 0, 0, 0, 0, 0, 0, 0, 0, 0, 0, 0, 0, 0, 0, 0, 0, 0, 0, 0, 0, 0, 0, 0, 0, 0, 0, 0, 0, 0, 0, 0, 0, 0, 0, 0, 0, 0, 0, 0, 0, 0, 0, 0, 0, 0, 0, 0, 0, 0, 0, 0, 0, 0, 0, 0, 0, 0, 0, 0, 0, 0, 0, 0, 0, 0, 0, 0, 0, 0, 0, 0, 0, 0, 0, 0, 0, 0, 0, 0, 0, 0, 0, 0, 0, 0, 0, 0, 0, 0, 0, 0, 0, 0, 0, 0, 0, 0, 0, 0, 0, 0, 0, 0, 0, 0, 0, 0, 0, 0, 0, 0, 0, 0, 0, 0, 0, 0, 0, 0, 0, 0, 0, 0, 0, 0, 0, 0, 0, 0, 0, 0, 0, 0, 0, 0, 0, 0, 0, 0, 0, 0, 0, 0, 0, 0, 0, 0, 0, 0, 0, 0, 0, 0, 0, 0, 0, 0, 0, 0, 0, 0, 0, 0, 0, 0, 0, 0, 0, 0, 0, 0, 0, 0, 0, 0, 0, 0, 0, 0, 0, 0, 0, 0, 0, 0, 0, 0, 0, 0, 0, 0, 0, 0, 0, 0, 0, 0, 0, 0, 0, 0, 0, 0, 0, 0, 0, 0, 0, 0, 0, 0, 0, 0, 0, 0, 0, 0, 0, 0, 0, 0, 0, 0, 0, 0, 0, 0, 0, 0, 0, 0, 0, 0, 0, 0, 0, 0, 0, 0, 0, 0, 0, 0, 0, 0, 0, 0, 0, 0, 0, 0, 0, 0, 0, 0, 0, 0, 0, 0, 0, 0, 0, 0, 0, 0, 0, 0, 0, 0, 0, 0, 0, 0, 0, 0, 0, 0, 0, 0, 0, 0, 0, 0, 0, 0, 0, 0, 0, 0, 0, 0, 0, 0, 0, 0, 0, 0, 0, 0, 0, 0, 0, 0, 0, 0, 0, 0, 0, 0, 0, 0, 0, 0, 0, 0, 0, 0, 0, 0, 0, 0, 0, 0, 0, 0, 0, 0, 0, 0, 0, 0, 0, 0, 0, 0, 0, 0, 0, 0, 0, 0, 0, 0, 0, 0, 0, 0, 0, 0, 0, 0, 0, 0, 0, 0, 0, 0, 0, 0, 0, 0, 0, 0, 0, 0, 0, 0, 0, 0, 0, 0, 0, 0, 0, 0, 0, 0, 0, 0, 0, 0, 0, 0, 0, 0, 0, 0, 0, 0, 0, 0, 0, 0, 0, 0, 0, 0, 0, 0, 0, 0, 0, 0, 0, 0, 0, 0, 0, 0, 0, 0, 0, 0, 0, 0, 0, 0, 0, 0, 0, 0, 0, 0, 0, 0, 0, 0, 0, 0, 0, 0, 0, 0, 0, 0, 0, 1, 0, 0, 0, 0, 0, 0, 0, 0, 0, 0, 0, 0, 0, 0, 0, 0, 0, 0, 0, 0, 0, 0, 0, 0, 0, 0, 0, 0, 0, 0, 0, 0, 0, 0, 0, 2, 0, 0, 0, 0, 0, 0, 0, 0, 0, 0, 0, 0, 0, 0, 0, 0, 0, 0, 0, 0, 0, 0, 0, 0, 0, 0, 0, 0, 0, 0, 0, 0, 0, 0, 0, 0, 0, 0, 0, 0, 1, 0, 0, 0, 0, 0, 0, 0, 0, 0, 0, 0, 0, 0, 0, 0, 0, 0, 0, 0, 0, 0, 0, 0, 0, 0, 0, 0, 0, 0, 0, 0, 0, 0, 0, 0, 0, 0, 0, 0, 0, 0, 0, 0, 0, 0, 0, 0, 0, 0, 0, 0, 0, 0, 0, 0, 0, 0, 0, 0, 0, 0, 0, 0, 0, 0, 0, 0, 0, 0, 0, 0, 0, 0, 0, 0, 0, 0, 0, 0, 0, 0, 0, 0, 0, 0, 0, 0, 0, 0, 0, 0, 0, 0, 0, 0, 0, 0, 0, 0, 0, 0, 0, 0, 0, 0, 0, 0, 0, 0, 0, 0, 0, 0, 0, 0, 0, 0, 0, 0, 0, 0, 0, 0, 0, 0, 0, 0, 0, 0, 0, 0, 0, 0, 0, 0, 0, 0, 0, 0, 0, 0, 0, 0, 0, 0, 0, 0, 0, 0, 0, 0, 0, 0, 0, 0, 0, 0, 0, 0, 0, 0, 0, 0, 0, 0, 0, 0, 0, 0, 0, 0, 0, 0, 0, 0, 0, 0, 0, 0, 0, 0, 0, 0, 0, 0, 0, 0, 0, 0, 0, 0, 0, 0, 0, 0, 0, 0, 0, 0, 0, 0, 0, 0, 0, 0, 0, 0, 0, 0, 0, 0, 0, 0, 0, 0, 0, 0, 0, 0, 0, 0, 0, 0, 0, 0, 0, 0, 0, 0, 0, 0, 0, 0, 0, 0, 0, 0, 0, 0, 0, 0, 0, 0, 0, 0, 0, 0, 0, 0, 0, 0, 0, 0, 0, 0, 0, 0, 0, 0, 0, 0, 0, 0, 0, 0, 0, 0, 0, 0, 0, 0, 0, 0, 0, 0, 0, 0, 0, 0, 0, 0, 0, 0, 0, 0, 0, 0, 0, 0, 0, 0, 0, 0, 0, 0, 0, 0, 0, 0, 0, 0, 0, 0, 0, 0, 0, 0, 0, 0, 0, 0, 0, 0, 0, 0, 0, 0, 0, 0, 0, 0, 0, 0, 0, 0, 0, 0, 0, 0, 0, 0, 0, 0, 0, 0, 0, 0, 0, 0, 0, 0, 0, 0, 0, 0, 0, 0, 0, 0, 0, 0, 0, 0, 0, 0, 0, 0, 0, 0, 0, 0, 0, 0, 0, 0, 0, 0, 0, 0, 0, 0, 0, 0, 0, 0, 0, 0, 0, 0, 0, 0, 0, 0, 0, 0, 0, 0, 0, 0, 0, 0, 0, 0, 0, 0, 0, 0, 0, 0, 0, 0, 0, 0, 0, 0, 0, 0, 0, 0, 0, 0, 0, 0, 0, 0, 0, 0, 0, 0, 0, 0, 0, 0, 0, 0, 0, 0, 0, 0, 0, 0, 0, 0, 0, 0, 0, 0, 0, 0, 0, 0, 0, 0, 0, 0, 0, 0, 0, 0, 0, 0, 0, 0, 0, 0, 0, 0, 0, 0, 0, 0, 0, 0, 0, 0, 0, 0, 0, 0, 0, 0, 0, 0, 0, 0, 0, 0, 0, 0, 0, 0, 0, 0, 0, 0, 0, 0, 0, 0, 0, 0, 0, 0, 0, 0, 0, 0, 1, 0, 0, 0, 0, 0, 0, 0, 0, 0, 0, 0, 0, 0, 0, 0, 0, 0, 0, 0, 0, 0, 0, 0, 0, 0, 0, 0, 0, 0, 0, 0, 0, 0, 0, 0, 0, 0, 0, 0, 0, 0, 0, 0, 0, 0, 0, 0, 0, 0, 0, 0, 0, 0, 0, 0, 0, 0, 0, 0, 0, 0, 0, 0, 0, 0, 0, 0, 0, 0, 0, 0, 0, 0, 0, 0, 0, 0, 0, 0, 0, 0, 0, 0, 0, 0, 0, 0, 0, 0, 0, 0, 0, 0, 0, 0, 0, 0, 0, 0, 0, 0, 0, 0, 0, 0, 0, 0, 0, 0, 0, 2, 0, 0, 0, 0, 0, 0, 0, 0, 0, 0, 0, 0, 0, 0, 0, 0, 0, 0, 0, 0, 0, 0, 0, 0, 0, 0, 0, 0, 0, 0, 0, 0, 0, 0, 0, 0, 0, 0, 0, 0, 0, 0, 0, 0, 0, 0, 0, 0, 0, 0, 0, 0, 0, 0, 0, 0, 0, 0, 0, 0, 0, 0, 0, 0, 0, 0, 0, 0, 0, 0, 0, 0, 0, 0, 0, 0, 0, 0, 0, 0, 0, 0, 0, 0, 0, 0, 0, 0, 0, 0, 0, 0, 0, 0, 0, 0, 0, 0, 0, 0, 0, 0, 0, 0, 0, 0, 0, 0, 0, 0, 0, 0, 0, 0, 0, 0, 0, 0, 0, 0, 0, 0, 0, 0, 0, 0, 0, 0, 0, 0, 0, 0, 0, 0, 0, 0, 0, 0, 0, 0, 0, 0, 0, 0, 0, 0, 0, 0, 0, 0, 0, 0, 0, 0, 0, 0, 0, 0, 0, 0, 0, 0, 0, 0, 0, 0, 0, 0, 0, 0, 0, 0, 0, 0, 0, 0, 0, 0, 0, 0, 0, 0, 0, 0, 0, 0, 0, 0, 0, 0, 0, 0, 0, 0, 0, 0, 0, 0, 0, 0, 0, 0, 0, 0, 0, 0, 0, 0, 0, 0, 0, 0, 0, 0, 0, 0, 0, 0, 0, 0, 0, 0, 0, 0, 0, 0, 0, 0, 0, 0, 0, 0, 0, 0, 0, 0, 0, 0, 0, 0, 0, 0, 0, 0, 0, 0, 0, 0, 0, 0, 0, 0, 0, 0, 0, 0, 0, 0, 0, 0, 0, 0, 0, 0, 0, 0, 0, 0, 0, 0, 0, 0, 0, 0, 0, 0, 0, 0, 0, 0, 0, 0, 0, 0, 0, 0, 0, 0, 0, 0, 0, 0, 0, 0, 0, 0, 0, 0, 0, 0, 0, 0, 0, 0, 0, 0, 0, 0, 0, 0, 0, 0, 0, 0, 0, 0, 0, 0, 0, 0, 0, 0, 0, 0, 0, 0, 0, 0, 0, 0, 0, 0, 0, 0, 0, 0, 0, 0, 0, 0, 0, 0, 0, 0, 0, 0, 0, 0, 0, 0, 0, 0, 0, 0, 0, 0, 0, 0, 0, 0, 0, 0, 0, 0, 0, 0, 0, 0, 0, 0, 0, 0, 0, 0, 0, 0, 0, 0, 0, 0, 0, 0, 0, 0, 0, 0, 0, 0, 0, 0, 0, 0, 0, 0, 0, 0, 0, 0, 0, 0, 0, 0, 0, 0, 0, 0, 0, 0, 0, 0, 0, 0, 0, 0, 0, 0, 0, 0, 0, 0, 0, 0, 0, 0, 0, 0, 0, 0, 0, 0, 0, 0, 0, 0, 0, 0, 0, 0, 0, 0, 0, 0, 0, 0, 0, 0, 0, 0, 0, 0, 0, 0, 0, 0, 0, 0, 0, 0, 0, 0, 0, 0, 0, 0, 0, 0, 0, 0, 0, 0, 0, 0, 0, 0, 0, 0, 0, 0, 0, 0, 0, 0, 0, 0, 0, 0, 0, 0, 0, 0, 0, 0, 0, 0, 0, 0, 0, 0, 0, 0, 0, 0, 0, 0, 0, 0, 0, 0, 0, 0, 0, 0, 0, 0, 0, 0, 0, 0, 0, 0, 0, 0, 0, 0, 0, 0, 0, 0, 0, 0, 0, 0, 0, 0, 0, 0, 0, 0, 0, 0, 0, 0, 0, 0, 0, 0, 0, 0, 0, 0, 0, 0, 0, 0, 0, 0, 0, 0, 0, 0, 0, 0, 0, 0, 0, 0, 0, 0, 0, 0, 0, 0, 0, 0, 0, 0, 0, 0, 0, 0, 0, 0, 0, 0, 0, 0, 0, 0, 0, 0, 0, 0, 0, 0, 0, 0, 0, 0, 0, 0, 0, 0, 0, 0, 0, 0, 0, 0, 0, 0, 0, 0, 0, 0, 0, 0, 0, 0, 0, 0, 0, 0, 0, 0, 0, 0, 0, 0, 0, 0, 0, 0, 0, 0, 0, 0, 0, 0, 0, 0, 0, 0, 0, 0, 0, 0, 0, 0, 0, 0, 0, 0, 0, 0, 0, 0, 0, 0, 0, 0, 0, 0, 0, 0, 0, 0, 0, 0, 0, 0, 0, 0, 0, 0, 0, 0, 0, 0, 0, 0, 0, 0, 0, 0, 0, 0, 0, 0, 0, 0, 1, 0, 0, 0, 0, 0, 0, 0, 0, 0, 0, 0, 0, 0, 0, 0, 0, 0, 0, 0, 0, 0, 0, 0, 0, 0, 0, 0, 0, 0, 0, 0, 0, 0, 0, 0, 0, 0, 0, 0, 0, 0, 0, 0, 0, 0, 0, 0, 0, 0, 0, 0, 0, 0, 0, 0, 0, 0, 0, 0, 0, 0, 0, 0, 0, 0, 0, 0, 0, 0, 0, 0, 0, 0, 0, 0, 0, 0, 0, 0, 0, 0, 0, 0, 0, 0, 0, 0, 0, 0, 0, 0, 0, 0, 0, 0, 0, 0, 0, 0, 0, 0, 0, 0, 0, 0, 0, 0, 1, 0, 0, 0, 0, 0, 0, 0, 0, 0, 0, 0, 0, 0, 0, 0, 0, 0, 0, 0, 0, 0, 0, 0, 0, 0, 0, 0, 0, 0, 0, 0, 0, 0, 0, 0, 0, 0, 0, 0, 0, 0, 0, 0, 0, 0, 0, 0, 0, 0, 0, 0, 0, 0, 0, 0, 0, 0, 0, 0, 0, 0, 0, 0, 0, 0, 0, 0, 0, 0, 0, 0, 0, 0, 0, 0, 0, 0, 0, 0, 0, 0, 0, 0, 0, 0, 0, 0, 0, 0, 0, 0, 0, 0, 0, 0, 0, 0, 0, 0, 0, 0, 0, 0, 0, 0, 0, 0, 0, 0, 0, 0, 0, 0, 0, 0, 0, 0, 0, 0, 0, 0, 0, 0, 0, 0, 0, 0, 0, 0, 0, 0, 0, 0, 0, 0, 0, 0, 0, 0, 0, 0, 0, 0, 0, 0, 0, 0, 0, 0, 0, 0, 0, 0, 0, 0, 0, 0, 0, 0, 0, 0, 0, 0, 0, 0, 0, 0, 0, 0, 0, 0, 0, 0, 0, 0, 0, 0, 0, 0, 0, 0, 0, 0, 0, 0, 0, 0, 0, 0, 0, 0, 0, 0, 0, 0, 0, 0, 0, 0, 0, 0, 0, 0, 0, 0, 0, 0, 0, 0, 0, 0, 0, 0, 0, 0, 0, 0, 0, 0, 0, 0, 0, 0, 0, 0, 0, 0, 0, 0, 0, 0, 0, 0, 0, 0, 0, 0, 0, 0, 0, 0, 0, 0, 0, 0, 0, 0, 0, 0, 0, 0, 0, 0, 0, 0, 0, 0, 0, 0, 0, 0, 0, 0, 0, 0, 0, 0, 0, 0, 0, 0, 0, 0, 0, 0, 0, 0, 0, 0, 0, 0, 0, 0, 0, 0, 0, 0, 0, 0, 0, 0, 0, 0, 0, 0, 0, 0, 0, 0, 0, 0, 0, 0, 0, 0, 0, 0, 0, 0, 0, 0, 0, 0, 0, 0, 0, 0, 0, 0, 0, 0, 0, 0, 0, 0, 0, 0, 0, 0, 0, 0, 0, 0, 0, 0, 0, 0, 0, 0, 0, 0, 0, 0, 0, 0, 0, 0, 0, 0, 0, 0, 0, 0, 0, 0, 0, 0, 0, 0, 0, 0, 0, 0, 0, 0, 0, 0, 0, 0, 0, 0, 0, 0, 0, 0, 0, 0, 0, 0, 0, 0, 0, 0, 0, 0, 0, 0, 0, 0, 0, 0, 0, 0, 0, 0, 0, 0, 0, 0, 0, 0, 0, 0, 0, 0, 0, 0, 0, 0, 0, 0, 0, 0, 0, 0, 0, 0, 0, 0, 0, 0, 0, 0, 0, 0, 0, 0, 0, 0, 0, 0, 0, 0, 0, 0, 0, 0, 0, 0, 0, 0, 0, 0, 0, 0, 0, 0, 0, 0, 0, 0, 0, 0, 0, 0, 0, 0, 0, 0, 0, 0, 0, 0, 2, 0, 1, 0], type: <class 'list'>, valid types: <class 'bytes'>, <class 'bytearray'>, file-like object",
     "output_type": "error",
     "traceback": [
      "\u001b[0;31m---------------------------------------------------------------------------\u001b[0m",
      "\u001b[0;31mParamValidationError\u001b[0m                      Traceback (most recent call last)",
      "\u001b[0;32m<ipython-input-44-c9ab54ae3a48>\u001b[0m in \u001b[0;36m<module>\u001b[0;34m()\u001b[0m\n\u001b[1;32m      1\u001b[0m response = runtime.invoke_endpoint(EndpointName = xgb_predictor.endpoint, # The name of the endpoint we created\n\u001b[1;32m      2\u001b[0m                                        \u001b[0mContentType\u001b[0m \u001b[0;34m=\u001b[0m \u001b[0;34m'text/csv'\u001b[0m\u001b[0;34m,\u001b[0m                     \u001b[0;31m# The data format that is expected\u001b[0m\u001b[0;34m\u001b[0m\u001b[0m\n\u001b[0;32m----> 3\u001b[0;31m                                        Body = test_bow)\n\u001b[0m",
      "\u001b[0;32m~/anaconda3/envs/python3/lib/python3.6/site-packages/botocore/client.py\u001b[0m in \u001b[0;36m_api_call\u001b[0;34m(self, *args, **kwargs)\u001b[0m\n\u001b[1;32m    355\u001b[0m                     \"%s() only accepts keyword arguments.\" % py_operation_name)\n\u001b[1;32m    356\u001b[0m             \u001b[0;31m# The \"self\" in this scope is referring to the BaseClient.\u001b[0m\u001b[0;34m\u001b[0m\u001b[0;34m\u001b[0m\u001b[0m\n\u001b[0;32m--> 357\u001b[0;31m             \u001b[0;32mreturn\u001b[0m \u001b[0mself\u001b[0m\u001b[0;34m.\u001b[0m\u001b[0m_make_api_call\u001b[0m\u001b[0;34m(\u001b[0m\u001b[0moperation_name\u001b[0m\u001b[0;34m,\u001b[0m \u001b[0mkwargs\u001b[0m\u001b[0;34m)\u001b[0m\u001b[0;34m\u001b[0m\u001b[0m\n\u001b[0m\u001b[1;32m    358\u001b[0m \u001b[0;34m\u001b[0m\u001b[0m\n\u001b[1;32m    359\u001b[0m         \u001b[0m_api_call\u001b[0m\u001b[0;34m.\u001b[0m\u001b[0m__name__\u001b[0m \u001b[0;34m=\u001b[0m \u001b[0mstr\u001b[0m\u001b[0;34m(\u001b[0m\u001b[0mpy_operation_name\u001b[0m\u001b[0;34m)\u001b[0m\u001b[0;34m\u001b[0m\u001b[0m\n",
      "\u001b[0;32m~/anaconda3/envs/python3/lib/python3.6/site-packages/botocore/client.py\u001b[0m in \u001b[0;36m_make_api_call\u001b[0;34m(self, operation_name, api_params)\u001b[0m\n\u001b[1;32m    632\u001b[0m         }\n\u001b[1;32m    633\u001b[0m         request_dict = self._convert_to_request_dict(\n\u001b[0;32m--> 634\u001b[0;31m             api_params, operation_model, context=request_context)\n\u001b[0m\u001b[1;32m    635\u001b[0m \u001b[0;34m\u001b[0m\u001b[0m\n\u001b[1;32m    636\u001b[0m         \u001b[0mservice_id\u001b[0m \u001b[0;34m=\u001b[0m \u001b[0mself\u001b[0m\u001b[0;34m.\u001b[0m\u001b[0m_service_model\u001b[0m\u001b[0;34m.\u001b[0m\u001b[0mservice_id\u001b[0m\u001b[0;34m.\u001b[0m\u001b[0mhyphenize\u001b[0m\u001b[0;34m(\u001b[0m\u001b[0;34m)\u001b[0m\u001b[0;34m\u001b[0m\u001b[0m\n",
      "\u001b[0;32m~/anaconda3/envs/python3/lib/python3.6/site-packages/botocore/client.py\u001b[0m in \u001b[0;36m_convert_to_request_dict\u001b[0;34m(self, api_params, operation_model, context)\u001b[0m\n\u001b[1;32m    680\u001b[0m             api_params, operation_model, context)\n\u001b[1;32m    681\u001b[0m         request_dict = self._serializer.serialize_to_request(\n\u001b[0;32m--> 682\u001b[0;31m             api_params, operation_model)\n\u001b[0m\u001b[1;32m    683\u001b[0m         \u001b[0;32mif\u001b[0m \u001b[0;32mnot\u001b[0m \u001b[0mself\u001b[0m\u001b[0;34m.\u001b[0m\u001b[0m_client_config\u001b[0m\u001b[0;34m.\u001b[0m\u001b[0minject_host_prefix\u001b[0m\u001b[0;34m:\u001b[0m\u001b[0;34m\u001b[0m\u001b[0m\n\u001b[1;32m    684\u001b[0m             \u001b[0mrequest_dict\u001b[0m\u001b[0;34m.\u001b[0m\u001b[0mpop\u001b[0m\u001b[0;34m(\u001b[0m\u001b[0;34m'host_prefix'\u001b[0m\u001b[0;34m,\u001b[0m \u001b[0;32mNone\u001b[0m\u001b[0;34m)\u001b[0m\u001b[0;34m\u001b[0m\u001b[0m\n",
      "\u001b[0;32m~/anaconda3/envs/python3/lib/python3.6/site-packages/botocore/validate.py\u001b[0m in \u001b[0;36mserialize_to_request\u001b[0;34m(self, parameters, operation_model)\u001b[0m\n\u001b[1;32m    295\u001b[0m                                                     operation_model.input_shape)\n\u001b[1;32m    296\u001b[0m             \u001b[0;32mif\u001b[0m \u001b[0mreport\u001b[0m\u001b[0;34m.\u001b[0m\u001b[0mhas_errors\u001b[0m\u001b[0;34m(\u001b[0m\u001b[0;34m)\u001b[0m\u001b[0;34m:\u001b[0m\u001b[0;34m\u001b[0m\u001b[0m\n\u001b[0;32m--> 297\u001b[0;31m                 \u001b[0;32mraise\u001b[0m \u001b[0mParamValidationError\u001b[0m\u001b[0;34m(\u001b[0m\u001b[0mreport\u001b[0m\u001b[0;34m=\u001b[0m\u001b[0mreport\u001b[0m\u001b[0;34m.\u001b[0m\u001b[0mgenerate_report\u001b[0m\u001b[0;34m(\u001b[0m\u001b[0;34m)\u001b[0m\u001b[0;34m)\u001b[0m\u001b[0;34m\u001b[0m\u001b[0m\n\u001b[0m\u001b[1;32m    298\u001b[0m         return self._serializer.serialize_to_request(parameters,\n\u001b[1;32m    299\u001b[0m                                                      operation_model)\n",
      "\u001b[0;31mParamValidationError\u001b[0m: Parameter validation failed:\nInvalid type for parameter Body, value: [0, 0, 0, 0, 0, 0, 0, 0, 0, 0, 0, 0, 0, 0, 0, 0, 0, 0, 0, 0, 0, 0, 0, 0, 0, 0, 0, 0, 0, 0, 0, 0, 0, 0, 0, 0, 0, 0, 0, 0, 0, 0, 0, 0, 0, 0, 0, 0, 0, 0, 0, 0, 0, 0, 0, 0, 0, 0, 0, 0, 0, 0, 0, 0, 0, 0, 0, 0, 0, 0, 0, 0, 0, 0, 0, 0, 0, 0, 0, 0, 0, 0, 0, 0, 0, 0, 0, 0, 0, 0, 0, 0, 0, 0, 0, 0, 0, 0, 0, 0, 0, 0, 0, 0, 0, 0, 0, 0, 0, 0, 0, 0, 0, 0, 0, 0, 0, 0, 0, 0, 0, 0, 0, 0, 0, 0, 0, 0, 0, 0, 0, 0, 0, 0, 0, 0, 0, 0, 0, 0, 0, 0, 0, 0, 0, 0, 0, 0, 0, 0, 0, 0, 0, 0, 0, 0, 0, 0, 0, 0, 0, 0, 0, 0, 0, 0, 0, 0, 0, 0, 0, 0, 0, 0, 0, 0, 0, 0, 0, 0, 0, 0, 0, 0, 0, 0, 0, 0, 0, 0, 0, 0, 0, 0, 0, 0, 0, 0, 0, 0, 0, 0, 0, 0, 0, 0, 0, 0, 0, 0, 0, 0, 0, 0, 0, 0, 0, 0, 0, 0, 0, 0, 0, 0, 0, 0, 1, 0, 0, 0, 0, 0, 0, 0, 0, 0, 0, 0, 0, 0, 0, 0, 0, 0, 0, 0, 0, 0, 0, 0, 0, 0, 0, 0, 0, 0, 1, 0, 0, 0, 0, 0, 0, 0, 0, 0, 0, 0, 0, 0, 0, 0, 0, 0, 0, 0, 0, 0, 0, 0, 0, 0, 0, 0, 0, 0, 0, 0, 0, 0, 0, 0, 0, 0, 0, 0, 0, 0, 0, 0, 0, 0, 0, 0, 0, 0, 0, 0, 0, 0, 0, 0, 0, 0, 0, 0, 0, 0, 0, 0, 0, 0, 0, 0, 0, 0, 0, 0, 0, 0, 0, 0, 0, 0, 0, 0, 0, 0, 0, 0, 0, 0, 0, 0, 0, 0, 0, 0, 0, 0, 0, 0, 0, 0, 0, 0, 0, 0, 0, 0, 0, 0, 0, 0, 0, 0, 0, 0, 0, 0, 0, 0, 0, 0, 0, 0, 0, 0, 0, 0, 0, 0, 0, 0, 0, 0, 0, 0, 0, 0, 0, 0, 0, 0, 0, 0, 0, 0, 0, 0, 0, 0, 0, 0, 0, 0, 0, 0, 0, 0, 0, 0, 0, 0, 0, 0, 0, 0, 0, 0, 0, 0, 0, 0, 0, 0, 0, 0, 0, 0, 0, 0, 0, 0, 0, 0, 0, 0, 0, 0, 0, 0, 0, 0, 0, 0, 0, 0, 0, 0, 0, 0, 0, 0, 0, 0, 0, 0, 0, 0, 0, 0, 0, 0, 0, 0, 0, 0, 0, 0, 0, 0, 0, 0, 0, 0, 0, 0, 0, 0, 0, 0, 0, 0, 0, 0, 0, 0, 0, 0, 0, 0, 0, 0, 0, 0, 0, 0, 0, 0, 0, 0, 0, 0, 0, 0, 0, 0, 0, 0, 0, 0, 0, 0, 0, 0, 0, 0, 0, 0, 0, 0, 0, 0, 0, 0, 0, 0, 0, 0, 0, 0, 0, 0, 0, 0, 0, 0, 0, 0, 0, 0, 0, 0, 0, 0, 0, 0, 0, 0, 0, 0, 0, 0, 0, 0, 0, 0, 0, 0, 0, 0, 0, 0, 0, 0, 0, 0, 0, 0, 0, 0, 0, 0, 0, 0, 0, 0, 0, 0, 0, 0, 0, 0, 0, 0, 0, 0, 0, 0, 0, 0, 0, 0, 0, 0, 0, 0, 0, 0, 0, 0, 0, 0, 0, 0, 0, 0, 0, 0, 0, 0, 0, 0, 0, 0, 0, 0, 0, 0, 0, 0, 0, 0, 0, 0, 0, 0, 0, 0, 0, 0, 0, 0, 0, 0, 1, 0, 0, 0, 0, 0, 0, 0, 0, 0, 0, 0, 0, 0, 0, 0, 0, 0, 0, 0, 0, 0, 0, 0, 0, 0, 0, 0, 0, 0, 0, 0, 0, 0, 0, 0, 0, 0, 0, 0, 0, 0, 0, 0, 0, 0, 0, 0, 0, 0, 0, 0, 0, 0, 0, 0, 0, 0, 0, 0, 0, 0, 0, 0, 0, 0, 0, 0, 0, 0, 0, 0, 0, 0, 0, 0, 0, 0, 0, 0, 0, 0, 0, 0, 0, 0, 0, 0, 0, 0, 0, 0, 0, 0, 0, 0, 0, 0, 0, 0, 0, 0, 0, 0, 0, 0, 0, 0, 0, 0, 0, 0, 0, 0, 0, 0, 0, 0, 0, 0, 0, 0, 0, 0, 0, 0, 0, 0, 0, 0, 0, 0, 0, 0, 0, 0, 0, 0, 0, 0, 0, 0, 0, 0, 0, 0, 0, 0, 0, 0, 0, 0, 0, 0, 0, 0, 0, 0, 0, 0, 0, 0, 0, 0, 0, 0, 0, 0, 0, 0, 0, 0, 0, 0, 0, 0, 0, 0, 0, 0, 0, 0, 0, 0, 0, 0, 0, 0, 0, 0, 0, 0, 0, 0, 0, 0, 0, 0, 0, 0, 0, 0, 0, 0, 0, 0, 0, 0, 0, 0, 0, 0, 0, 0, 0, 0, 0, 0, 0, 0, 0, 0, 0, 0, 0, 0, 0, 0, 0, 0, 0, 0, 0, 0, 0, 0, 0, 0, 0, 0, 0, 0, 0, 0, 0, 0, 0, 0, 0, 0, 0, 0, 0, 0, 1, 0, 0, 0, 0, 0, 0, 0, 0, 0, 0, 0, 0, 0, 0, 0, 0, 0, 0, 0, 0, 0, 0, 0, 0, 0, 0, 0, 0, 0, 0, 0, 0, 0, 0, 0, 0, 0, 0, 0, 0, 0, 0, 0, 0, 0, 0, 0, 0, 0, 0, 0, 0, 0, 0, 0, 0, 0, 0, 0, 0, 0, 0, 0, 0, 0, 0, 0, 0, 0, 0, 0, 0, 0, 0, 0, 0, 0, 0, 0, 0, 0, 0, 0, 0, 0, 0, 1, 0, 0, 0, 0, 0, 0, 0, 0, 0, 0, 0, 0, 0, 0, 0, 0, 0, 0, 0, 0, 0, 0, 0, 0, 0, 0, 0, 0, 0, 0, 0, 0, 0, 0, 0, 0, 0, 0, 0, 0, 0, 0, 0, 0, 0, 0, 0, 0, 0, 0, 0, 0, 0, 0, 0, 0, 0, 0, 0, 0, 0, 0, 0, 0, 0, 0, 0, 0, 0, 0, 0, 0, 0, 0, 0, 0, 0, 0, 0, 0, 0, 0, 0, 0, 0, 0, 0, 0, 0, 0, 0, 0, 0, 0, 0, 0, 0, 0, 0, 0, 0, 0, 0, 0, 0, 0, 0, 0, 0, 0, 0, 0, 0, 0, 0, 0, 0, 0, 0, 0, 0, 0, 0, 0, 0, 0, 0, 0, 0, 0, 0, 0, 0, 0, 0, 0, 0, 0, 0, 0, 0, 0, 0, 0, 0, 0, 0, 0, 0, 0, 0, 0, 0, 0, 0, 0, 0, 0, 0, 0, 0, 0, 0, 0, 0, 0, 0, 0, 0, 0, 0, 0, 0, 0, 0, 0, 0, 0, 0, 0, 0, 0, 0, 0, 0, 0, 0, 0, 0, 0, 0, 0, 0, 0, 0, 0, 0, 0, 0, 0, 0, 0, 0, 0, 0, 0, 0, 0, 0, 0, 0, 0, 0, 0, 0, 0, 0, 0, 0, 0, 0, 0, 0, 0, 0, 0, 0, 0, 0, 0, 0, 0, 0, 0, 0, 0, 0, 0, 0, 0, 0, 0, 0, 0, 0, 0, 0, 0, 0, 0, 0, 0, 1, 0, 0, 0, 0, 0, 0, 0, 0, 0, 0, 0, 0, 0, 0, 0, 0, 0, 0, 0, 0, 0, 0, 0, 0, 0, 0, 0, 0, 0, 0, 0, 0, 0, 0, 0, 0, 0, 0, 0, 0, 0, 0, 0, 0, 0, 0, 0, 0, 0, 0, 0, 0, 0, 0, 0, 1, 0, 0, 0, 0, 0, 0, 0, 0, 0, 0, 0, 0, 0, 0, 0, 0, 0, 0, 0, 0, 0, 0, 0, 0, 0, 0, 0, 0, 0, 0, 0, 0, 0, 0, 0, 0, 0, 0, 0, 0, 0, 0, 0, 0, 0, 0, 0, 0, 0, 0, 0, 0, 0, 0, 0, 0, 0, 0, 0, 0, 0, 0, 0, 0, 0, 0, 0, 0, 0, 0, 0, 0, 0, 0, 0, 0, 0, 0, 0, 0, 0, 0, 0, 0, 0, 0, 0, 0, 0, 0, 0, 0, 0, 0, 0, 0, 0, 0, 0, 0, 0, 0, 0, 0, 0, 0, 0, 0, 0, 0, 0, 0, 0, 0, 0, 0, 0, 0, 0, 0, 0, 0, 0, 0, 0, 0, 0, 0, 0, 0, 0, 0, 0, 0, 0, 0, 0, 0, 0, 0, 0, 0, 0, 0, 0, 0, 0, 0, 0, 0, 0, 0, 0, 0, 0, 0, 0, 0, 0, 0, 0, 0, 0, 0, 0, 0, 0, 0, 0, 0, 0, 0, 0, 0, 0, 0, 0, 0, 0, 0, 0, 0, 0, 0, 0, 0, 0, 0, 0, 0, 0, 0, 0, 0, 0, 0, 0, 0, 0, 0, 0, 0, 0, 0, 0, 0, 0, 0, 0, 0, 0, 0, 0, 0, 0, 0, 0, 0, 0, 0, 0, 0, 0, 0, 0, 0, 0, 0, 0, 0, 0, 0, 0, 0, 0, 0, 0, 0, 0, 0, 0, 0, 0, 0, 0, 0, 0, 0, 0, 0, 0, 0, 0, 0, 0, 0, 0, 0, 0, 0, 0, 0, 0, 0, 0, 0, 0, 0, 0, 0, 0, 0, 0, 0, 0, 0, 0, 0, 0, 0, 0, 0, 0, 0, 0, 0, 0, 0, 0, 0, 0, 0, 0, 0, 0, 0, 0, 0, 0, 0, 0, 0, 0, 0, 0, 0, 0, 0, 0, 0, 0, 0, 0, 0, 0, 0, 0, 0, 0, 0, 0, 0, 0, 0, 0, 0, 0, 0, 0, 0, 0, 0, 0, 0, 0, 0, 0, 0, 0, 0, 0, 0, 0, 0, 0, 0, 0, 0, 0, 0, 0, 0, 0, 0, 0, 0, 0, 0, 0, 0, 0, 0, 0, 0, 0, 0, 0, 0, 0, 0, 0, 0, 0, 0, 0, 0, 0, 0, 0, 0, 0, 0, 0, 0, 0, 0, 0, 0, 0, 0, 0, 0, 0, 0, 0, 0, 0, 0, 0, 0, 0, 0, 0, 0, 0, 0, 0, 0, 0, 0, 0, 0, 0, 0, 0, 0, 0, 0, 0, 0, 0, 0, 0, 0, 0, 0, 0, 0, 0, 0, 0, 0, 0, 0, 0, 0, 0, 0, 0, 0, 0, 0, 0, 0, 0, 0, 0, 0, 0, 0, 0, 0, 0, 0, 0, 0, 0, 0, 0, 0, 0, 0, 0, 0, 0, 0, 0, 0, 0, 0, 0, 0, 0, 0, 0, 0, 0, 0, 0, 0, 0, 0, 0, 0, 0, 0, 0, 0, 0, 0, 0, 0, 0, 0, 0, 0, 0, 0, 0, 0, 0, 0, 0, 0, 0, 0, 0, 0, 0, 0, 0, 0, 0, 0, 0, 0, 0, 0, 0, 0, 0, 0, 0, 0, 0, 0, 0, 0, 0, 0, 0, 0, 0, 0, 0, 0, 0, 0, 0, 0, 0, 0, 0, 0, 0, 0, 0, 0, 0, 0, 0, 0, 0, 0, 0, 0, 0, 0, 0, 0, 0, 0, 0, 0, 0, 0, 0, 0, 0, 0, 0, 0, 0, 0, 0, 0, 0, 0, 0, 0, 0, 0, 0, 0, 0, 0, 0, 0, 0, 0, 0, 0, 0, 0, 0, 0, 0, 0, 0, 0, 0, 0, 0, 0, 0, 0, 0, 0, 0, 0, 0, 0, 0, 0, 0, 0, 0, 0, 0, 0, 0, 0, 0, 0, 0, 0, 0, 0, 0, 0, 0, 0, 0, 0, 0, 0, 0, 0, 0, 0, 0, 0, 0, 0, 0, 0, 0, 0, 0, 0, 0, 0, 0, 0, 0, 0, 0, 0, 0, 0, 0, 0, 0, 0, 0, 0, 0, 0, 0, 0, 0, 0, 0, 0, 0, 0, 0, 0, 0, 0, 0, 1, 0, 0, 0, 0, 0, 0, 0, 0, 0, 0, 0, 0, 0, 0, 0, 0, 0, 0, 0, 0, 0, 0, 0, 0, 0, 0, 0, 0, 0, 0, 0, 0, 0, 0, 0, 0, 0, 0, 0, 0, 0, 0, 0, 0, 0, 0, 0, 0, 0, 0, 0, 0, 0, 0, 0, 0, 0, 0, 0, 0, 0, 0, 0, 0, 0, 0, 0, 0, 0, 0, 0, 0, 0, 0, 1, 0, 0, 0, 0, 0, 0, 0, 0, 0, 0, 0, 0, 0, 0, 0, 0, 0, 0, 0, 0, 1, 0, 0, 1, 0, 0, 0, 0, 0, 0, 0, 0, 0, 0, 0, 0, 0, 0, 0, 0, 0, 0, 0, 0, 0, 0, 0, 0, 0, 0, 0, 0, 0, 0, 0, 0, 0, 0, 0, 0, 0, 0, 0, 0, 0, 0, 0, 0, 0, 0, 0, 0, 0, 0, 0, 0, 0, 0, 0, 0, 0, 0, 0, 0, 0, 0, 0, 0, 0, 0, 0, 0, 0, 0, 0, 0, 0, 0, 0, 0, 0, 0, 0, 0, 0, 0, 0, 0, 0, 0, 0, 0, 0, 0, 0, 0, 0, 0, 0, 0, 0, 0, 0, 0, 0, 0, 0, 0, 0, 0, 0, 0, 0, 0, 0, 0, 0, 0, 0, 0, 0, 0, 0, 0, 0, 0, 0, 0, 0, 0, 0, 0, 0, 0, 0, 0, 0, 0, 0, 0, 0, 0, 0, 0, 0, 0, 0, 0, 0, 0, 0, 0, 0, 0, 0, 0, 0, 0, 0, 0, 0, 0, 0, 0, 0, 0, 0, 0, 0, 0, 0, 0, 0, 0, 0, 0, 0, 0, 0, 0, 0, 0, 0, 0, 0, 0, 0, 0, 0, 0, 0, 0, 0, 0, 0, 0, 0, 0, 0, 0, 0, 0, 0, 0, 0, 0, 0, 0, 0, 0, 0, 0, 0, 0, 0, 0, 0, 0, 0, 0, 0, 0, 0, 0, 0, 0, 0, 0, 0, 0, 0, 0, 0, 0, 0, 0, 0, 0, 0, 0, 0, 0, 0, 0, 0, 0, 0, 0, 0, 0, 0, 0, 0, 0, 0, 0, 0, 0, 0, 0, 0, 0, 0, 0, 0, 0, 0, 0, 0, 0, 0, 0, 0, 0, 0, 0, 0, 0, 0, 0, 0, 0, 0, 0, 0, 0, 0, 0, 0, 0, 0, 0, 0, 0, 0, 0, 0, 0, 0, 0, 0, 0, 0, 0, 0, 0, 0, 0, 0, 0, 0, 0, 0, 0, 0, 0, 0, 0, 0, 0, 0, 0, 0, 0, 0, 0, 0, 0, 0, 0, 0, 0, 0, 0, 0, 0, 0, 0, 0, 0, 0, 0, 0, 0, 0, 0, 0, 0, 0, 0, 0, 0, 0, 0, 0, 0, 0, 0, 0, 0, 0, 0, 0, 0, 0, 0, 0, 0, 0, 0, 0, 0, 0, 0, 0, 0, 0, 0, 0, 0, 0, 0, 0, 0, 0, 0, 0, 0, 0, 0, 0, 0, 0, 0, 0, 0, 0, 0, 0, 0, 0, 0, 0, 0, 0, 0, 0, 0, 0, 0, 0, 0, 0, 0, 0, 0, 0, 0, 0, 0, 0, 0, 0, 0, 0, 0, 0, 0, 0, 0, 0, 0, 0, 0, 0, 0, 0, 0, 0, 0, 0, 0, 0, 0, 0, 0, 0, 0, 0, 0, 0, 0, 0, 0, 0, 0, 0, 0, 0, 0, 0, 0, 0, 0, 0, 0, 0, 0, 0, 0, 1, 0, 0, 0, 0, 0, 0, 0, 0, 0, 0, 0, 0, 0, 0, 0, 0, 0, 0, 0, 0, 0, 0, 0, 0, 0, 0, 0, 0, 0, 0, 0, 0, 0, 0, 0, 0, 0, 0, 0, 0, 0, 0, 0, 0, 0, 0, 0, 0, 0, 0, 0, 0, 0, 0, 0, 0, 0, 0, 0, 0, 0, 0, 0, 0, 0, 0, 0, 0, 0, 0, 0, 0, 0, 0, 0, 0, 0, 0, 0, 0, 0, 0, 0, 0, 0, 0, 0, 0, 0, 0, 0, 0, 0, 0, 0, 0, 0, 0, 0, 0, 0, 0, 0, 0, 0, 0, 0, 0, 0, 0, 0, 0, 0, 0, 0, 0, 0, 0, 0, 0, 0, 0, 0, 0, 0, 0, 0, 0, 0, 0, 0, 0, 0, 0, 0, 0, 0, 0, 0, 0, 0, 0, 0, 0, 0, 0, 0, 0, 0, 0, 0, 0, 0, 0, 0, 0, 0, 0, 0, 0, 0, 0, 0, 0, 0, 0, 0, 0, 0, 0, 0, 0, 0, 0, 0, 0, 0, 0, 0, 0, 0, 0, 0, 0, 0, 0, 0, 0, 0, 0, 0, 0, 0, 0, 0, 0, 0, 0, 0, 0, 0, 0, 0, 0, 0, 0, 0, 0, 0, 0, 0, 0, 0, 0, 0, 0, 0, 0, 0, 0, 0, 0, 0, 0, 0, 0, 0, 0, 0, 0, 0, 0, 0, 0, 0, 0, 0, 0, 0, 0, 0, 0, 0, 0, 0, 0, 0, 0, 0, 0, 0, 0, 0, 0, 0, 0, 0, 0, 0, 0, 0, 0, 0, 0, 0, 0, 0, 0, 0, 0, 0, 0, 0, 0, 0, 0, 0, 0, 0, 0, 0, 0, 0, 0, 0, 0, 0, 0, 0, 0, 0, 0, 0, 0, 0, 0, 0, 0, 0, 0, 0, 0, 0, 0, 0, 0, 0, 0, 0, 0, 0, 0, 0, 0, 0, 0, 0, 0, 0, 0, 0, 0, 0, 0, 0, 0, 0, 0, 0, 0, 0, 0, 0, 0, 0, 0, 0, 0, 0, 0, 0, 0, 0, 0, 0, 0, 0, 0, 0, 0, 0, 0, 0, 0, 0, 0, 0, 0, 0, 0, 0, 0, 0, 0, 0, 0, 0, 0, 0, 0, 0, 0, 0, 0, 0, 0, 0, 0, 0, 0, 0, 0, 0, 0, 0, 0, 0, 0, 0, 0, 0, 0, 0, 0, 0, 0, 0, 0, 0, 0, 0, 0, 0, 0, 0, 0, 0, 0, 0, 0, 0, 0, 0, 0, 0, 0, 0, 0, 0, 0, 0, 0, 0, 0, 0, 0, 0, 0, 0, 0, 0, 0, 0, 0, 0, 0, 0, 0, 0, 0, 0, 0, 0, 0, 0, 0, 0, 0, 0, 0, 0, 0, 0, 0, 0, 0, 0, 0, 0, 0, 0, 0, 0, 0, 0, 0, 0, 0, 0, 0, 0, 0, 0, 0, 0, 0, 0, 0, 0, 0, 0, 0, 0, 0, 0, 0, 0, 0, 0, 0, 0, 0, 0, 0, 0, 0, 0, 0, 0, 0, 0, 0, 0, 0, 0, 0, 0, 0, 0, 0, 0, 0, 1, 0, 0, 0, 0, 0, 0, 0, 0, 0, 0, 0, 0, 0, 0, 0, 0, 0, 0, 0, 0, 0, 0, 0, 0, 0, 0, 0, 0, 0, 0, 0, 0, 0, 0, 0, 2, 0, 0, 0, 0, 0, 0, 0, 0, 0, 0, 0, 0, 0, 0, 0, 0, 0, 0, 0, 0, 0, 0, 0, 0, 0, 0, 0, 0, 0, 0, 0, 0, 0, 0, 0, 0, 0, 0, 0, 0, 1, 0, 0, 0, 0, 0, 0, 0, 0, 0, 0, 0, 0, 0, 0, 0, 0, 0, 0, 0, 0, 0, 0, 0, 0, 0, 0, 0, 0, 0, 0, 0, 0, 0, 0, 0, 0, 0, 0, 0, 0, 0, 0, 0, 0, 0, 0, 0, 0, 0, 0, 0, 0, 0, 0, 0, 0, 0, 0, 0, 0, 0, 0, 0, 0, 0, 0, 0, 0, 0, 0, 0, 0, 0, 0, 0, 0, 0, 0, 0, 0, 0, 0, 0, 0, 0, 0, 0, 0, 0, 0, 0, 0, 0, 0, 0, 0, 0, 0, 0, 0, 0, 0, 0, 0, 0, 0, 0, 0, 0, 0, 0, 0, 0, 0, 0, 0, 0, 0, 0, 0, 0, 0, 0, 0, 0, 0, 0, 0, 0, 0, 0, 0, 0, 0, 0, 0, 0, 0, 0, 0, 0, 0, 0, 0, 0, 0, 0, 0, 0, 0, 0, 0, 0, 0, 0, 0, 0, 0, 0, 0, 0, 0, 0, 0, 0, 0, 0, 0, 0, 0, 0, 0, 0, 0, 0, 0, 0, 0, 0, 0, 0, 0, 0, 0, 0, 0, 0, 0, 0, 0, 0, 0, 0, 0, 0, 0, 0, 0, 0, 0, 0, 0, 0, 0, 0, 0, 0, 0, 0, 0, 0, 0, 0, 0, 0, 0, 0, 0, 0, 0, 0, 0, 0, 0, 0, 0, 0, 0, 0, 0, 0, 0, 0, 0, 0, 0, 0, 0, 0, 0, 0, 0, 0, 0, 0, 0, 0, 0, 0, 0, 0, 0, 0, 0, 0, 0, 0, 0, 0, 0, 0, 0, 0, 0, 0, 0, 0, 0, 0, 0, 0, 0, 0, 0, 0, 0, 0, 0, 0, 0, 0, 0, 0, 0, 0, 0, 0, 0, 0, 0, 0, 0, 0, 0, 0, 0, 0, 0, 0, 0, 0, 0, 0, 0, 0, 0, 0, 0, 0, 0, 0, 0, 0, 0, 0, 0, 0, 0, 0, 0, 0, 0, 0, 0, 0, 0, 0, 0, 0, 0, 0, 0, 0, 0, 0, 0, 0, 0, 0, 0, 0, 0, 0, 0, 0, 0, 0, 0, 0, 0, 0, 0, 0, 0, 0, 0, 0, 0, 0, 0, 0, 0, 0, 0, 0, 0, 0, 0, 0, 0, 0, 0, 0, 0, 0, 0, 0, 0, 0, 0, 0, 0, 0, 0, 0, 0, 0, 0, 0, 0, 0, 0, 0, 0, 0, 0, 0, 0, 0, 0, 0, 0, 0, 0, 0, 0, 0, 0, 0, 0, 0, 0, 0, 0, 0, 0, 0, 0, 0, 0, 0, 0, 0, 0, 0, 0, 0, 0, 0, 0, 0, 0, 0, 0, 0, 0, 0, 0, 0, 0, 0, 0, 0, 0, 0, 0, 0, 0, 0, 0, 0, 0, 0, 0, 0, 0, 0, 0, 0, 0, 0, 0, 0, 0, 0, 0, 0, 0, 0, 0, 0, 0, 0, 0, 0, 0, 0, 0, 0, 0, 0, 0, 0, 0, 0, 0, 0, 0, 0, 0, 0, 0, 0, 0, 0, 0, 0, 1, 0, 0, 0, 0, 0, 0, 0, 0, 0, 0, 0, 0, 0, 0, 0, 0, 0, 0, 0, 0, 0, 0, 0, 0, 0, 0, 0, 0, 0, 0, 0, 0, 0, 0, 0, 0, 0, 0, 0, 0, 0, 0, 0, 0, 0, 0, 0, 0, 0, 0, 0, 0, 0, 0, 0, 0, 0, 0, 0, 0, 0, 0, 0, 0, 0, 0, 0, 0, 0, 0, 0, 0, 0, 0, 0, 0, 0, 0, 0, 0, 0, 0, 0, 0, 0, 0, 0, 0, 0, 0, 0, 0, 0, 0, 0, 0, 0, 0, 0, 0, 0, 0, 0, 0, 0, 0, 0, 0, 0, 0, 2, 0, 0, 0, 0, 0, 0, 0, 0, 0, 0, 0, 0, 0, 0, 0, 0, 0, 0, 0, 0, 0, 0, 0, 0, 0, 0, 0, 0, 0, 0, 0, 0, 0, 0, 0, 0, 0, 0, 0, 0, 0, 0, 0, 0, 0, 0, 0, 0, 0, 0, 0, 0, 0, 0, 0, 0, 0, 0, 0, 0, 0, 0, 0, 0, 0, 0, 0, 0, 0, 0, 0, 0, 0, 0, 0, 0, 0, 0, 0, 0, 0, 0, 0, 0, 0, 0, 0, 0, 0, 0, 0, 0, 0, 0, 0, 0, 0, 0, 0, 0, 0, 0, 0, 0, 0, 0, 0, 0, 0, 0, 0, 0, 0, 0, 0, 0, 0, 0, 0, 0, 0, 0, 0, 0, 0, 0, 0, 0, 0, 0, 0, 0, 0, 0, 0, 0, 0, 0, 0, 0, 0, 0, 0, 0, 0, 0, 0, 0, 0, 0, 0, 0, 0, 0, 0, 0, 0, 0, 0, 0, 0, 0, 0, 0, 0, 0, 0, 0, 0, 0, 0, 0, 0, 0, 0, 0, 0, 0, 0, 0, 0, 0, 0, 0, 0, 0, 0, 0, 0, 0, 0, 0, 0, 0, 0, 0, 0, 0, 0, 0, 0, 0, 0, 0, 0, 0, 0, 0, 0, 0, 0, 0, 0, 0, 0, 0, 0, 0, 0, 0, 0, 0, 0, 0, 0, 0, 0, 0, 0, 0, 0, 0, 0, 0, 0, 0, 0, 0, 0, 0, 0, 0, 0, 0, 0, 0, 0, 0, 0, 0, 0, 0, 0, 0, 0, 0, 0, 0, 0, 0, 0, 0, 0, 0, 0, 0, 0, 0, 0, 0, 0, 0, 0, 0, 0, 0, 0, 0, 0, 0, 0, 0, 0, 0, 0, 0, 0, 0, 0, 0, 0, 0, 0, 0, 0, 0, 0, 0, 0, 0, 0, 0, 0, 0, 0, 0, 0, 0, 0, 0, 0, 0, 0, 0, 0, 0, 0, 0, 0, 0, 0, 0, 0, 0, 0, 0, 0, 0, 0, 0, 0, 0, 0, 0, 0, 0, 0, 0, 0, 0, 0, 0, 0, 0, 0, 0, 0, 0, 0, 0, 0, 0, 0, 0, 0, 0, 0, 0, 0, 0, 0, 0, 0, 0, 0, 0, 0, 0, 0, 0, 0, 0, 0, 0, 0, 0, 0, 0, 0, 0, 0, 0, 0, 0, 0, 0, 0, 0, 0, 0, 0, 0, 0, 0, 0, 0, 0, 0, 0, 0, 0, 0, 0, 0, 0, 0, 0, 0, 0, 0, 0, 0, 0, 0, 0, 0, 0, 0, 0, 0, 0, 0, 0, 0, 0, 0, 0, 0, 0, 0, 0, 0, 0, 0, 0, 0, 0, 0, 0, 0, 0, 0, 0, 0, 0, 0, 0, 0, 0, 0, 0, 0, 0, 0, 0, 0, 0, 0, 0, 0, 0, 0, 0, 0, 0, 0, 0, 0, 0, 0, 0, 0, 0, 0, 0, 0, 0, 0, 0, 0, 0, 0, 0, 0, 0, 0, 0, 0, 0, 0, 0, 0, 0, 0, 0, 0, 0, 0, 0, 0, 0, 0, 0, 0, 0, 0, 0, 0, 0, 0, 0, 0, 0, 0, 0, 0, 0, 0, 0, 0, 0, 0, 0, 0, 0, 0, 0, 0, 0, 0, 0, 0, 0, 0, 0, 0, 0, 0, 0, 0, 0, 0, 0, 0, 0, 0, 0, 0, 0, 0, 0, 0, 0, 0, 0, 0, 0, 0, 0, 0, 0, 0, 0, 0, 0, 0, 0, 0, 0, 0, 0, 0, 0, 0, 0, 0, 0, 0, 0, 0, 0, 0, 0, 0, 0, 0, 0, 0, 0, 0, 0, 0, 0, 0, 0, 0, 0, 0, 0, 0, 0, 0, 0, 0, 0, 0, 0, 0, 0, 0, 0, 0, 0, 0, 0, 0, 0, 0, 0, 0, 0, 0, 0, 0, 0, 0, 0, 0, 0, 0, 0, 0, 0, 0, 0, 0, 0, 0, 0, 0, 0, 0, 0, 0, 0, 0, 0, 0, 0, 0, 0, 0, 0, 0, 0, 0, 0, 0, 0, 0, 0, 0, 0, 0, 0, 0, 0, 0, 0, 0, 0, 0, 0, 0, 0, 0, 0, 0, 0, 0, 0, 0, 0, 0, 0, 0, 0, 0, 0, 0, 1, 0, 0, 0, 0, 0, 0, 0, 0, 0, 0, 0, 0, 0, 0, 0, 0, 0, 0, 0, 0, 0, 0, 0, 0, 0, 0, 0, 0, 0, 0, 0, 0, 0, 0, 0, 0, 0, 0, 0, 0, 0, 0, 0, 0, 0, 0, 0, 0, 0, 0, 0, 0, 0, 0, 0, 0, 0, 0, 0, 0, 0, 0, 0, 0, 0, 0, 0, 0, 0, 0, 0, 0, 0, 0, 0, 0, 0, 0, 0, 0, 0, 0, 0, 0, 0, 0, 0, 0, 0, 0, 0, 0, 0, 0, 0, 0, 0, 0, 0, 0, 0, 0, 0, 0, 0, 0, 0, 1, 0, 0, 0, 0, 0, 0, 0, 0, 0, 0, 0, 0, 0, 0, 0, 0, 0, 0, 0, 0, 0, 0, 0, 0, 0, 0, 0, 0, 0, 0, 0, 0, 0, 0, 0, 0, 0, 0, 0, 0, 0, 0, 0, 0, 0, 0, 0, 0, 0, 0, 0, 0, 0, 0, 0, 0, 0, 0, 0, 0, 0, 0, 0, 0, 0, 0, 0, 0, 0, 0, 0, 0, 0, 0, 0, 0, 0, 0, 0, 0, 0, 0, 0, 0, 0, 0, 0, 0, 0, 0, 0, 0, 0, 0, 0, 0, 0, 0, 0, 0, 0, 0, 0, 0, 0, 0, 0, 0, 0, 0, 0, 0, 0, 0, 0, 0, 0, 0, 0, 0, 0, 0, 0, 0, 0, 0, 0, 0, 0, 0, 0, 0, 0, 0, 0, 0, 0, 0, 0, 0, 0, 0, 0, 0, 0, 0, 0, 0, 0, 0, 0, 0, 0, 0, 0, 0, 0, 0, 0, 0, 0, 0, 0, 0, 0, 0, 0, 0, 0, 0, 0, 0, 0, 0, 0, 0, 0, 0, 0, 0, 0, 0, 0, 0, 0, 0, 0, 0, 0, 0, 0, 0, 0, 0, 0, 0, 0, 0, 0, 0, 0, 0, 0, 0, 0, 0, 0, 0, 0, 0, 0, 0, 0, 0, 0, 0, 0, 0, 0, 0, 0, 0, 0, 0, 0, 0, 0, 0, 0, 0, 0, 0, 0, 0, 0, 0, 0, 0, 0, 0, 0, 0, 0, 0, 0, 0, 0, 0, 0, 0, 0, 0, 0, 0, 0, 0, 0, 0, 0, 0, 0, 0, 0, 0, 0, 0, 0, 0, 0, 0, 0, 0, 0, 0, 0, 0, 0, 0, 0, 0, 0, 0, 0, 0, 0, 0, 0, 0, 0, 0, 0, 0, 0, 0, 0, 0, 0, 0, 0, 0, 0, 0, 0, 0, 0, 0, 0, 0, 0, 0, 0, 0, 0, 0, 0, 0, 0, 0, 0, 0, 0, 0, 0, 0, 0, 0, 0, 0, 0, 0, 0, 0, 0, 0, 0, 0, 0, 0, 0, 0, 0, 0, 0, 0, 0, 0, 0, 0, 0, 0, 0, 0, 0, 0, 0, 0, 0, 0, 0, 0, 0, 0, 0, 0, 0, 0, 0, 0, 0, 0, 0, 0, 0, 0, 0, 0, 0, 0, 0, 0, 0, 0, 0, 0, 0, 0, 0, 0, 0, 0, 0, 0, 0, 0, 0, 0, 0, 0, 0, 0, 0, 0, 0, 0, 0, 0, 0, 0, 0, 0, 0, 0, 0, 0, 0, 0, 0, 0, 0, 0, 0, 0, 0, 0, 0, 0, 0, 0, 0, 0, 0, 0, 0, 0, 0, 0, 0, 0, 0, 0, 0, 0, 0, 0, 0, 0, 0, 0, 0, 0, 0, 0, 0, 0, 0, 0, 0, 0, 0, 0, 0, 0, 0, 2, 0, 1, 0], type: <class 'list'>, valid types: <class 'bytes'>, <class 'bytearray'>, file-like object"
     ]
    }
   ],
   "source": [
    "response = runtime.invoke_endpoint(EndpointName = xgb_predictor.endpoint, # The name of the endpoint we created\n",
    "                                       ContentType = 'text/csv',                     # The data format that is expected\n",
    "                                       Body = test_bow)"
   ]
  },
  {
   "cell_type": "markdown",
   "metadata": {},
   "source": [
    "So why did we get an error?\n",
    "\n",
    "Because we tried to send the endpoint a list of integers but it expected us to send data of type `text/csv`. So, we need to convert it."
   ]
  },
  {
   "cell_type": "code",
   "execution_count": 45,
   "metadata": {},
   "outputs": [],
   "source": [
    "response = runtime.invoke_endpoint(EndpointName = xgb_predictor.endpoint, # The name of the endpoint we created\n",
    "                                       ContentType = 'text/csv',                     # The data format that is expected\n",
    "                                       Body = ','.join([str(val) for val in test_bow]).encode('utf-8'))"
   ]
  },
  {
   "cell_type": "code",
   "execution_count": 46,
   "metadata": {},
   "outputs": [
    {
     "name": "stdout",
     "output_type": "stream",
     "text": [
      "{'ResponseMetadata': {'RequestId': '3950f1db-9aa5-4c98-aaf5-dcb6bb01cb17', 'HTTPStatusCode': 200, 'HTTPHeaders': {'x-amzn-requestid': '3950f1db-9aa5-4c98-aaf5-dcb6bb01cb17', 'x-amzn-invoked-production-variant': 'AllTraffic', 'date': 'Thu, 5 Dec 2019 12:32:34 GMT', 'content-type': 'text/csv; charset=utf-8', 'content-length': '14'}, 'RetryAttempts': 0}, 'ContentType': 'text/csv; charset=utf-8', 'InvokedProductionVariant': 'AllTraffic', 'Body': <botocore.response.StreamingBody object at 0x7fee58464dd8>}\n"
     ]
    }
   ],
   "source": [
    "print(response)"
   ]
  },
  {
   "cell_type": "markdown",
   "metadata": {},
   "source": [
    "As we can see, the response from our model is a somewhat complicated looking dict that contains a bunch of information. The bit that we are most interested in is `'Body'` object which is a streaming object that we need to `read` in order to make use of."
   ]
  },
  {
   "cell_type": "code",
   "execution_count": 47,
   "metadata": {},
   "outputs": [
    {
     "name": "stdout",
     "output_type": "stream",
     "text": [
      "0.490002065897\n"
     ]
    }
   ],
   "source": [
    "response = response['Body'].read().decode('utf-8')\n",
    "print(response)"
   ]
  },
  {
   "cell_type": "markdown",
   "metadata": {},
   "source": [
    "Now that we know how to process the incoming user data we can start setting up the infrastructure to make our simple web app work. To do this we will make use of two different services. Amazon's Lambda and API Gateway services.\n",
    "\n",
    "Lambda is a service which allows someone to write some relatively simple code and have it executed whenever a chosen trigger occurs. For example, you may want to update a database whenever new data is uploaded to a folder stored on S3.\n",
    "\n",
    "API Gateway is a service that allows you to create HTTP endpoints (url addresses) which are connected to other AWS services. One of the benefits to this is that you get to decide what credentials, if any, are required to access these endpoints.\n",
    "\n",
    "In our case we are going to set up an HTTP endpoint through API Gateway which is open to the public. Then, whenever anyone sends data to our public endpoint we will trigger a Lambda function which will send the input (in our case a review) to our model's endpoint and then return the result."
   ]
  },
  {
   "cell_type": "markdown",
   "metadata": {},
   "source": [
    "### Setting up a Lambda function\n",
    "\n",
    "The first thing we are going to do is set up a Lambda function. This Lambda function will be executed whenever our public API has data sent to it. When it is executed it will receive the data, perform any sort of processing that is required, send the data (the review) to the SageMaker endpoint we've created and then return the result.\n",
    "\n",
    "#### Part A: Create an IAM Role for the Lambda function\n",
    "\n",
    "Since we want the Lambda function to call a SageMaker endpoint, we need to make sure that it has permission to do so. To do this, we will construct a role that we can later give the Lambda function.\n",
    "\n",
    "Using the AWS Console, navigate to the **IAM** page and click on **Roles**. Then, click on **Create role**. Make sure that the **AWS service** is the type of trusted entity selected and choose **Lambda** as the service that will use this role, then click **Next: Permissions**.\n",
    "\n",
    "In the search box type `sagemaker` and select the check box next to the **AmazonSageMakerFullAccess** policy. Then, click on **Next: Review**.\n",
    "\n",
    "Lastly, give this role a name. Make sure you use a name that you will remember later on, for example `LambdaSageMakerRole`. Then, click on **Create role**."
   ]
  },
  {
   "cell_type": "markdown",
   "metadata": {},
   "source": [
    "#### Part B: Create a Lambda function\n",
    "\n",
    "Now it is time to actually create the Lambda function. Remember from earlier that in order to process the user provided input and send it to our endpoint we need to gather two pieces of information:\n",
    "\n",
    " - The name of the endpoint, and\n",
    " - the vocabulary object.\n",
    "\n",
    "We will copy these pieces of information to our Lambda function after we create it.\n",
    "\n",
    "To start, using the AWS Console, navigate to the AWS Lambda page and click on **Create a function**. When you get to the next page, make sure that **Author from scratch** is selected. Now, name your Lambda function, using a name that you will remember later on, for example `sentiment_analysis_xgboost_func`. Make sure that the **Python 3.6** runtime is selected and then choose the role that you created in the previous part. Then, click on **Create Function**.\n",
    "\n",
    "On the next page you will see some information about the Lambda function you've just created. If you scroll down you should see an editor in which you can write the code that will be executed when your Lambda function is triggered. Collecting the code we wrote above to process a single review and adding it to the provided example `lambda_handler` we arrive at the following.\n",
    "\n",
    "```python\n",
    "# We need to use the low-level library to interact with SageMaker since the SageMaker API\n",
    "# is not available natively through Lambda.\n",
    "import boto3\n",
    "\n",
    "# And we need the regular expression library to do some of the data processing\n",
    "import re\n",
    "\n",
    "REPLACE_NO_SPACE = re.compile(\"(\\.)|(\\;)|(\\:)|(\\!)|(\\')|(\\?)|(\\,)|(\\\")|(\\()|(\\))|(\\[)|(\\])\")\n",
    "REPLACE_WITH_SPACE = re.compile(\"(<br\\s*/><br\\s*/>)|(\\-)|(\\/)\")\n",
    "\n",
    "def review_to_words(review):\n",
    "    words = REPLACE_NO_SPACE.sub(\"\", review.lower())\n",
    "    words = REPLACE_WITH_SPACE.sub(\" \", words)\n",
    "    return words\n",
    "    \n",
    "def bow_encoding(words, vocabulary):\n",
    "    bow = [0] * len(vocabulary) # Start by setting the count for each word in the vocabulary to zero.\n",
    "    for word in words.split():  # For each word in the string\n",
    "        if word in vocabulary:  # If the word is one that occurs in the vocabulary, increase its count.\n",
    "            bow[vocabulary[word]] += 1\n",
    "    return bow\n",
    "\n",
    "\n",
    "def lambda_handler(event, context):\n",
    "    \n",
    "    vocab = \"*** ACTUAL VOCABULARY GOES HERE ***\"\n",
    "    \n",
    "    words = review_to_words(event['body'])\n",
    "    bow = bow_encoding(words, vocab)\n",
    "\n",
    "    # The SageMaker runtime is what allows us to invoke the endpoint that we've created.\n",
    "    runtime = boto3.Session().client('sagemaker-runtime')\n",
    "\n",
    "    # Now we use the SageMaker runtime to invoke our endpoint, sending the review we were given\n",
    "    response = runtime.invoke_endpoint(EndpointName = '***ENDPOINT NAME HERE***',# The name of the endpoint we created\n",
    "                                       ContentType = 'text/csv',                 # The data format that is expected\n",
    "                                       Body = ','.join([str(val) for val in bow]).encode('utf-8')) # The actual review\n",
    "\n",
    "    # The response is an HTTP response whose body contains the result of our inference\n",
    "    result = response['Body'].read().decode('utf-8')\n",
    "    \n",
    "    # Round the result so that our web app only gets '1' or '0' as a response.\n",
    "    result = round(float(result))\n",
    "\n",
    "    return {\n",
    "        'statusCode' : 200,\n",
    "        'headers' : { 'Content-Type' : 'text/plain', 'Access-Control-Allow-Origin' : '*' },\n",
    "        'body' : str(result)\n",
    "    }\n",
    "```"
   ]
  },
  {
   "cell_type": "markdown",
   "metadata": {},
   "source": [
    "Once you have copy and pasted the code above into the Lambda code editor, replace the `**ENDPOINT NAME HERE**` portion with the name of the endpoint that we deployed earlier. You can determine the name of the endpoint using the code cell below."
   ]
  },
  {
   "cell_type": "code",
   "execution_count": 48,
   "metadata": {},
   "outputs": [
    {
     "data": {
      "text/plain": [
       "'xgboost-2019-12-05-11-27-58-705'"
      ]
     },
     "execution_count": 48,
     "metadata": {},
     "output_type": "execute_result"
    }
   ],
   "source": [
    "xgb_predictor.endpoint"
   ]
  },
  {
   "cell_type": "markdown",
   "metadata": {},
   "source": [
    "In addition, you will need to copy the vocabulary dict to the appropriate place in the code at the beginning of the `lambda_handler` method. The cell below prints out the vocabulary dict in a way that is easy to copy and paste."
   ]
  },
  {
   "cell_type": "code",
   "execution_count": 50,
   "metadata": {},
   "outputs": [
    {
     "name": "stdout",
     "output_type": "stream",
     "text": [
      "{'it': 2366, 'really': 3556, 'was': 4805, 'that': 4424, 'bad': 382, 'on': 3105, 'par': 3184, 'with': 4911, 'the': 4426, 'short': 3946, 'lived': 2626, 'dirty': 1268, 'dozen': 1338, 'tv': 4610, 'series': 3890, 'starred': 4153, 'ben': 463, 'murphy': 2944, 'and': 226, 'made': 2697, 'at': 331, 'around': 297, 'same': 3778, 'time': 4495, 'also': 199, 'cheap': 774, 'in': 2257, 'embarrassed': 1453, 'for': 1784, 'cast': 710, 'members': 2801, 'of': 3083, 'this': 4457, 'film': 1716, 'particular': 3194, 'he': 2056, 'too': 4522, 'old': 3100, 'fat': 1663, 'role': 3726, 'pushing': 3479, '70': 55, 'when': 4862, 'garbage': 1870, 'reviewer': 3677, 'who': 4871, 'draws': 1352, 'greek': 1970, 'john': 2409, 'wayne': 4821, 'green': 1971, 'pretty': 3384, 'much': 2934, 'up': 4683, 'other': 3135, 'reviewers': 3678, 'have': 2052, 'pointed': 3317, 'out': 3141, 'some': 4061, 'many': 2732, 'laughable': 2530, 'crime': 1055, 'against': 147, 'celluloid': 731, 'contains': 964, 'so': 4046, 'wont': 4932, 'repeat': 3630, 'them': 4432, 'here': 2086, 'but': 636, 'will': 4886, 'add': 115, 'im': 2232, 'amazed': 208, 'no': 3020, 'ones': 3108, 'yet': 4984, 'mentioned': 2811, 'ridiculously': 3694, 'tiny': 4500, 'looking': 2648, 'wears': 4832, 'his': 2118, 'big': 478, 'head': 2057, 'has': 2043, 'rating': 3529, 'as': 311, 'high': 2100, 'imdb': 2240, 'far': 1653, 'concerned': 932, 'its': 2370, 'right': 3696, 'across': 96, 'board': 522, 'if': 2222, 'you': 4986, 'want': 4788, 'good': 1937, 'example': 1553, 'why': 4878, 'franchise': 1817, 'to': 4507, 'death': 1141, 'is': 2360, 'idea': 2213, 'especially': 1520, '20': 29, 'plus': 3311, 'years': 4979, 'after': 143, 'original': 3129, 'look': 2646, 'further': 1853, 'than': 4420, 'fatal': 1664, 'mission': 2870, 'awful': 372, 'avoid': 363, 'attempts': 343, 'be': 418, 'shot': 3949, 'documentary': 1307, 'form': 1798, 'obviously': 3072, 'scripted': 3835, 'parts': 3199, 'fails': 1628, 'not': 3040, 'providing': 3451, 'audience': 352, 'any': 256, 'characters': 760, 'which': 4867, 'create': 1036, 'about': 67, 'finding': 1727, 'real': 3547, 'love': 2669, 'los': 2653, 'angeles': 233, 'nothing': 3047, 'more': 2904, 'an': 223, 'uninteresting': 4660, 'amateur': 206, 'filmmaker': 1719, 'trying': 4601, 'make': 2713, 'first': 1736, 'movie': 2926, 'had': 2003, 'mr': 2929, 'damn': 1100, 'funny': 1852, 'mind': 2849, 'well': 4843, 'known': 2492, 'command': 897, 'over': 3148, 'crowd': 1067, 'timing': 4498, 'star': 4150, 'wars': 4804, 'kill': 2468, 'ya': 4976, 'only': 3110, 'all': 187, 'stand': 4143, 'performers': 3232, 'wit': 4908, 'show': 3953, 'dull': 1384, 'lame': 2510, 'basically': 407, 'off': 3084, 'sorts': 4078, 'various': 4715, 'things': 4451, 'order': 3126, 'animation': 242, 'ugly': 4625, 'hideous': 2098, 'everyones': 1543, 'annoying': 249, 'twins': 4616, 'like': 2599, 'teen': 4388, 'female': 1693, 'from': 1840, 'lab': 2501, 'johnny': 2410, 'almost': 193, 'intelligent': 2314, 'male': 2719, 'secondly': 3847, 'plots': 3310, 'are': 285, 'painfully': 3172, 'making': 2718, 'hard': 2033, 'follow': 1772, 'gags': 1862, 'corny': 997, 'makes': 2716, 'me': 2778, 'feel': 1684, 'compelled': 915, 'laugh': 2529, 'little': 2624, 'bit': 488, 'tries': 4585, 'saw': 3798, 'two': 4620, 'episodes': 1508, 'those': 4460, 'alone': 194, 'turned': 4606, 'third': 4455, 'whole': 4873, 'theme': 4433, 'song': 4071, 'starts': 4159, 'by': 642, 'tune': 4602, 'days': 1130, 'american': 213, 'idiot': 2218, 'while': 4868, 'am': 204, 'fan': 1648, 'band': 391, 'find': 1726, 'dumb': 1385, 'they': 4442, 'would': 4957, 'take': 4349, 'opening': 3114, 'then': 4436, 'change': 749, 'their': 4431, 'own': 3158, 'case': 707, 'point': 3316, 'bore': 540, '10': 0, 'version': 4720, 'sandra': 3782, 'one': 3107, 'woman': 4921, 'broadway': 592, 'pretentious': 3383, 'acts': 107, 'her': 2085, 'sense': 3877, 'irony': 2357, 'interesting': 2325, 'fans': 1650, 'say': 3799, 'shes': 3930, 'honest': 2146, 'may': 2775, 'true': 4596, 'your': 4991, 'face': 1616, 'isnt': 2362, 'suited': 4286, 'genre': 1888, 'she': 3923, 'doesnt': 1309, 'nice': 3008, 'certainly': 738, 'friends': 1837, 'thats': 4425, 'always': 203, 'going': 1931, 'lot': 2661, 'people': 3221, 'wrong': 4973, 'way': 4820, 'even': 1533, 'meet': 2793, 'halfway': 2008, 'material': 2766, 'seriously': 3892, 'lacking': 2504, 'served': 3894, 'executive': 1567, 'producer': 3415, 'though': 4461, 'directed': 1259, 'him': 2110, 'does': 1308, 'style': 4249, 'co': 867, 'wrote': 4974, 'director': 1264, 'touch': 4533, 'having': 2054, 'house': 2178, 'audiences': 353, 'completely': 922, 'bored': 541, 'feeling': 1685, 'viewers': 4739, 'most': 2909, 'likely': 2601, 'share': 3920, 'fine': 1729, 'effort': 1432, 'australian': 357, 'probably': 3407, 'surprising': 4315, 'seeing': 3857, 'there': 4438, 'seems': 3864, 'somewhat': 4068, 'quality': 3484, 'drama': 1346, 'dare': 1113, 'compare': 911, 'brilliance': 582, 'my': 2951, 'reminiscent': 3621, 'early': 1400, 'secret': 3849, 'life': 2592, 'us': 4690, 'great': 1964, 'works': 4945, 'magic': 2703, 'seen': 3865, 'british': 589, 'strong': 4229, 'saving': 3797, 'light': 2595, 'needs': 2990, 'get': 1899, 'another': 250, 'season': 3843, 'wasnt': 4807, 'performance': 3228, 'awesome': 371, 'mini': 2854, 'few': 1700, 'back': 378, 'hal': 2006, 'see': 3855, 'again': 146, 'lets': 2580, 'hope': 2155, 'keeps': 2451, 'each': 1395, 'episode': 1507, 'top': 4525, 'list': 2617, 'favourite': 1673, 'films': 1721, 'fantastic': 1651, 'historically': 2120, 'watch': 4811, 'thought': 4462, 'acting': 99, 'emily': 1456, 'blunt': 520, 'friend': 1835, 'albert': 174, 'best': 469, 'actor': 103, 'chosen': 805, 'costumes': 1006, 'were': 4848, 'gorgeous': 1942, 'settings': 3901, 'scenes': 3811, 'such': 4268, 'opera': 3116, 'amazing': 209, 'detailed': 1218, 'just': 2437, 'loved': 2670, 'childhood': 790, 'getting': 1901, 'where': 4864, 'mother': 2911, 'says': 3801, 'walk': 4775, 'adult': 125, 'writers': 4969, 'done': 1322, 'produced': 3414, 'script': 3834, 'thoroughly': 4459, 'deserves': 1201, 'awards': 367, 'got': 1944, 'oscar': 3133, 'powell': 3358, 'costume': 1005, 'design': 1202, 'hair': 2005, 'achievement': 94, 'art': 304, 'direction': 1261, 'makeup': 2717, 'broadcast': 591, 'critics': 1064, 'nominated': 3025, 'actress': 105, 'period': 3236, 'international': 2326, 'award': 366, 'narrative': 2966, 'what': 4858, 'overall': 3150, 'wins': 4899, '11': 2, 'title': 4504, 'yourself': 4993, 'personally': 3243, 'should': 3951, 'ended': 1470, 'watching': 4815, 'very': 4723, 'long': 2644, 'because': 432, 'fascinated': 1657, 'sheer': 3925, 'stupidity': 4248, 'difficult': 1249, 'believe': 454, 'famous': 1647, 'anthony': 253, 'lawrence': 2539, 'olivier': 3103, 'de': 1131, 'etc': 1527, 'farce': 1654, 'maybe': 2776, '1968': 16, 'naive': 2958, 'plot': 3309, 'written': 4972, 'confused': 941, 'latin': 2527, 'priest': 3392, 'conflict': 939, 'actually': 109, 'guys': 2001, 'communist': 907, 'party': 3200, 'general': 1880, 'secretary': 3850, 'being': 448, 'spiritual': 4116, 'man': 2721, 'suddenly': 4273, 'sees': 3866, 'feels': 1687, 'ease': 1404, 'prisoner': 3402, 'becomes': 434, 'we': 4823, 'allowed': 190, 'process': 3412, 'portrayed': 3342, 'can': 665, 'possibly': 3351, 'imagine': 2238, 'meanwhile': 2785, 'china': 795, 'achieved': 93, 'usual': 4699, 'miracle': 2860, 'half': 2007, 'country': 1014, 'solve': 4060, 'minor': 2857, 'shining': 3933, 'path': 3209, 'towards': 4540, 'start': 4156, 'nuclear': 3057, 'war': 4792, 'western': 4853, 'poor': 3328, 'workers': 4943, 'our': 3139, 'gets': 1900, 'worried': 4949, 'calls': 654, 'before': 440, 'ask': 316, 'peace': 3219, 'chinese': 796, 'leader': 2546, 'looks': 2649, '15': 7, 'year': 4978, 'boy': 557, 'roll': 3728, 'floor': 1759, 'laughing': 2533, 'looked': 2647, 'demands': 1175, 'must': 2950, 'pay': 3216, 'quite': 3495, 'logical': 2639, 'dont': 1324, 'madness': 2698, 'sacrifice': 3766, 'something': 4066, 'common': 906, 'cause': 723, 'social': 4049, 'justice': 2438, 'entire': 1502, 'wealth': 4826, 'catholic': 720, 'church': 813, 'world': 4946, 'wide': 4880, 'feed': 1683, 'christ': 807, 'thus': 4486, 'saves': 3796, 'apart': 264, 'sub': 4252, 'alas': 172, 'provide': 3448, 'incredibly': 2270, 'id': 2212, 'give': 1912, 'three': 4469, 'oscars': 3134, 'unlikely': 4671, 'plausible': 3295, 'failure': 1629, 'bank': 394, 'everyone': 1542, 'walks': 4780, 'writer': 4968, 'whos': 4876, 'books': 536, 'likes': 2602, 'plan': 3287, 'hero': 2088, 'tells': 4397, 'boss': 546, 'spend': 4105, 'rest': 3657, 'deal': 1135, 'money': 2888, 'sleeping': 4025, 'women': 4923, 'manages': 2725, 'do': 1302, 'amount': 219, 'murder': 2939, 'suicide': 4283, 'natural': 2973, 'causes': 725, 'numerous': 3062, 'marriage': 2743, 'politics': 3326, 'jean': 2389, 'louis': 2665, 'likable': 2598, 'appealing': 272, 'definitely': 1162, 'worth': 4953, 'earlier': 1399, 'holy': 2140, 'crap': 1031, 'god': 1926, 'ive': 2372, 'ever': 1538, 'either': 1438, 'soft': 4051, 'age': 148, 'or': 3124, 'sam': 3777, 'ghost': 1902, 'pictures': 3270, 'did': 1241, 'kick': 2460, 'job': 2405, 'cant': 671, 'wait': 4770, 'scared': 3805, 'sitting': 4007, 'dark': 1115, 'theater': 4427, 'wished': 4905, 'someone': 4064, 'anyone': 259, 'next': 3007, 'except': 1556, 'protagonist': 3441, 'myself': 2953, 'swear': 4334, 'jump': 2429, 'expected': 1577, 'felt': 1692, 'care': 684, 'edge': 1418, 'credits': 1050, 'music': 2946, 'scary': 3807, 'keep': 2449, 'thinking': 4453, 'sound': 4081, 'times': 4497, 'cried': 1054, 'oh': 3096, 'scene': 3809, 'yeah': 4977, 'covered': 1023, 'eyes': 1613, 'word': 4937, 'wise': 4903, 'psychotic': 3459, 'hated': 2047, 'event': 1535, 'whoever': 4872, 'sick': 3963, 'psycho': 3457, 'remember': 3616, 'enjoyed': 1486, 'ending': 1471, 'think': 4452, 'nightmares': 3015, 'please': 3304, 'summary': 4290, 'slasher': 4020, 'flick': 1754, 'grew': 1972, 'jason': 2383, 'freddy': 1826, 'spooky': 4128, 'perfect': 3224, 'halloween': 2010, 'trailers': 4555, 'ring': 3698, 'released': 3603, 'expecting': 1578, 'mean': 2779, 'finally': 1724, 'heres': 2087, 'richard': 3686, 'cross': 1066, 'apartment': 265, 'sidney': 3968, 'facing': 1620, 'named': 2961, 'charlie': 765, 'outside': 3146, 'last': 2521, 'night': 3013, 'wife': 4884, 'pace': 3161, 'fish': 1738, 'snake': 4042, 'stunning': 4244, 'close': 853, 'ups': 4686, 'handsome': 2021, 'screen': 3829, 'black': 493, 'broad': 590, 'couldnt': 1008, 'different': 1248, 'story': 4207, 'how': 2181, 'accidentally': 85, 'existence': 1571, 'into': 2332, 'mysteries': 2954, 'ill': 2228, 'go': 1924, 'kind': 2476, 'tale': 4353, 'research': 3644, 'belief': 451, 'theyve': 4446, 'everything': 1544, 'bone': 533, 'dream': 1354, 'parallel': 3185, 'universe': 4666, 'dreams': 1355, 'extremely': 1610, 'without': 4913, 'musical': 2947, 'special': 4097, 'effects': 1431, 'simply': 3986, 'begins': 444, 'reasons': 3560, 'never': 3001, 'entirely': 1503, 'clear': 839, 'theres': 4440, 'problem': 3408, 'extraordinary': 1607, 'die': 1243, 'wave': 4818, 'basic': 406, 'premise': 3370, 'accept': 80, 'granted': 1957, 'fantasy': 1652, 'power': 3359, 'americans': 214, 'indians': 2275, 'whereas': 4865, 'fact': 1621, 'complex': 923, 'satisfying': 3791, 'elegant': 1441, 'beautiful': 428, 'still': 4188, 'attempt': 340, 'ordinary': 3128, 'sometimes': 4067, 'disappointing': 1274, 'physical': 3262, 'convincing': 985, 'ten': 4399, 'theyre': 4445, 'brothers': 599, 'under': 4639, 'skin': 4015, 'taken': 4350, 'important': 2247, 'celebrity': 729, 'peter': 3247, 'industry': 2280, 'mad': 2696, 'max': 2774, 'subtle': 4260, 'dramatic': 1348, 'stuff': 4243, 'resembles': 3646, 'nicholas': 3010, 'pregnant': 3369, 'try': 4600, 'hanging': 2023, 'rock': 3720, 'truly': 4597, 'chilling': 794, 'drop': 1369, 'blood': 512, 'youre': 4992, 'missing': 2869, 'havent': 2053, 'crazy': 1035, 'hilarious': 2106, 'hip': 2114, 'hop': 2154, 'parody': 3192, 'unfortunate': 4653, 'been': 438, 'dvd': 1391, 'everybody': 1540, 'watched': 4813, 'wanted': 4789, 'copy': 994, 'familiar': 1643, 'school': 3813, 'rent': 3626, 'arent': 288, 'video': 4733, 'rental': 3627, 'places': 3284, 'copies': 992, 'happen': 2026, 'come': 886, 'disappointed': 1273, 'comedy': 890, 'enter': 1494, 'dragon': 1344, 'main': 2707, 'character': 758, 'obsessed': 3069, 'bruce': 602, 'lee': 2559, 'size': 4012, 'fighting': 1709, 'causing': 726, 'trouble': 4592, 'fast': 1661, 'paced': 3162, 'impact': 2244, 'white': 4870, 'guy': 2000, 'plays': 3301, 'hurt': 2202, 'kicks': 2463, 'funniest': 1851, 'purely': 3472, 'unintentional': 4658, 'jim': 2402, 'kelly': 2452, 'hired': 2117, 'didnt': 1242, 'hong': 2149, 'kong': 2494, 'guess': 1989, 'enough': 1491, 'fake': 1635, 'hell': 2077, 'movies': 2927, 'fox': 1814, 'although': 201, 'excellent': 1555, 'buying': 641, 'student': 4238, 'credit': 1049, 'card': 681, 'bring': 585, 'da': 1094, 'somehow': 4063, 'sure': 4308, 'since': 3990, 'fond': 1776, 'place': 3282, 'heart': 2064, 'unique': 4662, 'studio': 4240, 'major': 2711, 'simple': 3983, 'executed': 1565, 'returned': 3666, 'spring': 4134, 'mix': 2876, 'comes': 891, 'ghosts': 1903, 'victims': 4730, 'current': 1084, 'takes': 4351, 'business': 633, 'loves': 2674, 'set': 3898, 'primarily': 3393, 'single': 3996, 'poem': 3312, 'regular': 3592, 'feature': 1678, 'dialog': 1232, 'likewise': 2603, 'similar': 3978, 'camera': 659, 'work': 4940, 'travels': 4569, 'forth': 1804, 'door': 1328, 'between': 475, 'innocence': 2293, 'guilt': 1994, 'reminds': 3620, 'object': 3066, 'lesson': 2577, 'normal': 3033, 'horror': 2168, 'piece': 3272, 'history': 2121, 'low': 2676, 'budget': 610, 'mystery': 2956, 'neat': 2982, 'entertained': 1498, 'revenge': 3675, 'matters': 2770, 'holds': 2131, 'attention': 345, 'technical': 4381, 'aspects': 322, 'window': 4894, 'dressing': 1359, 'flaw': 1749, 'production': 3419, 'mood': 2898, 'dry': 1377, 'land': 2511, 'constant': 957, 'okay': 3099, 'minutes': 2859, 'wish': 4904, 'could': 1007, 'else': 1448, 'slightly': 4029, 'less': 2575, 'poverty': 3357, 'terry': 4415, 'twisted': 4618, 'virus': 4752, 'destroying': 1215, 'handful': 2017, 'earth': 1403, 'move': 2921, 'underground': 4640, 'sent': 3880, 'information': 2288, 'highly': 2105, 'willis': 4890, 'sets': 3899, '12': 3, 'monkeys': 2891, 'travel': 4567, 'sci': 3815, 'fi': 1701, 'deals': 1137, 'psychological': 3458, 'knowing': 2490, 'reality': 3551, 'actual': 108, 'goes': 1930, 'past': 3207, 'cannot': 670, 'release': 3602, 'said': 3774, 'stopped': 4202, 'changed': 750, 'already': 197, 'happened': 2027, 'hes': 2093, 'mental': 2808, 'hospital': 2172, 'trite': 4589, 'overdone': 3152, 'save': 3794, 'instead': 2307, 'inner': 2292, 'struggle': 4234, 'survive': 4321, 'himself': 2111, 'fresh': 1833, 'innovative': 2295, 'concept': 930, 'beautifully': 429, 'thanks': 4423, 'peoples': 3222, 'brand': 565, 'besides': 468, 'storytelling': 4209, 'totally': 4532, 'non': 3027, 'told': 4513, 'sequences': 3888, 'flashbacks': 1747, 'memories': 2803, 'present': 3374, 'future': 1856, 'serve': 3893, 'viewer': 4738, 'disturbing': 1300, 'visually': 4758, 'master': 2757, 'shadow': 3912, 'tim': 4494, 'burton': 630, 'scenery': 3810, 'imagery': 2234, 'cold': 872, 'cinematography': 820, 'darkness': 1117, 'often': 3095, 'strangely': 4212, 'dead': 1132, 'help': 2079, 'contrast': 975, 'brad': 560, 'pitt': 3280, 'steals': 4172, 'wall': 4781, 'nomination': 3026, 'gives': 1914, 'career': 686, 'heroic': 2090, 'cardboard': 682, 'portraying': 3343, 'cole': 873, 'poignant': 3315, 'tragic': 4552, 'equally': 1510, 'both': 547, 'wild': 4885, 'energy': 1478, 'strength': 4219, 'weight': 4840, 'false': 1641, 'religion': 3607, 'expert': 1585, 'overwhelming': 3157, 'routine': 3743, 'action': 100, 'compelling': 916, 'vision': 4754, 'futuristic': 1857, 'landscape': 2513, 'rich': 3685, 'storyline': 4208, 'along': 195, 'performances': 3229, 'bleak': 503, 'masterpiece': 2759, 'least': 2554, 'among': 217, '100': 1, 'screenplay': 3831, 'directly': 1263, 'brenda': 575, 'leading': 2547, 'picture': 3269, 'disagree': 1269, 'picks': 3268, 'might': 2835, 'worst': 4952, 'academy': 77, 'writing': 4971, 'horrible': 2163, 'rated': 3527, 'worthy': 4956, 'cable': 644, 'television': 4394, 'channel': 753, 'played': 3297, 'including': 2264, 'hate': 2046, 'person': 3238, 'frankly': 1823, 'generally': 1881, 'seem': 3861, 'worse': 4951, 'scott': 3824, 'vehicle': 4718, 'sweet': 4336, 'sex': 3907, 'added': 116, 'value': 4709, 'former': 1800, 'vegas': 4717, 'chorus': 803, 'girl': 1909, 'surviving': 4323, 'clearly': 840, '50s': 52, '40s': 49, 'buy': 640, 'know': 2489, 'capable': 672, 'doing': 1312, '13': 4, 'journey': 2421, 'daughter': 1121, 'believable': 453, 'deserve': 1199, 'opportunity': 3121, 'drops': 1372, 'ball': 388, 'steps': 4177, 'ready': 3546, 'deliver': 1169, 'shoot': 3942, 'down': 1335, 'taking': 4352, 'advantage': 129, 'open': 3112, 'created': 1037, 'lack': 2502, 'self': 3869, 'apparently': 270, 'understand': 4643, 'promises': 3432, 'allows': 192, 'stay': 4166, 'basis': 408, 'treats': 4575, 'gave': 1875, 'raised': 3508, 'thing': 4450, 'parents': 3188, 'act': 97, 'children': 792, 'treated': 4573, 'hollywood': 2137, 'force': 1786, 'public': 3460, 'stupid': 4247, 'creative': 1041, 'sad': 3767, 'young': 4989, 'dimensional': 1253, 'hed': 2072, 'stayed': 4167, 'older': 3101, 'attractive': 351, 'end': 1468, 'falls': 1640, 'shallow': 3917, 'rather': 3528, 'youth': 4994, 'bland': 500, 'worked': 4941, 'physically': 3263, 'reason': 3557, 'presented': 3376, 'selfish': 3870, 'centered': 733, 'unbelievable': 4634, 'humorous': 2193, 'begin': 442, 'course': 1019, 'flaws': 1752, 'husbands': 2205, 'drinking': 1362, 'herself': 2092, 'afterwards': 145, 'supposedly': 4307, 'regardless': 3590, 'developed': 1223, 'waste': 4808, 'valuable': 4708, 'viewing': 4740, 'unless': 4669, 'proper': 3436, 'youd': 4987, '50': 51, 'kitchen': 2485, 'grab': 1949, 'during': 1387, 'fun': 1848, 'rented': 3628, 'explain': 1586, 'semi': 3874, 'amusing': 221, 'laughs': 2534, 'tried': 4584, 'entertaining': 1499, 'subplot': 4255, 'left': 2561, 'genuinely': 1892, 'usa': 4691, 'favor': 1670, 'alright': 198, 'now': 3054, 'jerk': 2395, 'disaster': 1276, 'question': 3487, 'throw': 4479, 'tell': 4395, 'steve': 4181, 'martin': 2748, 'allow': 189, 'needed': 2988, 'fight': 1707, 'determined': 1221, 'cost': 1003, 'anything': 260, 'knew': 2486, 'sequel': 3885, 'pride': 3391, 'wouldnt': 4958, 'count': 1010, 'embarrassment': 1455, 'carl': 692, 'nations': 2971, 'favorite': 1671, 'family': 1645, 'aka': 168, 'mark': 2739, 'obvious': 3071, 'better': 472, 'involvement': 2347, 'sequels': 3886, 'lone': 2642, 'user': 4696, 'comment': 898, 'satire': 3788, 'spin': 4112, 'stars': 4155, 'lives': 2628, 'wonder': 4926, 'couple': 1016, 'attacked': 338, 'husband': 2204, 'run': 3755, 'exactly': 1551, 'desert': 1198, 'small': 4033, 'town': 4541, 'mountains': 2918, 'nearby': 2980, 'sheriff': 3929, 'personal': 3240, 'doctor': 1304, 'thick': 4447, 'mary': 2751, 'moore': 2901, 'tension': 4404, 'leave': 2555, 'filled': 1715, 'anger': 235, 'stan': 4142, 'somewhere': 4069, 'uk': 4626, 'newspaper': 3006, 'reviews': 3679, 'tend': 4400, 'journalist': 2420, 'whose': 4877, 'experiences': 1582, 'based': 404, 'key': 2458, 'lose': 2654, 'magazine': 2701, 'new': 3003, 'york': 4985, 'proceeds': 3411, 'involves': 2348, 'selling': 3873, 'serious': 3891, 'points': 3319, 'integrity': 2311, 'however': 2183, 'substance': 4258, 'remains': 3611, 'cake': 648, 'meaning': 2780, 'smart': 4035, 'obnoxious': 3067, 'issue': 2364, 'simon': 3982, 'projects': 3428, 'jeff': 2390, 'editor': 1423, 'effectively': 1430, 'regard': 3588, 'miss': 2866, 'sell': 3871, 'plane': 3288, 'ticket': 4487, 'side': 3965, 'given': 1913, 'english': 1483, 'offer': 3087, 'table': 4346, 'anyway': 261, 'soon': 4074, 'sort': 4077, 'become': 433, 'skill': 4013, 'support': 4303, 'variety': 4714, 'bill': 481, 'anderson': 227, 'danny': 1112, 'several': 3905, 'loud': 2664, 'moments': 2887, 'through': 4477, 'appearances': 275, 'need': 2987, 'these': 4441, 'foot': 1781, 'epic': 1506, 'outstanding': 3147, 'explaining': 1588, 'severe': 3906, 'use': 4692, 'managed': 2723, 'artist': 307, 'odds': 3082, 'brilliant': 583, 'win': 4892, 'greatest': 1966, 'directors': 1266, 'nearly': 2981, 'brown': 601, 'household': 2179, 'dr': 1340, 'helps': 2082, 'battle': 414, 'irish': 2353, 'name': 2960, 'wonderful': 4928, 'powerful': 3360, 'crying': 1074, 'father': 1666, 'michael': 2829, 'followed': 1773, 'multiple': 2936, 'won': 4925, 'daniel': 1111, 'day': 1129, 'lewis': 2586, 'brilliantly': 584, 'hugh': 2186, 'silence': 3974, 'proved': 3446, 'majority': 2712, 'opinion': 3118, 'drug': 1373, 'abuse': 74, 'genius': 1887, 'drugs': 1374, 'commercial': 902, 'every': 1539, 'author': 359, 'failed': 1626, 'related': 3594, 'usually': 4700, 'fully': 1847, 'culture': 1079, 'ie': 2221, 'grown': 1984, 'problems': 3409, 'minds': 2852, 'mediocre': 2791, 'space': 4090, 'daily': 1097, 'fairly': 1631, 'went': 4847, 'twice': 4613, 'free': 1827, 'whats': 4860, 'boring': 543, 'behavior': 446, 'challenging': 744, 'figure': 1711, 'boredom': 542, 'state': 4160, 'biggest': 480, 'terms': 4406, 'logic': 2638, 'describes': 1196, 'absolutely': 72, 'quick': 3490, 'colorful': 878, 'clean': 838, 'molly': 2884, 'paul': 3214, 'office': 3091, 'romance': 3732, 'zombies': 4998, 'coming': 896, 'connect': 944, 're': 3535, 'read': 3543, 'sounds': 4084, 'somebody': 4062, 'paid': 3169, 'write': 4967, 'heard': 2062, 'send': 3875, 'shows': 3960, 'network': 3000, 'suits': 4287, 'sexy': 3911, 'cars': 702, 'huge': 2185, 'enjoy': 1484, 'gem': 1877, 'ok': 3098, 'clever': 841, 'means': 2783, 'critic': 1061, 'gonna': 1936, 'stick': 4185, 'sit': 4003, 'themselves': 4435, 'couldve': 1009, 'type': 4621, 'speech': 4102, 'nobody': 3022, 'lonely': 2643, 'hotel': 2175, 'room': 3735, 'words': 4938, 'internet': 2327, 'interest': 2323, 'website': 4834, 'hour': 2176, 'hot': 2174, 'model': 2880, 'whatever': 4859, 'talk': 4358, 'actors': 104, 'appeared': 276, 'anywhere': 263, 'maggie': 2702, 'smith': 4038, 'together': 4511, 'millions': 2848, 'quirky': 3493, 'starring': 4154, 'robert': 3713, 'bob': 524, 'ex': 1549, 'con': 928, 'talented': 4355, 'computer': 927, 'position': 3345, 'goal': 1925, 'smooth': 4041, 'attracted': 349, 'company': 910, 'neighbor': 2992, 'knows': 2493, 'brief': 579, 'throughout': 4478, 'fired': 1735, 'flat': 1748, 'cover': 1022, 'decide': 1148, 'ways': 4822, 'twist': 4617, 'brains': 563, '60s': 54, 'london': 2641, 'hear': 2061, 'twin': 4615, 'sisters': 4002, 'kate': 2446, 'ashley': 313, 'fame': 1642, 'expect': 1575, 'hunter': 2199, 'summer': 4291, 'program': 3424, 'starting': 4158, 'jobs': 2406, 'immediately': 2242, 'working': 4944, 'derek': 1192, 'stone': 4197, 'slowly': 4032, 'prove': 3445, 'useful': 4694, 'fashion': 1659, 'artists': 309, 'stop': 4201, 'leslie': 2574, 'ryan': 3765, 'matt': 2768, 'straight': 4210, 'admire': 121, 'background': 380, 'werent': 4849, 'rubbish': 3748, 'forbidden': 1785, 'planet': 3289, 'represents': 3639, 'science': 3816, 'fiction': 1702, 'precious': 3366, 'cinema': 816, '1950s': 14, 'stood': 4199, 'worlds': 4947, 'forget': 1793, 'took': 4523, 'remarkable': 3613, 'incredible': 2269, 'machine': 2693, 'creates': 1038, 'emphasis': 1463, 'themes': 4434, 'technology': 4385, 'human': 2188, 'nature': 2975, 'surface': 4310, 'standard': 4144, 'acted': 98, 'ship': 3934, 'decades': 1145, 'walter': 4784, 'attack': 337, 'appears': 278, 'impressive': 2253, 'led': 2558, 'report': 3635, 'catch': 714, 'killing': 2472, 'crew': 1053, 'others': 3136, 'eye': 1611, 'put': 3480, 'invisible': 2344, 'easily': 1406, 'shouldnt': 3952, 'happens': 2029, 'fascinating': 1658, 'intellectual': 2312, 'level': 2584, 'ideas': 2215, 'robot': 3717, 'perhaps': 3235, 'unforgettable': 4652, 'image': 2233, 'monster': 2892, 'realized': 3553, 'animated': 241, 'red': 3576, 'villain': 4744, 'speaks': 4096, 'born': 544, 'comic': 893, 'relief': 3605, 'cook': 988, 'provides': 3450, 'sophisticated': 4075, 'nostalgic': 3039, 'pulp': 3465, 'today': 4508, 'ultimately': 4628, 'careful': 688, 'puts': 3481, 'notch': 3043, 'above': 68, 'meant': 2784, 'intentionally': 2320, 'stiff': 4187, 'situation': 4008, 'gradually': 1952, 'faces': 1618, 'inspiration': 2300, 'thoughtful': 4463, 'stories': 4205, 'classic': 835, 'sorry': 4076, 'mistake': 2871, 'line': 2610, 'gary': 1873, 'nightmare': 3014, 'yes': 4982, 'blockbuster': 509, 'late': 2523, 'saturday': 3792, 'fix': 1744, 'wow': 4962, 'scream': 3826, 'delivering': 1171, 'clichéd': 845, 'dialogue': 1234, 'page': 3167, 'gore': 1941, 'excited': 1561, 'poorly': 3329, 'believed': 455, 'worthless': 4954, 'mess': 2818, 'member': 2800, 'displays': 1293, 'talent': 4354, 'whatsoever': 4861, 'chance': 747, 'renting': 3629, 'front': 1841, 'presence': 3373, 'moronic': 2907, 'theaters': 4428, 'used': 4693, 'include': 2261, 'thriller': 4472, 'unfortunately': 4654, 'direct': 1258, 'endure': 1475, 'experience': 1580, 'part': 3193, 'throwing': 4480, 'terrible': 4407, 'leads': 2548, 'porn': 3336, 'mostly': 2910, 'hand': 2015, 'producers': 3416, 'extended': 1604, 'trade': 4547, 'speak': 4094, 'lines': 2612, 'supposed': 4306, 'advance': 127, 'baby': 376, 'harder': 2035, 'ginger': 1908, 'allen': 188, 'group': 1980, 'mom': 2885, 'attempting': 342, 'accent': 78, 'positive': 3346, 'evil': 1548, 'relative': 3599, 'gift': 1906, 'soul': 4079, 'survivors': 4325, 'execution': 1566, 'stephen': 4176, 'directing': 1260, 'away': 369, 'suffice': 4279, 'handled': 2019, 'superior': 4300, 'college': 875, 'boyfriend': 558, 'sean': 3840, 'wes': 4851, 'car': 680, 'accident': 84, 'killers': 2471, 'wreck': 4965, 'disappear': 1270, 'leaving': 2557, 'total': 4531, 'confusion': 943, 'alive': 186, 'body': 527, 'exploitation': 1592, 'killer': 2470, 'victim': 4729, 'repetitive': 3633, 'build': 614, 'suspense': 4330, 'incoherent': 2265, 'near': 2979, 'predictable': 3367, 'pick': 3265, 'building': 615, 'carpenter': 694, 'beyond': 476, 'kudos': 2497, 'showing': 3958, 'central': 735, 'developing': 1224, 'emotion': 1458, 'filmmakers': 1720, 'ends': 1474, 'mixed': 2877, 'bag': 384, 'experiment': 1583, 'suspect': 4327, 'era': 1513, 'recording': 3575, 'fare': 1655, 'west': 4852, 'adventures': 131, 'jr': 2423, 'suffer': 4275, 'witty': 4917, 'ran': 3513, 'bbc': 417, 'values': 4710, 'typically': 4624, 'initially': 2291, 'dear': 1140, 'calling': 653, 'remind': 3618, 'phone': 3255, 'loss': 2659, 'return': 3665, 'saying': 3800, 'anime': 243, 'notable': 3041, 'called': 652, 'eyed': 1612, 'considering': 952, 'taste': 4369, 'trash': 4565, 'fury': 1855, 'motion': 2913, 'fault': 1668, 'plenty': 3307, 'japanese': 2382, 'humor': 2192, 'drawn': 1351, 'hilariously': 2107, 'intended': 2315, 'tender': 4401, 'moment': 2886, 'virtually': 4751, 'impossible': 2249, 'thrown': 4481, 'laughter': 2535, 'cartoon': 704, 'game': 1864, 'pointless': 3318, 'cameo': 657, 'popular': 3333, 'kim': 2475, 'reaches': 3538, 'climax': 849, 'unintentionally': 4659, 'final': 1722, 'engage': 1479, 'combat': 882, 'turn': 4605, 'battles': 415, 'opposed': 3122, 'merely': 2815, 'cartoons': 705, 'portion': 3338, 'answer': 251, 'charm': 767, '3000': 43, 'air': 164, 'laughably': 2531, 'consider': 949, 'wake': 4774, 'realize': 3552, '90': 60, 'bizarre': 492, 'responsible': 3656, 'stinks': 4192, 'possible': 3350, 'prefer': 3368, '2nd': 41, 'considerable': 950, 'degree': 1164, 'comparison': 914, '80': 58, 'mistakes': 2873, 'glad': 1916, 'connection': 946, 'hopefully': 2157, 'amanda': 205, 'suck': 4269, 'wannabe': 4787, 'costs': 1004, 'stage': 4139, 'play': 3296, 'once': 3106, 'douglas': 1334, 'vampires': 4712, 'loose': 2650, 'village': 4743, 'albeit': 173, 'sinister': 3998, 'explanation': 1590, 'facial': 1619, 'expressions': 1603, 'stock': 4193, 'discover': 1279, 'smoking': 4040, 'murderer': 2941, 'fay': 1674, 'score': 3822, 'slight': 4027, 'compared': 912, 'hundreds': 2196, 'detective': 1220, '1930s': 11, 'later': 2525, 'thin': 4449, 'traditional': 4550, 'charles': 764, 'sidekick': 3966, 'found': 1811, 'practically': 3362, 'exceptionally': 1559, 'dog': 1310, 'spends': 4107, 'dogs': 1311, 'super': 4295, 'killed': 2469, 'repeated': 3631, 'doctors': 1305, 'explained': 1587, 'credible': 1048, 'fit': 1740, 'keeping': 2450, 'exceptional': 1558, 'review': 3676, 'giant': 1905, 'spoiler': 4123, 'heroine': 2091, 'murdered': 2940, 'saved': 3795, 'middle': 2833, '80s': 59, 'despite': 1211, 'junk': 2436, 'students': 4239, 'rap': 3520, 'junior': 2435, 'splatter': 4118, 'university': 4667, 'suggest': 4280, 'tape': 4365, 'violence': 4747, 'nudity': 3059, 'sexual': 3908, 'references': 3583, 'week': 4837, 'check': 777, 'site': 4005, 'standing': 4146, 'drivel': 1364, 'hollow': 2135, 'titles': 4506, 'insulting': 2310, 'finale': 1723, 'record': 3573, 'number': 3060, 'absurd': 73, 'graphics': 1959, 'walking': 4779, 'large': 2517, 'hopeless': 2158, 'realistic': 3550, 'violent': 4748, 'extent': 1605, 'mans': 2730, 'breasts': 572, 'aside': 315, 'ladies': 2506, 'involved': 2346, 'hardly': 2036, 'spoilers': 4124, 'whilst': 4869, 'kevin': 2457, 'increasingly': 2268, 'dire': 1257, 'team': 4378, 'hint': 2112, 'terror': 4412, 'complete': 921, 'speed': 4103, 'guns': 1998, 'seconds': 3848, 'happily': 2030, 'lead': 2545, 'humour': 2194, 'reaction': 3541, 'chief': 788, 'pool': 3327, 'failing': 1627, 'badly': 383, 'laid': 2508, 'faster': 1662, 'progresses': 3426, 'disbelief': 1277, 'security': 3854, 'endless': 1473, 'numbers': 3061, 'decision': 1151, 'appearing': 277, 'bomb': 531, 'explosion': 1596, 'burns': 628, 'reaching': 3539, 'heroes': 2089, 'falling': 1639, 'stops': 4203, 'hitting': 2126, 'round': 3742, 'bar': 396, 'lesser': 2576, 'survived': 4322, 'destruction': 1216, 'pop': 3330, 'watches': 4814, 'itself': 2371, 'avoided': 364, 'akshay': 169, 'abraham': 69, 'playing': 3300, 'cool': 989, 'jealous': 2388, 'liking': 2604, 'wants': 4791, 'finds': 1728, 'girls': 1911, 'ralph': 3510, 'bakshi': 386, 'hey': 2095, 'ago': 154, 'racial': 3501, 'admit': 122, 'designs': 1204, 'crude': 1069, 'urban': 4688, 'uncle': 4636, 'blatant': 502, 'cultural': 1078, 'view': 4736, '70s': 56, 'gritty': 1977, 'live': 2625, 'fellow': 1691, 'barry': 401, 'rush': 3759, 'philip': 3252, 'thomas': 4458, 'escape': 1517, 'prison': 3401, 'wind': 4893, 'police': 3322, 'waiting': 4772, 'brother': 598, 'rabbit': 3498, 'city': 825, 'quickly': 3491, 'rule': 3753, 'animal': 239, 'versions': 4721, 'footage': 1782, 'graphic': 1958, 'stereotypes': 4179, 'otherwise': 3137, 'pretend': 3381, 'exist': 1569, 'shame': 3918, 'learn': 2550, 'don': 1320, 'let': 2579, 'enormous': 1490, 'portray': 3340, 'nervous': 2999, 'loser': 2655, 'authority': 360, 'fabulous': 1615, 'roy': 3745, 'kid': 2464, 'friendly': 1836, 'kids': 2467, 'beloved': 461, 'smile': 4036, 'matter': 2769, 'perspective': 3245, 'captures': 678, '1960s': 15, 'modern': 2882, 'buildings': 616, 'surprised': 4313, 'complaint': 920, 'until': 4680, 'youll': 4988, 'hoping': 2160, 'catchy': 717, 'held': 2074, 'cameras': 660, 'liked': 2600, 'patient': 3211, 'unrealistic': 4677, 'citizen': 824, 'kane': 2442, 'european': 1530, 'distracting': 1297, 'desperately': 1209, 'method': 2824, 'filming': 1718, 'blues': 519, 'jazz': 2387, 'marie': 2737, 'sings': 3997, 'street': 4216, 'highlight': 2103, 'savage': 3793, 'exciting': 1563, 'photographer': 3259, 'double': 1331, 'exposure': 1599, 'shots': 3950, 'angles': 237, 'according': 88, 'notes': 3046, 'filmed': 1717, 'reflection': 3585, 'attitudes': 347, 'unusual': 4681, 'available': 361, 'seek': 3858, 'within': 4912, 'tom': 4514, 'letters': 2582, 'theatre': 4429, 'spell': 4104, 'legend': 2564, 'native': 2972, 'sister': 4001, 'food': 1778, 'indian': 2274, 'boys': 559, 'running': 3756, 'turns': 4609, 'wearing': 4831, 'particularly': 3195, 'visit': 4755, 'nazi': 2977, 'recorded': 3574, 'german': 1896, 'operation': 3117, 'jewish': 2401, 'community': 908, 'combined': 885, 'clips': 852, 'anti': 254, 'expression': 1602, 'hatred': 2049, 'frightening': 1839, 'offensive': 3086, 'reach': 3536, 'pulls': 3464, 'cliché': 844, 'funeral': 1849, 'hands': 2020, 'reunion': 3669, 'army': 295, 'singers': 3994, 'ride': 3692, 'clichés': 846, 'jail': 2376, 'carries': 699, 'overlook': 3153, 'simplistic': 3985, 'joan': 2404, 'cute': 1090, 'button': 639, 'ian': 2209, 'living': 2629, 'closing': 859, 'loving': 2675, 'lovers': 2673, 'associated': 327, 'baseball': 403, 'games': 1865, 'onto': 3111, 'field': 1704, 'sports': 4130, 'mature': 2773, 'melodrama': 2797, 'magnificent': 2705, 'stewart': 4184, 'romantic': 3733, 'christmas': 810, 'mid': 2832, 'entertainment': 1500, 'chemistry': 782, 'moving': 2928, 'revelation': 3674, 'private': 3404, 'pain': 3170, 'relationships': 3598, 'legendary': 2565, 'child': 789, '30': 42, 'factory': 1623, 'seat': 3845, 'pushed': 3478, 'latter': 2528, 'moved': 2922, '20th': 38, 'century': 736, 'lacked': 2503, 'jimmy': 2403, 'appearance': 274, 'quote': 3496, 'asking': 318, 'hall': 2009, 'comedies': 889, 'successful': 4266, 'shake': 3914, 'beginning': 443, 'forced': 1787, 'military': 2844, 'training': 4558, 'wedding': 4836, 'laura': 2536, 'drunk': 1375, 'michelle': 2830, 'trashy': 4566, 'search': 3841, 'weak': 4824, 'stealing': 4171, 'arthur': 305, 'sucks': 4271, 'sucked': 4270, 'department': 1182, 'gay': 1876, 'jamie': 2379, 'married': 2744, 'hates': 2048, 'divorce': 1301, 'julie': 2428, 'christian': 808, 'devoted': 1231, 'victor': 4731, 'kicked': 2461, 'block': 508, 'fly': 1763, 'trees': 4577, 'wooden': 4934, 'holes': 2133, 'boot': 538, 'changes': 751, 'drive': 1363, 'blah': 496, 'thinks': 4454, 'comments': 901, 'claim': 828, 'knock': 2488, 'paris': 3189, 'escaped': 1518, 'mst3k': 2932, 'ridiculous': 3693, 'empty': 1465, 'paper': 3183, 'situations': 4009, 'goofy': 1939, 'centers': 734, 'government': 1948, 'agents': 151, 'spy': 4135, 'dad': 1095, 'agent': 150, 'gone': 1935, 'kurt': 2499, 'lost': 2660, 'promising': 3433, 'bare': 398, 'describe': 1194, 'strange': 4211, 'details': 1219, 'mysterious': 2955, 'asian': 314, 'girlfriend': 1910, 'sudden': 4272, 'shut': 3961, 'tough': 4537, 'break': 569, 'existent': 1572, 'rules': 3754, 'whenever': 4863, 'delightful': 1168, 'shines': 3932, 'equipment': 1511, 'eastern': 1408, 'cities': 823, 'able': 66, 'skills': 4014, 'horses': 2171, 'note': 3044, 'dies': 1245, 'indeed': 2271, 'paying': 3217, 'extras': 1608, 'nevertheless': 3002, 'easy': 1410, 'target': 4366, 'mario': 2738, 'lisa': 2616, 'devil': 1228, 'explains': 1589, 'shown': 3959, 'critical': 1062, 'success': 4265, 'gothic': 1945, 'ahead': 159, 'considered': 951, 'mass': 2753, 'decided': 1149, 'seemingly': 3863, 'adding': 117, 'product': 3418, 'technically': 4382, 'slow': 4031, 'ground': 1979, 'huh': 2187, 'continues': 971, 'jumping': 2431, 'visual': 4757, 'grade': 1951, 'rip': 3700, 'shock': 3938, 'miserably': 2864, 'choice': 797, 'destroy': 1213, 'cut': 1089, 'destroyed': 1214, 'toilet': 4512, 'downright': 1337, 'witness': 4914, 'curiosity': 1082, 'sake': 3775, 'plague': 3285, 'pure': 3471, 'elvira': 1450, 'ego': 1435, 'inspiring': 2302, 'captivating': 675, 'brought': 600, 'struggles': 4235, 'attend': 344, 'reading': 3544, 'aunt': 355, 'suffering': 4277, 'teenagers': 4391, 'attraction': 350, 'owner': 3159, 'local': 2634, 'vulnerable': 4768, 'jokes': 2415, 'beat': 423, 'message': 2819, 'giving': 1915, 'wonderfully': 4929, 'countless': 1012, 'tired': 4501, 'unnecessary': 4672, 'unpleasant': 4674, 'sue': 4274, 'joseph': 2419, 'vampire': 4711, 'werewolf': 4850, 'mirror': 2861, 'odd': 3080, 'collection': 874, 'library': 2589, 'realizes': 3554, 'originally': 3131, 'purpose': 3474, 'lasted': 2522, 'wasted': 4809, 'lifetime': 2594, 'confusing': 942, 'wondering': 4930, 'vs': 4767, 'competition': 918, 'proves': 3447, 'painful': 3171, 'burning': 627, 'bed': 436, 'difference': 1246, 'deserved': 1200, 'agree': 155, 'law': 2538, 'came': 656, 'roles': 3727, 'doubt': 1332, 'itll': 2369, 'shell': 3927, 'forgive': 1795, 'dropped': 1370, 'checking': 778, 'margaret': 2735, 'innocent': 2294, 'secretly': 3851, 'content': 966, 'unable': 4631, 'feelings': 1686, 'mentioning': 2812, 'frank': 1821, 'morgan': 2905, 'felix': 1689, 'arrogant': 303, 'william': 4887, 'tracy': 4546, 'shop': 3945, 'recently': 3567, 'youve': 4995, 'mail': 2706, 'hanks': 2025, 'younger': 4990, 'area': 286, 'glass': 1917, 'fire': 1734, 'box': 555, 'showed': 3956, 'kinds': 2478, 'recommended': 3572, 'families': 1644, 'proud': 3444, 'forward': 1808, 'caine': 647, 'angel': 231, 'supporting': 4304, 'hamilton': 2012, 'warm': 4794, 'hearted': 2065, 'discovered': 1280, 'believes': 456, 'cop': 991, 'interested': 2324, 'pity': 3281, 'rex': 3683, 'bothered': 549, 'johnson': 2411, 'tone': 4517, 'cameos': 658, 'unpredictable': 4675, 'vice': 4727, 'none': 3028, 'joke': 2414, 'happening': 2028, 'makers': 2715, 'tomatoes': 4515, 'national': 2970, 'closet': 858, 'switch': 4339, 'channels': 754, 'treat': 4572, 'serial': 3889, 'shower': 3957, 'uneven': 4649, 'david': 1124, 'hopes': 2159, 'home': 2142, 'weeks': 4839, 'broke': 593, 'pieces': 3273, 'heavily': 2069, 'killings': 2473, 'gun': 1996, 'using': 4698, 'identity': 2217, 'book': 535, 'dennis': 1179, 'hopper': 2161, 'jack': 2373, 'nicholson': 3011, 'kidding': 2465, 'historical': 2119, 'excuse': 1564, 'track': 4544, 'typical': 4623, 'lying': 2690, 'maria': 2736, 'jones': 2418, 'delivered': 1170, 'stretch': 4221, 'fair': 1630, 'sounded': 4082, 'italy': 2368, 'wanna': 4786, 'queen': 3485, 'lover': 2672, 'chair': 742, 'leg': 2562, 'tonight': 4519, 'center': 732, 'spoke': 4125, 'ron': 3734, 'theyd': 4443, 'gain': 1863, 'kept': 2456, 'weakest': 4825, 'glimpse': 1919, 'intense': 2316, 'beliefs': 452, 'seemed': 3862, 'teenager': 4390, 'park': 3190, 'surprisingly': 4316, 'adults': 126, 'captured': 677, 'eric': 1514, 'stellar': 4174, 'haunted': 2050, 'tragedy': 4551, 'jumps': 2432, 'knowledge': 2491, 'web': 4833, 'teenage': 4389, 'daughters': 1122, 'sign': 3970, 'forever': 1792, 'relationship': 3597, 'rarely': 3524, 'cringe': 1059, 'mention': 2810, 'hold': 2129, 'magical': 2704, 'powers': 3361, 'mafia': 2700, 'nor': 3032, 'wishing': 4907, 'homage': 2141, 'godfather': 1927, 'hit': 2122, 'develop': 1222, 'et': 1526, 'al': 170, 'versus': 4722, 'folk': 1770, 'son': 4070, 'whether': 4866, 'featured': 1679, 'bother': 548, 'walker': 4778, 'impressed': 2251, 'surprise': 4312, 'bear': 420, 'haunting': 2051, 'approach': 282, 'discussion': 1284, 'questions': 3489, 'task': 4368, '24': 39, 'grace': 1950, 'evening': 1534, 'second': 3846, 'explore': 1594, 'leonard': 2572, 'listening': 2620, 'questionable': 3488, 'cares': 690, 'credibility': 1047, 'talking': 4360, 'props': 3439, 'covers': 1024, 'tunes': 4603, 'unbearable': 4633, 'warn': 4797, 'jessica': 2398, 'simpson': 3987, 'limited': 2606, 'theatrical': 4430, 'ms': 2931, 'rachel': 3500, 'whom': 4875, 'via': 4726, 'ann': 244, 'miller': 2846, 'andy': 230, 'dick': 1239, 'president': 3378, 'larry': 2520, 'strictly': 4223, 'profound': 3423, 'watchable': 4812, 'involving': 2349, 'skip': 4016, 'safe': 3771, 'bet': 470, 'adam': 111, 'seasons': 3844, 'germany': 1898, 'online': 3109, 'dvds': 1392, 'player': 3298, 'brosnan': 597, 'james': 2378, 'bond': 532, 'lots': 2662, 'businessman': 634, 'riveting': 3708, 'davis': 1126, 'appear': 273, 'men': 2805, 'moral': 2902, 'criminal': 1057, 'hire': 2116, 'finish': 1732, 'buried': 624, 'incomprehensible': 2267, 'wolf': 4920, 'headed': 2058, 'bunch': 623, 'missed': 2867, 'nonsense': 3030, 'chase': 769, 'cgi': 740, 'zero': 4996, 'redeeming': 3577, 'qualities': 3483, 'fooled': 1780, 'silly': 3976, 'folks': 1771, 'iron': 2354, 'bang': 393, 'aliens': 184, 'bodies': 526, 'machines': 2694, 'species': 4098, 'winner': 4897, 'disgusting': 1286, 'effective': 1429, 'progress': 3425, 'creature': 1045, 'stomach': 4196, 'turning': 4608, 'praise': 3364, 'earned': 1401, 'cult': 1077, 'classics': 837, 'average': 362, 'defend': 1158, 'dozens': 1339, 'intriguing': 2335, 'dangerous': 1110, 'martial': 2747, 'fulci': 1845, 'combine': 884, 'improve': 2254, 'spot': 4131, 'zombie': 4997, 'quit': 3494, 'ripped': 3701, 'sitcom': 4004, 'memory': 2804, 'captain': 674, 'san': 3780, 'blake': 498, 'independent': 2272, 'uses': 4697, 'commit': 904, 'brain': 562, 'bigger': 479, 'gifted': 1907, 'caught': 722, 'putting': 3482, 'attitude': 346, 'attached': 336, 'resist': 3648, 'control': 977, 'threat': 4467, 'plans': 3292, 'waitress': 4773, 'handed': 2016, 'assistant': 326, 'george': 1893, 'officer': 3092, 'marks': 2742, 'harry': 2039, 'techniques': 4384, 'ed': 1415, 'hunt': 2198, 'edward': 1426, 'moves': 2925, 'element': 1442, 'bits': 490, 'regarding': 3589, 'deaths': 1142, 'sits': 4006, 'grow': 1982, 'rubber': 3747, 'creepy': 1052, 'provided': 3449, 'eaten': 1412, 'certain': 737, 'dislike': 1288, 'italian': 2367, 'demons': 1178, 'iii': 2227, 'assume': 328, 'cash': 709, 'popularity': 3334, 'lie': 2590, 'enjoyment': 1488, 'creep': 1051, 'stays': 4169, 'scares': 3806, 'formula': 1802, 'originality': 3130, 'structure': 4233, 'minimal': 2855, 'conflicts': 940, 'melodramatic': 2798, 'cheese': 780, 'synopsis': 4344, 'literally': 2622, 'funnier': 1850, 'utter': 4701, 'risk': 3704, 'print': 3399, 'full': 1846, 'merits': 2817, 'competent': 917, 'circumstances': 822, 'surely': 4309, 'julia': 2427, 'marry': 2745, 'amounts': 220, 'introduced': 2337, 'development': 1225, 'similarly': 3980, 'investigation': 2343, 'briefly': 580, 'fill': 1714, 'underlying': 4641, 'curse': 1086, 'nick': 3012, 'previous': 3387, 'heads': 2059, 'occurred': 3077, 'cat': 713, 'troubled': 4593, 'shape': 3919, 'kills': 2474, 'neither': 2996, 'bus': 631, 'draw': 1349, 'imitation': 2241, 'barbara': 397, 'seven': 3903, 'eight': 1436, 'images': 2235, 'castle': 712, 'seeking': 3859, 'icon': 2211, 'beauty': 430, 'views': 4742, 'pre': 3365, 'date': 1118, 'forces': 1788, 'la': 2500, 'daring': 1114, 'fall': 1637, 'consequences': 947, 'claire': 831, 'superficial': 4298, 'sixties': 4011, 'factor': 1622, 'todays': 4509, 'cinematic': 818, 'infamous': 2284, '1970s': 17, 'nights': 3016, 'inferior': 2285, 'mike': 2838, 'myers': 2952, 'club': 863, 'comedic': 888, 'lemmon': 2567, 'remotely': 3623, 'engaging': 1481, 'nancy': 2964, 'exception': 1557, 'meets': 2795, 'successfully': 4267, 'unlike': 4670, 'beings': 449, 'ability': 65, 'grim': 1974, 'sympathy': 4343, 'emotional': 1459, 'asks': 319, 'sexually': 3910, 'growing': 1983, 'thankfully': 4422, 'result': 3660, 'depressed': 1187, 'massive': 2756, 'revealed': 3671, 'longer': 2645, 'childrens': 793, 'broken': 594, 'pays': 3218, 'ties': 4490, 'strikes': 4225, 'treatment': 4574, 'beating': 425, 'receives': 3565, 'reveal': 3670, 'fate': 1665, 'domestic': 1318, 'emotions': 1461, 'furthermore': 1854, 'sensitive': 3879, 'defined': 1160, 'gratuitous': 1961, 'exercise': 1568, 'hype': 2207, 'depiction': 1185, 'accurate': 90, 'atmospheric': 334, 'gripping': 1976, 'metal': 2823, 'packed': 3166, 'suppose': 4305, 'choose': 799, 'concerning': 933, 'theory': 4437, 'murderous': 2942, 'cd': 728, 'below': 462, 'recognition': 3568, 'canada': 666, 'passed': 3202, 'ireland': 2352, 'north': 3036, 'wood': 4933, 'frame': 1815, 'naked': 2959, 'mile': 2842, 'cannibal': 669, 'eat': 1411, 'heck': 2071, 'howard': 2182, 'fell': 1690, 'link': 2613, 'pathetic': 3210, 'honor': 2150, 'nude': 3058, 'core': 995, 'theyll': 4444, 'dialogs': 1233, 'adapted': 114, 'blonde': 511, 'pleasure': 3306, 'ears': 1402, 'thumbs': 4485, 'productions': 3420, 'nowadays': 3055, 'un': 4630, 'alice': 182, 'monkey': 2890, 'prize': 3405, 'winning': 4898, 'novel': 3052, 'mainly': 2708, 'post': 3352, 'legal': 2563, 'gray': 1963, 'crimes': 1056, 'appeal': 271, 'attorney': 348, 'gross': 1978, 'decent': 1147, 'prostitute': 3440, 'cops': 993, 'thrill': 4471, 'driving': 1368, 'behind': 447, 'crappy': 1032, 'raise': 3507, 'throws': 4482, 'lake': 2509, 'frustration': 1843, 'downhill': 1336, 'urge': 4689, 'patrick': 3213, 'lust': 2689, 'passion': 3205, 'enemy': 1477, 'brings': 587, 'guessing': 1991, 'thrills': 4475, 'contest': 967, 'songs': 4072, 'overrated': 3156, 'eddie': 1416, 'hudson': 2184, 'album': 175, 'bin': 483, 'warning': 4800, 'doll': 1313, 'flying': 1764, 'jesus': 2399, 'tight': 4492, 'suit': 4284, 'horrid': 2165, 'dating': 1120, 'dated': 1119, 'helen': 2075, 'raw': 3532, 'perfectly': 3226, 'talks': 4361, 'steven': 4182, 'shocking': 3940, 'anymore': 258, 'gory': 1943, 'clint': 850, 'arrives': 302, 'news': 3005, 'reputation': 3640, 'fear': 1676, 'meeting': 2794, 'chooses': 800, 'rid': 3690, 'elements': 1443, 'forgotten': 1797, 'entry': 1504, 'hasnt': 2044, 'pleasantly': 3303, 'enjoyable': 1485, 'thru': 4483, 'menace': 2806, 'heston': 2094, 'sequence': 3887, 'shadows': 3913, 'staring': 4152, 'solely': 4056, 'ted': 4386, 'villains': 4745, 'sadly': 3769, 'alex': 179, 'wilson': 4891, 'surprises': 4314, '75': 57, 'call': 651, 'irritating': 2359, 'hints': 2113, 'cube': 1076, 'roots': 3738, 'deep': 1154, 'cheesy': 781, 'importantly': 2248, 'monsters': 2893, 'honestly': 2147, 'atmosphere': 333, 'serving': 3897, 'alcoholic': 177, 'gentle': 1890, 'spoken': 4126, 'focusing': 1769, 'quiet': 3492, 'henry': 2084, 'king': 2479, 'shooting': 3943, 'absolute': 71, 'harsh': 2040, 'robinson': 3716, 'mouse': 2919, 'range': 3516, 'six': 4010, 'countryside': 1015, 'countries': 1013, 'perry': 3237, 'concert': 935, 'india': 2273, 'williams': 4888, 'davies': 1125, 'jungle': 2434, 'vague': 4705, 'colonel': 876, 'reynolds': 3684, 'donald': 1321, 'rogers': 3725, 'piano': 3264, 'singer': 3993, 'christopher': 811, 'mitchell': 2875, 'kenneth': 2455, 'faithful': 1634, 'eg': 1434, 'affair': 135, 'catching': 716, 'due': 1382, 'vast': 4716, 'racist': 3503, 'slightest': 4028, 'offended': 3085, 'agreed': 156, 'road': 3709, 'swedish': 4335, 'sexuality': 3909, 'became': 431, 'focus': 1766, 'ludicrous': 2685, 'dan': 1102, 'advice': 133, 'cup': 1080, 'tea': 4373, 'mill': 2845, 'suffers': 4278, 'documentaries': 1306, 'sides': 3967, 'detail': 1217, 'partly': 3197, 'shed': 3924, 'upper': 4685, 'classes': 834, 'lower': 2677, 'evident': 1547, 'possibility': 3349, 'pot': 3354, 'honesty': 2148, 'hammer': 2014, 'americas': 215, 'depth': 1190, 'ken': 2453, 'ancient': 225, 'generation': 1883, 'reflect': 3584, 'media': 2789, 'political': 3324, 'medium': 2792, 'hbo': 2055, 'gas': 1874, 'crisis': 1060, 'flicks': 1755, 'pursuit': 3476, 'class': 833, 'van': 4713, 'driven': 1365, 'sin': 3988, 'ambitious': 211, 'shy': 3962, 'talents': 4356, 'belong': 459, 'stolen': 4195, 'carried': 698, 'twists': 4619, 'heavy': 2070, 'chris': 806, 'features': 1680, 'weekend': 4838, 'aid': 160, '1980s': 21, 'freeman': 1829, 'constantly': 958, 'awkward': 374, 'flop': 1760, 'expectations': 1576, 'spots': 4132, 'soundtrack': 4085, 'twenty': 4612, '16': 8, 'instance': 2304, 'ah': 158, 'threatening': 4468, 'pleasant': 3302, 'trick': 4582, 'letter': 2581, 'boom': 537, 'barely': 399, 'wing': 4896, 'service': 3896, 'vietnam': 4735, 'resolution': 3649, 'jenny': 2393, 'choices': 798, '45': 50, 'price': 3389, 'spirits': 4115, 'cary': 706, 'grant': 1956, '30s': 44, 'warren': 4801, 'heaven': 2068, 'remake': 3612, 'supernatural': 4302, 'creatures': 1046, 'angels': 234, 'debut': 1143, 'eva': 1531, 'parker': 3191, 'bell': 458, 'described': 1195, 'setting': 3900, 'naturally': 2974, 'introduces': 2338, 'flawed': 1750, 'eventually': 1537, 'norman': 3035, 'alan': 171, 'editing': 1421, 'subplots': 4256, 'nowhere': 3056, 'chick': 786, 'shocked': 3939, 'lesbian': 2573, 'four': 1812, 'lighting': 2596, 'rebel': 3561, 'blond': 510, 'buddy': 609, 'ages': 152, 'carter': 703, 'crash': 1033, 'talked': 4359, 'june': 2433, 'apes': 267, 'flesh': 1753, 'unhappy': 4656, 'french': 1830, 'suggests': 4282, 'court': 1020, 'offers': 3090, 'unknown': 4668, 'lord': 2652, 'sir': 4000, 'pilot': 3276, 'judge': 2424, 'happy': 2032, 'dinosaurs': 1256, 'bullets': 621, 'laws': 2540, 'challenge': 743, 'hunters': 2200, 'animals': 240, 'noise': 3024, 'wound': 4960, 'bears': 421, 'charge': 761, 'wounded': 4961, 'weve': 4856, 'desperation': 1210, 'larger': 2519, 'hunting': 2201, 'counter': 1011, 'museum': 2945, 'carrying': 701, 'neck': 2985, 'smaller': 4034, 'mexican': 2826, 'pair': 3176, 'hearts': 2066, 'fed': 1682, 'letting': 2583, 'sticks': 4186, 'soldiers': 4054, 'dinosaur': 1255, 'lay': 2542, 'trap': 4563, 'defeat': 1157, 'hide': 2097, 'manage': 2722, 'runs': 3757, 'toward': 4539, 'steel': 4173, 'pile': 3275, 'trust': 4598, 'streisand': 4218, 'directs': 1267, 'education': 1424, 'believing': 457, 'favorites': 1672, 'bull': 619, 'assault': 324, 'tony': 4521, 'montana': 2895, 'imagination': 2236, 'fits': 1741, 'train': 4556, 'orders': 3127, 'react': 3540, 'examples': 1554, 'handle': 2018, 'demon': 1177, 'spirit': 4113, 'attacks': 339, 'cared': 685, 'dying': 1393, 'random': 3514, 'hung': 2197, 'response': 3654, 'closest': 857, 'mild': 2839, 'pulled': 3462, 'adaptation': 113, 'chan': 746, 'cutting': 1092, 'duke': 1383, 'aint': 163, 'featuring': 1681, 'topless': 4527, 'code': 869, 'stereotypical': 4180, 'lucy': 2684, 'argument': 291, 'context': 968, 'issues': 2365, 'faced': 1617, 'speaking': 4095, 'buffs': 612, 'sun': 4292, 'involve': 2345, 'dealing': 1136, 'everyday': 1541, 'teens': 4392, 'recommend': 3571, 'heights': 2073, 'section': 3853, 'brooklyn': 595, 'closed': 854, 'separate': 3883, 'excessive': 1560, 'delivers': 1172, 'portrait': 3339, 'washington': 4806, 'anna': 245, 'jackie': 2374, 'gordon': 1940, 'professional': 3421, 'amateurish': 207, 'forgot': 1796, 'learned': 2551, 'spite': 4117, 'scale': 3802, 'dress': 1357, 'becoming': 435, 'bedroom': 437, 'lies': 2591, 'neighborhood': 2993, 'receive': 3563, 'afraid': 140, 'learns': 2553, 'committed': 905, 'winds': 4895, 'decides': 1150, 'identify': 2216, 'negative': 2991, 'emotionally': 1460, 'refuses': 3587, 'bourne': 554, 'breathtaking': 574, 'superb': 4296, 'criminals': 1058, 'reference': 3582, 'outrageous': 3145, 'rights': 3697, 'necessary': 2984, 'latest': 2526, '2004': 34, 'united': 4664, 'significant': 3972, 'description': 1197, 'breath': 573, 'utterly': 4702, 'suspenseful': 4331, 'pull': 3461, 'tiresome': 4502, 'videos': 4734, 'oliver': 3102, 'woods': 4935, '1990': 24, 'decade': 1144, 'damon': 1101, 'inevitable': 2282, 'cia': 814, 'marvelous': 2750, 'nasty': 2968, 'official': 3094, 'illegal': 2229, 'prisoners': 3403, 'brutal': 603, 'combination': 883, 'results': 3662, 'silent': 3975, 'blank': 501, 'miles': 2843, 'stretched': 4222, 'arrive': 300, 'location': 2635, 'effect': 1428, 'superhero': 4299, 'facts': 1624, 'sappy': 3784, 'appreciate': 279, 'clumsy': 866, 'kings': 2481, 'genuine': 1891, 'concern': 931, 'aired': 165, 'impression': 2252, 'descent': 1193, 'batman': 413, 'robin': 3715, 'ass': 323, 'jet': 2400, 'li': 2587, 'butt': 638, 'ninja': 3018, 'match': 2762, 'kung': 2498, 'fu': 1844, 'embarrassing': 1454, 'depressing': 1188, 'strongly': 4231, 'advise': 134, 'project': 3427, 'island': 2361, 'movements': 2924, 'flow': 1762, 'proof': 3434, 'desperate': 1208, 'prepared': 3371, 'dreadful': 1353, 'ashamed': 312, 'willing': 4889, 'scientist': 3818, 'demented': 1176, 'clown': 862, 'advanced': 128, 'system': 4345, 'revolutionary': 3681, 'device': 1227, 'silver': 3977, 'personality': 3242, 'experiments': 1584, 'carry': 700, 'subjects': 4254, 'inevitably': 2283, 'bargain': 400, 'basement': 405, 'devoid': 1230, 'convinced': 984, 'rescue': 3643, 'manner': 2729, 'justin': 2440, 'birth': 486, 'lion': 2614, 'remote': 3622, 'carrey': 696, 'died': 1244, 'sends': 3876, 'laughed': 2532, 'sentimental': 3882, 'liners': 2611, 'leaves': 2556, 'sandler': 3781, 'thank': 4421, 'catherine': 719, 'existed': 1570, 'roberts': 3714, 'trailer': 4554, 'complain': 919, 'rendition': 3625, 'improvement': 2256, 'guard': 1988, 'charming': 768, 'underrated': 4642, 'text': 4419, 'tied': 4489, 'designed': 1203, 'elizabeth': 1445, 'ward': 4793, 'remembered': 3617, 'encounters': 1467, 'met': 2822, 'sword': 4340, '90s': 61, 'types': 4622, 'canadian': 667, 'capture': 676, 'soviet': 4089, 'staying': 4168, 'statement': 4162, 'lovely': 2671, 'brave': 567, 'banned': 395, 'nation': 2969, 'revolution': 3680, 'stronger': 4230, 'trek': 4578, 'bloody': 513, 'ruined': 3751, 'opened': 3113, 'refreshing': 3586, 'dracula': 1341, 'tradition': 4549, 'lowest': 2678, 'hitler': 2124, 'sleep': 4024, 'station': 4164, 'testament': 4417, 'nyc': 3065, 'inside': 2297, 'subject': 4253, 'row': 3744, 'subsequent': 4257, 'unsettling': 4679, 'landing': 2512, 'sight': 3969, 'tear': 4379, 'minute': 2858, 'hoped': 2156, 'started': 4157, 'edited': 1420, 'clue': 864, 'storm': 4206, 'claims': 830, 'boat': 523, 'experienced': 1581, 'dramas': 1347, 'presentation': 3375, 'unbelievably': 4635, 'uninspired': 4657, 'jumped': 2430, 'walked': 4776, 'portrayal': 3341, 'hours': 2177, 'poetry': 3314, 'cusack': 1088, 'engaged': 1480, 'feet': 1688, 'joy': 2422, 'actions': 101, 'blind': 506, 'criticism': 1063, 'cynical': 1093, 'princess': 3397, 'bride': 577, 'faith': 1633, 'society': 4050, 'goldberg': 1933, 'glover': 1923, 'painting': 3175, 'five': 1743, 'following': 1774, 'trial': 4580, 'listen': 2619, 'mine': 2853, 'received': 3564, 'needless': 2989, 'follows': 1775, 'realism': 3549, 'essential': 1522, 'allowing': 191, 'provoking': 3452, 'achieve': 92, 'outer': 3143, 'agrees': 157, 'aged': 149, 'friday': 1834, '13th': 5, 'bottom': 551, 'candy': 668, 'imagined': 2239, 'eager': 1396, 'reminded': 3619, 'soap': 4047, 'players': 3299, 'cuts': 1091, 'disappoint': 1272, 'pie': 3271, 'express': 1600, 'atrocious': 335, 'acid': 95, 'introduction': 2339, 'million': 2847, 'drives': 1367, 'language': 2516, 'gangster': 1868, 'motives': 2916, 'fetched': 1698, 'worn': 4948, 'potential': 3355, 'judging': 2425, 'solid': 4057, 'ruin': 3750, 'armed': 293, 'samurai': 3779, 'pearl': 3220, 'japan': 2381, 'balls': 390, 'helicopter': 2076, '25': 40, 'thousands': 4466, 'damage': 1099, 'planned': 3290, 'rape': 3521, 'lyrics': 2692, 'transfer': 4559, 'truth': 4599, 'dinner': 1254, 'reached': 3537, 'events': 1536, 'screams': 3828, 'aimed': 162, 'account': 89, 'addition': 118, 'coherent': 871, 'bought': 552, '2005': 35, 'soldier': 4053, 'understated': 4646, 'telling': 4396, 'comedian': 887, 'dickens': 1240, 'cry': 1073, 'similarities': 3979, 'relate': 3593, 'happiness': 2031, 'wisdom': 4902, 'retarded': 3663, 'intelligence': 2313, 'equal': 1509, 'persons': 3244, 'humanity': 2189, 'gotten': 1947, 'concerns': 934, 'trip': 4588, 'eating': 1413, 'lol': 2640, 'rate': 3526, 'morning': 2906, 'camp': 662, 'gotta': 1946, 'actresses': 106, 'plant': 3293, 'seventies': 3904, 'plain': 3286, '3d': 46, 'instantly': 2306, 'creating': 1039, 'touched': 4534, 'walls': 4783, 'returns': 3668, 'bathroom': 412, 'importance': 2246, 'fathers': 1667, 'mentally': 2809, 'souls': 4080, 'loses': 2657, 'tricks': 4583, 'touching': 4536, 'flight': 1757, 'seagal': 3839, 'bollywood': 530, 'corner': 996, 'wear': 4830, 'hits': 2125, 'ray': 3533, 'homer': 2144, 'step': 4175, 'therefore': 4439, 'adams': 112, 'understood': 4647, 'depicted': 1183, 'merit': 2816, 'length': 2569, 'join': 2412, 'rolling': 3730, 'translation': 4562, 'included': 2262, 'hidden': 2096, 'blue': 518, 'loads': 2633, 'dialogues': 1235, 'amongst': 218, 'disappointment': 1275, 'accompanied': 86, 'corporate': 998, 'lately': 2524, 'oddly': 3081, 'uncomfortable': 4637, 'ruth': 3763, 'kirk': 2482, 'commented': 900, 'teachers': 4376, 'st': 4137, 'rare': 3523, 'cases': 708, 'race': 3499, 'potentially': 3356, 'smiling': 4037, 'illogical': 2231, 'virginia': 4750, 'listed': 2618, 'month': 2896, 'remarkably': 3614, 'practice': 3363, 'civil': 826, 'anne': 246, 'catches': 715, 'contract': 973, 'worker': 4942, 'higher': 2101, 'learning': 2552, 'african': 142, 'intrigued': 2334, 'racism': 3502, 'rural': 3758, 'dealt': 1138, 'artistic': 308, 'midnight': 2834, 'cowboy': 1025, 'friendship': 1838, 'deeply': 1156, 'passing': 3204, 'thoughts': 4464, 'fears': 1677, 'joe': 2407, 'florida': 1761, 'destiny': 1212, 'disease': 1285, 'aspect': 321, 'test': 4416, 'cliff': 847, 'der': 1191, 'propaganda': 3435, 'rat': 3525, 'rats': 3531, 'adds': 119, 'treasure': 4571, 'aforementioned': 139, 'apparent': 269, 'viewings': 4741, 'offering': 3089, 'hence': 2083, 'insight': 2298, 'depicting': 1184, 'slaughter': 4021, 'gruesome': 1986, 'contrary': 974, 'intent': 2318, 'prevent': 3385, 'california': 650, 'eerie': 1427, 'terrifying': 4410, 'sounding': 4083, 'em': 1452, 'promise': 3430, 'hill': 2108, 'arts': 310, 'picked': 3266, 'taught': 4370, 'fallen': 1638, 'shoots': 3944, 'endings': 1472, 'butler': 637, 'weapon': 4828, 'river': 3707, 'rain': 3506, 'regret': 3591, 'weird': 4841, 'contemporary': 965, 'stylish': 4251, 'casting': 711, 'disneys': 1290, 'morris': 2908, 'league': 2549, '1999': 27, '35': 45, 'opens': 3115, 'locations': 2636, 'football': 1783, 'texas': 4418, 'segment': 3867, 'coach': 868, 'teacher': 4375, 'attempted': 341, 'struggling': 4236, 'bay': 416, 'threw': 4470, 'offered': 3088, 'comfortable': 892, 'spending': 4106, 'months': 2897, 'signs': 3973, 'chances': 748, 'pulling': 3463, 'levels': 2585, 'timeless': 4496, 'holding': 2130, 'distant': 1295, 'closer': 856, 'presumably': 3380, '14': 6, 'initial': 2290, 'titled': 4505, 'triumph': 4590, 'matthau': 2771, 'matched': 2763, 'sharp': 3922, 'purchased': 3470, 'nail': 2957, 'wondered': 4927, 'lucas': 2680, 'temple': 4398, 'buck': 605, 'zone': 4999, 'satan': 3787, 'religious': 3608, 'alternate': 200, 'scenario': 3808, 'previously': 3388, 'clark': 832, 'insane': 2296, 'phantom': 3251, 'admittedly': 123, 'fictional': 1703, 'portrays': 3344, 'mouth': 2920, 'march': 2734, 'fighter': 1708, 'absence': 70, 'glory': 1922, 'required': 3641, 'guts': 1999, 'ourselves': 3140, 'resemblance': 3645, 'recent': 3566, 'france': 1816, 'greater': 1965, 'disney': 1289, 'mgm': 2828, 'prime': 3395, 'rising': 3703, 'backgrounds': 381, 'began': 441, 'mainstream': 2709, 'lousy': 2667, 'figures': 1713, 'colors': 879, 'slap': 4018, 'ignore': 2224, 'vacation': 4704, 'voice': 4761, 'behave': 445, 'noir': 3023, 'scare': 3803, 'rooms': 3736, 'enjoying': 1487, 'built': 618, 'grows': 1985, 'homosexual': 2145, 'drag': 1342, 'audio': 354, 'tag': 4348, 'cage': 645, 'cleverly': 842, 'burned': 626, 'contact': 961, 'sentence': 3881, 'upon': 4684, 'alien': 183, 'minded': 2850, 'blob': 507, 'luck': 2681, 'stands': 4147, 'distance': 1294, 'circle': 821, 'sadness': 3770, 'lady': 2507, 'serves': 3895, 'messages': 2820, 'ultra': 4629, 'medical': 2790, 'hello': 2078, 'standards': 4145, 'europe': 1529, 'morality': 2903, 'timothy': 4499, 'cinderella': 815, '1st': 28, 'comical': 894, 'blame': 499, 'dancing': 1107, 'teach': 4374, 'annie': 247, 'tedious': 4387, 'amy': 222, 'incompetent': 2266, 'writes': 4970, 'nose': 3037, 'inappropriate': 2259, '40': 48, 'rotten': 3740, 'terribly': 4408, 'civilization': 827, 'recognized': 3570, 'finished': 1733, 'bringing': 586, 'opposite': 3123, 'shelley': 3928, 'winters': 4901, 'orson': 3132, 'welles': 4844, 'equivalent': 1512, 'jonathan': 2417, 'danes': 1108, 'accepted': 82, 'airport': 167, 'arrested': 298, 'thirty': 4456, 'decisions': 1152, 'intentions': 2321, 'sarah': 3785, 'dentist': 1180, 'dolls': 1316, 'cheating': 776, 'sunshine': 4294, 'rushed': 3760, 'frustrated': 1842, 'westerns': 4854, 'gang': 1867, 'conventional': 979, 'weapons': 4829, 'hadnt': 2004, 'horrors': 2169, 'francis': 1818, 'construction': 960, 'obsession': 3070, 'wonders': 4931, 'artificial': 306, 'festival': 1697, 'normally': 3034, 'juvenile': 2441, 'horribly': 2164, 'dance': 1103, 'conclusion': 936, 'angry': 238, 'prior': 3400, 'measure': 2786, 'thugs': 4484, 'cruise': 1071, 'lawyer': 2541, 'narration': 2965, 'proceedings': 3410, 'realizing': 3555, 'comparing': 913, 'fred': 1825, 'stanwyck': 4149, 'replaced': 3634, 'areas': 287, 'terrific': 4409, 'houses': 2180, 'superbly': 4297, 'conceived': 929, 'amazingly': 210, 'hysterical': 2208, 'partner': 3198, 'restaurant': 3658, 'airplane': 166, 'bonus': 534, 'yesterday': 4983, 'screening': 3830, 'advertising': 132, 'entertain': 1497, 'bath': 411, 'displayed': 1292, 'exact': 1550, 'kidnapped': 2466, 'murders': 2943, 'lacks': 2505, 'dubbed': 1379, 'clothes': 860, 'inane': 2258, 'preview': 3386, 'prom': 3429, 'escapes': 1519, 'memorable': 2802, 'pg': 3250, 'throat': 4476, 'knife': 2487, 'pops': 3332, 'encounter': 1466, 'rick': 3689, 'diane': 1238, 'eve': 1532, 'jake': 2377, 'richardson': 3688, 'resources': 3651, 'snl': 4044, 'essentially': 1523, 'jerry': 2396, 'suitable': 4285, 'presents': 3377, 'sky': 4017, 'base': 402, 'blown': 516, 'trained': 4557, 'helping': 2081, 'navy': 2976, 'develops': 1226, 'nicely': 3009, 'shine': 3931, 'consistent': 953, 'contain': 962, 'dude': 1381, 'godzilla': 1929, 'ape': 266, 'stuck': 4237, 'environment': 1505, 'term': 4405, 'greed': 1968, 'relevant': 3604, 'mummy': 2937, 'figured': 1712, 'walken': 4777, 'relatives': 3601, 'connected': 945, 'grandmother': 1955, 'motivation': 2914, 'locked': 2637, 'witch': 4909, 'drink': 1361, 'twelve': 4611, 'ingredients': 2289, 'bridge': 578, 'mexico': 2827, 'corpse': 999, 'denzel': 1181, 'subtitles': 4259, 'corrupt': 1001, 'wells': 4845, 'narrator': 2967, 'cousin': 1021, 'closely': 855, 'pal': 3177, 'streets': 4217, 'horse': 2170, 'afford': 138, 'fields': 1705, 'heat': 2067, 'highlights': 2104, 'literature': 2623, 'sloppy': 4030, 'pass': 3201, 'warned': 4798, 'invasion': 2340, 'spielberg': 4110, '2007': 37, 'torture': 4529, 'spoiled': 4122, 'respect': 3652, 'blend': 504, 'abysmal': 76, 'opportunities': 3120, 'cabin': 643, 'fever': 1699, 'water': 4816, 'screaming': 3827, 'tree': 4576, 'niro': 3019, 'francisco': 1819, 'ellen': 1446, 'del': 1165, 'cameron': 661, 'titanic': 4503, 'germans': 1897, 'von': 4765, 'vaguely': 4706, 'commentary': 899, 'analysis': 224, 'bacall': 377, 'dorothy': 1330, 'symbolism': 4341, 'sleazy': 4023, 'inspired': 2301, 'sympathetic': 4342, 'currently': 1085, 'controversial': 978, 'notice': 3048, 'pro': 3406, 'notorious': 3051, 'pig': 3274, 'devils': 1229, 'widely': 4881, 'stinker': 4191, 'status': 4165, 'tortured': 4530, 'enjoys': 1489, 'calm': 655, 'sole': 4055, 'desire': 1205, 'fbi': 1675, 'america': 212, 'afternoon': 144, 'berlin': 467, 'forest': 1791, 'loaded': 2632, 'spanish': 4092, 'farm': 1656, 'jennifer': 2392, 'pack': 3165, 'punch': 3466, 'individual': 2277, 'press': 3379, 'lucky': 2683, 'digital': 1251, 'photography': 3260, 'lit': 2621, 'saga': 3773, 'solo': 4058, 'empire': 1464, 'pit': 3278, 'luke': 2687, 'tremendous': 4579, 'showdown': 3955, 'curious': 1083, 'opinions': 3119, 'bible': 477, 'virgin': 4749, 'enemies': 1476, 'yelling': 4980, 'pseudo': 3454, 'christians': 809, 'anybody': 257, 'valley': 4707, 'ford': 1789, 'wanting': 4790, 'parent': 3187, 'strike': 4224, '17': 9, 'lessons': 2578, 'awake': 365, 'sneak': 4043, 'awfully': 373, 'tense': 4403, 'occur': 3076, 'formulaic': 1803, 'insult': 2309, 'rangers': 3517, 'voices': 4763, 'groups': 1981, 'asked': 317, 'ironic': 2355, 'differences': 1247, 'greatly': 1967, 'slave': 4022, 'sons': 4073, 'freedom': 1828, 'emma': 1457, 'wives': 4918, 'till': 4493, 'mere': 2814, 'novels': 3053, 'garden': 1872, 'revolves': 3682, 'ridden': 3691, 'excitement': 1562, 'adventure': 130, 'source': 4086, 'rings': 3699, 'trilogy': 4586, 'fitting': 1742, 'terrorist': 4413, 'guilty': 1995, 'hole': 2132, 'bullet': 620, 'taxi': 4371, 'inspector': 2299, 'surrounded': 4318, 'includes': 2263, 'lena': 2568, 'fail': 1625, 'yellow': 4981, 'aware': 368, 'bergman': 466, 'placed': 3283, 'ad': 110, 'authentic': 358, 'jackson': 2375, 'wandering': 4785, 'deeper': 1155, 'discuss': 1283, 'chose': 804, 'reads': 3545, 'traveling': 4568, 'radio': 3504, 'hurts': 2203, 'helped': 2080, 'wasting': 4810, 'exaggerated': 1552, 'cinematographer': 819, 'unwatchable': 4682, 'thrillers': 4473, 'humans': 2190, 'appreciation': 281, 'undoubtedly': 4648, 'occasion': 3073, 'fights': 1710, 'resident': 3647, 'boxing': 556, 'continue': 969, 'states': 4163, 'crush': 1072, 'bush': 632, 'wrestling': 4966, 'trademark': 4548, 'ocean': 3079, 'sea': 3838, 'capital': 673, 'easier': 1405, 'bettie': 473, 'bound': 553, 'consists': 955, 'pages': 3168, 'per': 3223, 'companion': 909, 'understanding': 4645, 'guarantee': 1987, 'warrior': 4802, 'warriors': 4803, 'claimed': 829, 'remaining': 3610, 'breaking': 570, 'correct': 1000, 'painted': 3174, 'south': 4087, 'africa': 141, 'names': 2963, 'carradine': 695, 'mansion': 2731, 'demand': 1174, 'aging': 153, 'useless': 4695, 'educational': 1425, 'suffered': 4276, 'pamela': 3179, 'plastic': 3294, 'sat': 3786, 'settle': 3902, 'richards': 3687, 'newly': 3004, 'arrived': 301, 'tie': 4488, 'nostalgia': 3038, 'bitter': 491, 'vivid': 4760, 'sid': 3964, 'hearing': 2063, 'landscapes': 2514, 'franco': 1820, 'sing': 3992, 'screens': 3832, 'visuals': 4759, 'picking': 3267, 'performing': 3233, 'fx': 1858, 'instinct': 2308, 'meat': 2787, 'neil': 2995, 'freak': 1824, 'fortunately': 1805, 'gold': 1932, 'nine': 3017, 'buddies': 608, 'intention': 2319, 'rob': 3710, 'england': 1482, 'russian': 3762, 'busy': 635, 'dave': 1123, 'andrews': 229, 'fashioned': 1660, 'tales': 4357, 'waves': 4819, 'dancer': 1104, 'succeeded': 4263, 'foreign': 1790, 'explicit': 1591, 'survival': 4320, 'individuals': 2278, 'quotes': 3497, 'hitchcock': 2123, 'intensity': 2317, 'classical': 836, 'principal': 3398, 'corruption': 1002, 'color': 877, 'fourth': 1813, 'essence': 1521, 'craven': 1034, 'dragged': 1343, 'belongs': 460, 'elm': 1447, 'climactic': 848, 'blair': 497, 'influence': 2286, 'whale': 4857, 'mate': 2765, 'succeed': 4262, 'cruel': 1070, 'ice': 2210, 'jaws': 2385, 'mel': 2796, 'brooks': 596, 'homeless': 2143, 'fancy': 1649, 'chaplin': 756, 'dean': 1139, 'cell': 730, 'psychiatrist': 3455, 'shirt': 3937, 'touches': 4535, 'enters': 1496, 'lights': 2597, 'finger': 1731, 'spoof': 4127, 'superman': 4301, 'careers': 687, 'sally': 3776, 'introduce': 2336, 'unseen': 4678, 'paranoia': 3186, 'baker': 385, 'specifically': 4100, 'doubts': 1333, 'carrie': 697, 'fisher': 1739, 'promised': 3431, 'hamlet': 2013, 'lifestyle': 2593, 'ensemble': 1492, 'rise': 3702, 'lovable': 2668, 'tears': 4380, 'crafted': 1029, 'disc': 1278, 'andrew': 228, 'capturing': 679, 'reveals': 3673, '2001': 31, 'exposed': 1598, 'womens': 4924, 'australia': 356, 'choreographed': 801, 'chest': 784, 'frankenstein': 1822, 'terrorists': 4414, 'appropriate': 283, 'ignorant': 2223, 'unconvincing': 4638, 'strip': 4228, 'professor': 3422, 'masses': 2755, 'inept': 2281, 'perform': 3227, 'generous': 1886, 'woody': 4936, 'craft': 1028, 'manhattan': 2726, 'striking': 4226, 'polished': 3323, 'stress': 4220, 'interviews': 2330, 'kinda': 2477, 'worry': 4950, 'horrifying': 2167, 'jon': 2416, 'voight': 4764, 'burt': 629, 'kiss': 2483, 'relies': 3606, 'lou': 2663, 'mindless': 2851, '1980': 20, 'focuses': 1768, 'amitabh': 216, 'delivery': 1173, 'directions': 1262, 'lengthy': 2570, 'oil': 3097, 'iraq': 2351, 'distribution': 1298, 'marketing': 2741, 'financial': 1725, 'possessed': 3347, 'flash': 1745, 'blowing': 515, 'passes': 3203, 'caring': 691, 'meaningless': 2782, 'breaks': 571, 'complicated': 925, 'chasing': 772, 'crack': 1027, 'inducing': 2279, 'tommy': 4516, 'pacino': 3164, 'ear': 1397, 'upset': 4687, 'guest': 1992, 'poster': 3353, 'clip': 851, 'sold': 4052, 'appalling': 268, 'continued': 970, 'split': 4120, 'accused': 91, 'gangsters': 1869, 'accents': 79, 'montage': 2894, 'karen': 2444, 'nurse': 3063, 'secrets': 3852, 'persona': 3239, 'occasionally': 3075, 'performer': 3231, 'notably': 3042, 'unexpected': 4650, 'succeeds': 4264, 'efforts': 1433, 'worthwhile': 4955, 'unaware': 4632, 'pet': 3246, 'definite': 1161, 'hang': 2022, 'buff': 611, 'disturbed': 1299, 'ramones': 3512, 'wealthy': 4827, 'patients': 3212, 'spoil': 4121, 'elderly': 1440, 'stereotype': 4178, 'jay': 2386, 'market': 2740, 'technique': 4383, 'scope': 3821, 'occasional': 3074, '2006': 36, 'noticed': 3049, 'universal': 4665, 'extra': 1606, 'searching': 3842, 'susan': 4326, 'investigate': 2342, 'paint': 3173, 'influenced': 2287, 'caused': 724, 'raped': 3522, 'snow': 4045, 'jeremy': 2394, 'scientific': 3817, 'scores': 3823, 'justify': 2439, 'vote': 4766, 'le': 2544, 'womans': 4922, 'prince': 3396, 'relations': 3596, '2002': 32, 'musicals': 2948, 'warner': 4799, 'depression': 1189, 'troubles': 4594, 'ruby': 3749, 'cagney': 646, 'dances': 1106, 'styles': 4250, 'arms': 294, 'legs': 2566, 'produce': 3413, 'sadistic': 3768, 'brutally': 604, 'giallo': 1904, 'massacre': 2754, 'repeatedly': 3632, 'forms': 1801, 'desired': 1206, 'resulting': 3661, 'forgettable': 1794, 'hardcore': 2034, 'errors': 1516, 'mildly': 2840, 'noted': 3045, 'performs': 3234, 'convincingly': 986, 'recognize': 3569, 'blew': 505, 'impress': 2250, 'hood': 2151, 'pacing': 3163, 'campy': 664, 'uwe': 4703, 'boll': 529, '2003': 33, 'balance': 387, 'evidence': 1546, 'scientists': 3819, 'golden': 1934, 'explosions': 1597, 'chases': 771, 'relation': 3595, 'hat': 2045, 'reel': 3581, 'blow': 514, 'overacting': 3149, 'messed': 2821, '1990s': 25, '1972': 18, 'clothing': 861, 'aids': 161, 'muslim': 2949, 'rage': 3505, 'bird': 484, 'thief': 4448, 'lloyd': 2630, 'sum': 4289, 'welcome': 4842, 'commercials': 903, 'parties': 3196, 'sport': 4129, 'stated': 4161, 'southern': 4088, 'rocket': 3721, 'warming': 4795, 'craig': 1030, 'stevens': 4183, 'gene': 1879, 'ought': 3138, 'angle': 236, '1983': 22, 'generic': 1885, 'idiotic': 2219, 'unfunny': 4655, 'ruins': 3752, 'billy': 482, 'tall': 4362, '1996': 26, 'jane': 2380, 'eyre': 1614, 'miscast': 2862, 'rochester': 3719, 'winter': 4900, 'complexity': 924, 'conversations': 981, 'staged': 4140, 'reduced': 3579, 'crucial': 1068, 'charlotte': 766, 'mrs': 2930, 'reed': 3580, '18': 10, 'mask': 2752, 'passionate': 3206, 'lively': 2627, 'necessarily': 2983, 'remain': 3609, 'eccentric': 1414, 'moody': 2899, 'rank': 3518, 'harvey': 2042, 'schools': 3814, 'primary': 3394, 'display': 1291, 'immensely': 2243, 'erotic': 1515, 'screenwriter': 3833, 'grand': 1953, 'spent': 4108, 'joined': 2413, 'convey': 982, 'ranks': 3519, 'protagonists': 3442, 'alexander': 180, 'finest': 1730, 'mars': 2746, 'format': 1799, 'blows': 517, 'shelf': 3926, 'angela': 232, 'nonetheless': 3029, 'study': 4242, 'gabriel': 1859, 'priceless': 3390, 'chicks': 787, 'shortly': 3947, 'bright': 581, 'rambo': 3511, 'frequently': 1832, 'tame': 4363, 'hooked': 2153, 'movement': 2923, 'scripts': 3836, 'recall': 3562, 'pink': 3277, 'carefully': 689, 'tooth': 4524, 'properly': 3437, 'sinatra': 3989, '1940s': 13, 'glorious': 1921, 'mundane': 2938, 'wholly': 4874, 'dust': 1388, 'masterpieces': 2760, 'adequate': 120, 'characterization': 759, 'rough': 3741, 'surreal': 4317, 'continuity': 972, 'nuts': 3064, 'stilted': 4190, 'forty': 1807, 'requires': 3642, 'minimum': 2856, 'realise': 3548, 'occurs': 3078, 'noble': 3021, 'satisfied': 3789, 'pretending': 3382, 'duo': 1386, 'stranger': 4213, 'strangers': 4214, 'tad': 4347, 'dollars': 1315, 'expensive': 1579, 'bottle': 550, 'depicts': 1186, 'unit': 4663, 'diana': 1237, 'indie': 2276, 'beats': 426, 'cliche': 843, 'discovery': 1282, 'flashback': 1746, 'danger': 1109, 'diamond': 1236, 'represent': 3637, 'russell': 3761, 'hippie': 2115, 'doc': 1303, 'holiday': 2134, 'santa': 3783, 'mentions': 2813, 'cuba': 1075, 'courage': 1018, 'unfolds': 4651, 'turner': 4607, 'singing': 3995, 'tarzan': 4367, 'tends': 4402, 'studios': 4241, 'lane': 2515, 'todd': 4510, 'wrapped': 4964, 'edgar': 1417, 'kennedy': 2454, 'shall': 3916, 'incident': 2260, 'bette': 471, 'constructed': 959, 'daddy': 1096, 'condition': 937, 'rolled': 3729, 'accomplished': 87, 'genres': 1889, 'masters': 2761, 'dynamic': 1394, 'delight': 1167, 'turkey': 4604, 'menacing': 2807, 'stunts': 4246, 'alongside': 196, 'relatively': 3600, 'ii': 2226, 'gandhi': 1866, 'territory': 4411, 'vincent': 4746, 'wallace': 4782, 'stale': 4141, 'assumed': 329, 'wouldve': 4959, 'ha': 2002, 'edition': 1422, 'drawing': 1350, 'established': 1524, 'crocodile': 1065, 'shoes': 3941, 'soccer': 4048, 'pitch': 3279, 'purple': 3473, 'convince': 983, 'border': 539, 'possibilities': 3348, 'stunt': 4245, 'dubbing': 1380, 'ironically': 2356, 'backdrop': 379, 'tribute': 4581, 'alike': 185, 'tons': 4520, 'revealing': 3672, 'convoluted': 987, 'suspects': 4328, 'grandfather': 1954, 'splendid': 4119, 'coffee': 870, 'personalities': 3241, 'changing': 752, 'torn': 4528, 'cg': 739, 'witnessed': 4915, 'multi': 2935, 'anyways': 262, 'overly': 3155, 'foster': 1809, 'philosophical': 3253, 'viewed': 4737, 'highest': 2102, 'understandable': 4644, 'interview': 2329, 'extreme': 1609, 'inventive': 2341, 'wishes': 4906, 'tour': 4538, 'seed': 3856, 'someones': 4065, 'contrived': 976, 'mighty': 2836, 'hollywoods': 2138, 'flies': 1756, 'senseless': 3878, 'chain': 741, 'popcorn': 3331, 'conservative': 948, 'consistently': 954, 'conversation': 980, 'misery': 2865, 'endearing': 1469, 'visits': 4756, 'abilities': 64, 'tongue': 4518, 'access': 83, 'roger': 3724, '60': 53, 'ships': 3935, 'fortune': 1806, 'rival': 3706, 'charismatic': 763, 'veteran': 4724, 'loyal': 2679, 'elaborate': 1439, 'grey': 1973, 'kissing': 2484, 'focused': 1767, 'faults': 1669, 'dalton': 1098, 'gag': 1861, 'mistress': 2874, 'edie': 1419, 'ignored': 2225, 'deceased': 1146, 'photo': 3257, 'bobby': 525, 'doom': 1326, 'guessed': 1990, 'humble': 2191, 'mickey': 2831, 'east': 1407, 'scottish': 3825, 'dedicated': 1153, 'moon': 2900, 'altogether': 202, 'charisma': 762, 'doors': 1329, 'fest': 1696, 'dressed': 1358, 'outfit': 3144, 'tracks': 4545, 'riding': 3695, 'definition': 1163, 'fairy': 1632, 'vengeance': 4719, 'steal': 4170, 'bucks': 606, 'rose': 3739, 'psychic': 3456, 'vicious': 4728, 'hundred': 2195, 'cards': 683, 'betty': 474, 'deliberately': 1166, 'taylor': 4372, 'notion': 3050, 'discovers': 1281, 'bite': 489, 'truck': 4595, 'largely': 2518, 'elephant': 1444, '1984': 23, 'tap': 4364, 'asleep': 320, 'conspiracy': 956, 'ruthless': 3764, 'mob': 2879, 'suspicious': 4332, 'load': 2631, 'raising': 3509, 'warmth': 4796, 'drags': 1345, 'creators': 1044, 'safety': 3772, 'ensues': 1493, 'protect': 3443, 'interaction': 2322, 'performed': 3230, 'khan': 2459, 'mothers': 2912, 'abc': 63, 'losing': 2658, 'mountain': 2917, 'meaningful': 2781, 'directorial': 1265, 'creation': 1040, 'mistaken': 2872, 'april': 284, 'manager': 2724, 'grave': 1962, 'driver': 1366, 'root': 3737, 'bold': 528, 'brian': 576, 'everywhere': 1545, 'interpretation': 2328, 'matthew': 2772, 'slapstick': 4019, 'ritter': 3705, 'bat': 410, 'spirited': 4114, 'empathy': 1462, 'satisfy': 3790, 'reasonable': 3558, 'brazil': 568, 'politically': 3325, 'eighties': 1437, 'category': 718, 'arguably': 289, 'deadly': 1133, 'cheated': 775, 'specific': 4099, 'curtis': 1087, 'neighbors': 2994, 'teaching': 4377, 'macy': 2695, 'sutherland': 4333, 'campbell': 663, 'abandoned': 62, 'thrilling': 4474, 'shakespeare': 3915, 'ultimate': 4627, 'responsibility': 3655, 'punishment': 3467, 'lazy': 2543, 'arrival': 299, 'teeth': 4393, 'topic': 4526, 'sunday': 4293, 'affect': 136, 'loosely': 2651, 'rocks': 3722, 'grinch': 1975, 'stanley': 4148, 'cats': 721, 'exotic': 1574, 'models': 2881, 'wet': 4855, 'pants': 3182, 'dollar': 1314, 'string': 4227, 'leo': 2571, 'outcome': 3142, 'nelson': 2997, 'exploration': 1593, 'defense': 1159, 'colour': 880, 'pleased': 3305, 'maker': 2714, 'trapped': 4564, 'expressed': 1601, 'feminist': 1695, 'plight': 3308, 'goodness': 1938, 'bo': 521, 'spike': 4111, 'choreography': 802, 'dawn': 1127, 'abusive': 75, 'earl': 1398, 'doomed': 1327, 'panic': 3181, 'wwii': 4975, 'bands': 392, 'transition': 4561, 'annoyed': 248, 'polanski': 3321, 'removed': 3624, 'dreary': 1356, 'grasp': 1960, 'travesty': 4570, 'robbins': 3712, 'hills': 2109, 'pan': 3180, 'appreciated': 280, 'irrelevant': 2358, 'arm': 292, 'domino': 1319, 'lily': 2605, 'stole': 4194, 'falk': 1636, 'roman': 3731, 'guide': 1993, 'producing': 3417, 'judy': 2426, 'returning': 3667, 'widow': 4883, 'vhs': 4725, 'bela': 450, 'lugosi': 2686, 'dig': 1250, 'exists': 1573, 'toys': 4543, 'hoffman': 2128, 'alcohol': 176, 'beach': 419, 'duty': 1390, 'smoke': 4039, 'flynn': 1765, 'officers': 3093, 'cooper': 990, 'females': 1694, 'clues': 865, 'gadget': 1860, 'voiced': 4762, 'wore': 4939, 'creator': 1043, 'greedy': 1969, 'paulie': 3215, 'harris': 2038, 'streep': 4215, 'glenn': 1918, 'affected': 137, 'reporter': 3636, 'misses': 2868, 'union': 4661, 'unreal': 4676, 'liberal': 2588, 'health': 2060, 'pat': 3208, 'stiller': 4189, 'generated': 1882, 'limits': 2607, 'monk': 2889, 'methods': 2825, 'ps': 3453, 'idiots': 2220, 'luckily': 2682, 'manipulative': 2727, 'installment': 2303, 'britain': 588, 'scheme': 3812, 'raymond': 3534, 'paltrow': 3178, 'hook': 2152, 'tiger': 4491, 'toy': 4542, 'population': 3335, '2000': 30, 'disjointed': 1287, 'wicked': 4879, 'scarecrow': 3804, 'losers': 2656, 'beast': 422, 'poetic': 3313, 'kingdom': 2480, 'fool': 1779, 'dutch': 1389, 'shorts': 3948, 'september': 3884, 'store': 4204, 'childish': 791, 'composed': 926, 'photographed': 3258, 'troops': 4591, 'imaginative': 2237, 'host': 2173, 'cox': 1026, 'petty': 3249, 'chuck': 812, 'intrigue': 2333, 'matrix': 2767, 'prequel': 3372, 'spare': 4093, 'lynch': 2691, 'global': 1920, 'oz': 3160, 'illness': 2230, 'georges': 1894, 'trio': 4587, 'mtv': 2933, 'korean': 2495, 'beneath': 464, 'confidence': 938, 'instant': 2305, 'spain': 4091, 'motivations': 2915, 'peters': 3248, 'ham': 2011, 'ho': 2127, 'mixture': 2878, 'quest': 3486, 'perfection': 3225, 'argue': 290, 'obscure': 3068, 'blade': 495, 'intimate': 2331, 'chaos': 755, 'maintain': 2710, 'carol': 693, 'surfing': 4311, 'laurel': 2537, 'hardy': 2037, 'slick': 4026, 'adorable': 124, 'struck': 4232, 'answers': 252, 'lincoln': 2608, 'despair': 1207, 'surrounding': 4319, 'wed': 4835, 'fifteen': 1706, 'distinct': 1296, 'orange': 3125, 'wendy': 4846, 'familys': 1646, 'overlooked': 3154, 'modesty': 2883, 'dignity': 1252, 'suggested': 4281, 'lees': 2560, 'improved': 2255, 'thousand': 4465, 'enthusiasm': 1501, 'planning': 3291, 'couples': 1017, 'acceptable': 81, 'signed': 3971, 'seeks': 3860, 'ideal': 2214, 'branagh': 564, 'cinemas': 817, 'nazis': 2978, 'hiding': 2099, 'burn': 625, 'mayor': 2777, 'keaton': 2448, 'shirley': 3936, 'porno': 3337, 'chess': 783, 'staff': 4138, 'horrendous': 2162, '1933': 12, 'photos': 3261, 'gods': 1928, 'deaf': 1134, 'widmark': 4882, 'ratings': 3530, 'philosophy': 3254, 'kay': 2447, 'arnold': 296, 'punk': 3468, 'caliber': 649, 'eastwood': 1409, 'joey': 2408, 'beer': 439, 'chapter': 757, 'melting': 2799, 'ballet': 389, 'waited': 4771, 'map': 2733, 'redemption': 3578, 'awe': 370, 'drunken': 1376, 'horrific': 2166, 'elsewhere': 1449, 'mildred': 2841, 'flawless': 1751, 'ethan': 1528, 'implausible': 2245, 'alert': 178, 'firstly': 1737, 'holly': 2136, 'birds': 485, 'reasonably': 3559, 'donna': 1323, 'hyde': 2206, 'brady': 561, '3rd': 47, 'square': 4136, 'karloff': 2445, 'overcome': 3151, 'neo': 2998, 'dropping': 1371, 'trail': 4553, 'namely': 2962, 'jesse': 2397, 'birthday': 487, 'cure': 1081, 'segments': 3868, 'builds': 617, 'lips': 2615, 'cheek': 779, 'masterful': 2758, 'gender': 1878, 'randomly': 3515, 'chicago': 785, 'subtlety': 4261, 'hart': 2041, 'solution': 4059, 'simplicity': 3984, 'contained': 963, 'kapoor': 2443, 'visible': 4753, 'antics': 255, 'atlantis': 332, 'spectacular': 4101, 'dancers': 1105, 'isolated': 2363, 'creativity': 1042, 'garbo': 1871, 'shark': 3921, 'disappeared': 1271, 'drew': 1360, 'beaten': 424, 'scrooge': 3837, 'mall': 2720, 'witnesses': 4916, 'sellers': 3872, 'phony': 3256, 'survivor': 4324, 'explored': 1595, 'bumbling': 622, 'royal': 3746, 'enterprise': 1495, 'columbo': 881, 'reactions': 3542, 'spider': 4109, 'jeffrey': 2391, 'floating': 1758, 'wacky': 4769, 'represented': 3638, 'comics': 895, 'darker': 1116, 'ned': 2986, 'blacks': 494, 'transformation': 4560, 'swimming': 4338, 'alfred': 181, 'waters': 4817, 'dawson': 1128, 'bugs': 613, 'retired': 3664, 'omen': 3104, 'borrowed': 545, 'louise': 2666, 'wrap': 4963, 'fonda': 1777, 'restored': 3659, 'push': 3477, 'brando': 566, 'beatty': 427, 'basketball': 409, 'resort': 3650, 'championship': 745, 'benefit': 465, 'assigned': 325, 'wizard': 4919, 'twilight': 4614, 'activities': 102, 'miike': 2837, 'babe': 375, 'cave': 727, 'marty': 2749, 'showcase': 3954, 'suspend': 4329, 'victoria': 4732, 'linda': 2609, 'holmes': 2139, 'purposes': 3475, 'sincere': 3991, 'astaire': 330, 'remarks': 3615, 'kubrick': 2496, 'stones': 4198, 'scooby': 3820, 'doo': 1325, 'foul': 1810, 'jaw': 2384, 'estate': 1525, 'frequent': 1831, 'bud': 607, 'chased': 770, 'kicking': 2462, 'madonna': 2699, 'property': 3438, 'sink': 3999, 'elvis': 1451, 'purchase': 3469, 'matches': 2764, 'robbery': 3711, 'lumet': 2688, 'gerard': 1895, 'spread': 4133, '1973': 19, 'generations': 1884, 'stooges': 4200, 'hank': 2024, 'simmons': 3981, 'mechanical': 2788, 'respected': 3653, 'robots': 3718, 'mann': 2728, 'nonsensical': 3031, 'dub': 1378, 'dolph': 1317, 'rocky': 3723, 'che': 773, 'sullivan': 4288, 'miserable': 2863, 'witches': 4910, 'unoriginal': 4673, 'iran': 2350, 'stargate': 4151, 'gundam': 1997, 'swim': 4337, 'pokemon': 3320}\n"
     ]
    }
   ],
   "source": [
    "print(str(vocabulary))"
   ]
  },
  {
   "cell_type": "markdown",
   "metadata": {},
   "source": [
    "Once you have added the endpoint name to the Lambda function, click on **Save**. Your Lambda function is now up and running. Next we need to create a way for our web app to execute the Lambda function."
   ]
  },
  {
   "cell_type": "markdown",
   "metadata": {},
   "source": [
    "### Setting up API Gateway\n",
    "\n",
    "Now that our Lambda function is set up, it is time to create a new API using API Gateway that will trigger the Lambda function we have just created.\n",
    "\n",
    "Using AWS Console, navigate to **Amazon API Gateway** and then click on **Get started**.\n",
    "\n",
    "On the next page, make sure that **New API** is selected and give the new api a name, for example, `sentiment_analysis_web_app`. Then, click on **Create API**.\n",
    "\n",
    "Now we have created an API, however it doesn't currently do anything. What we want it to do is to trigger the Lambda function that we created earlier.\n",
    "\n",
    "Select the **Actions** dropdown menu and click **Create Method**. A new blank method will be created, select its dropdown menu and select **POST**, then click on the check mark beside it.\n",
    "\n",
    "For the integration point, make sure that **Lambda Function** is selected and click on the **Use Lambda Proxy integration**. This option makes sure that the data that is sent to the API is then sent directly to the Lambda function with no processing. It also means that the return value must be a proper response object as it will also not be processed by API Gateway.\n",
    "\n",
    "Type the name of the Lambda function you created earlier into the **Lambda Function** text entry box and then click on **Save**. Click on **OK** in the pop-up box that then appears, giving permission to API Gateway to invoke the Lambda function you created.\n",
    "\n",
    "The last step in creating the API Gateway is to select the **Actions** dropdown and click on **Deploy API**. You will need to create a new Deployment stage and name it anything you like, for example `prod`.\n",
    "\n",
    "You have now successfully set up a public API to access your SageMaker model. Make sure to copy or write down the URL provided to invoke your newly created public API as this will be needed in the next step. This URL can be found at the top of the page, highlighted in blue next to the text **Invoke URL**."
   ]
  },
  {
   "cell_type": "markdown",
   "metadata": {},
   "source": [
    "## Step 7: Deploying our web app\n",
    "\n",
    "Now that we have a publicly available API, we can start using it in a web app. For our purposes, we have provided a simple static html file which can make use of the public api you created earlier.\n",
    "\n",
    "In the `website` folder there should be a file called `index.html`. Download the file to your computer and open that file up in a text editor of your choice. There should be a line which contains **\\*\\*REPLACE WITH PUBLIC API URL\\*\\***. Replace this string with the url that you wrote down in the last step and then save the file.\n",
    "\n",
    "Now, if you open `index.html` on your local computer, your browser will behave as a local web server and you can use the provided site to interact with your SageMaker model.\n",
    "\n",
    "If you'd like to go further, you can host this html file anywhere you'd like, for example using github or hosting a static site on Amazon's S3. Once you have done this you can share the link with anyone you'd like and have them play with it too!\n",
    "\n",
    "> **Important Note** In order for the web app to communicate with the SageMaker endpoint, the endpoint has to actually be deployed and running. This means that you are paying for it. Make sure that the endpoint is running when you want to use the web app but that you shut it down when you don't need it, otherwise you will end up with a surprisingly large AWS bill."
   ]
  },
  {
   "cell_type": "markdown",
   "metadata": {},
   "source": [
    "### Delete the endpoint\n",
    "\n",
    "Remember to always shut down your endpoint if you are no longer using it. You are charged for the length of time that the endpoint is running so if you forget and leave it on you could end up with an unexpectedly large bill."
   ]
  },
  {
   "cell_type": "code",
   "execution_count": 51,
   "metadata": {},
   "outputs": [],
   "source": [
    "xgb_predictor.delete_endpoint()"
   ]
  },
  {
   "cell_type": "markdown",
   "metadata": {},
   "source": [
    "## Optional: Clean up\n",
    "\n",
    "The default notebook instance on SageMaker doesn't have a lot of excess disk space available. As you continue to complete and execute notebooks you will eventually fill up this disk space, leading to errors which can be difficult to diagnose. Once you are completely finished using a notebook it is a good idea to remove the files that you created along the way. Of course, you can do this from the terminal or from the notebook hub if you would like. The cell below contains some commands to clean up the created files from within the notebook."
   ]
  },
  {
   "cell_type": "code",
   "execution_count": null,
   "metadata": {},
   "outputs": [],
   "source": [
    "# First we will remove all of the files contained in the data_dir directory\n",
    "!rm $data_dir/*\n",
    "\n",
    "# And then we delete the directory itself\n",
    "!rmdir $data_dir\n",
    "\n",
    "# Similarly we remove the files in the cache_dir directory and the directory itself\n",
    "!rm $cache_dir/*\n",
    "!rmdir $cache_dir"
   ]
  },
  {
   "cell_type": "code",
   "execution_count": null,
   "metadata": {},
   "outputs": [],
   "source": []
  }
 ],
 "metadata": {
  "kernelspec": {
   "display_name": "conda_python3",
   "language": "python",
   "name": "conda_python3"
  },
  "language_info": {
   "codemirror_mode": {
    "name": "ipython",
    "version": 3
   },
   "file_extension": ".py",
   "mimetype": "text/x-python",
   "name": "python",
   "nbconvert_exporter": "python",
   "pygments_lexer": "ipython3",
   "version": "3.6.5"
  }
 },
 "nbformat": 4,
 "nbformat_minor": 2
}
